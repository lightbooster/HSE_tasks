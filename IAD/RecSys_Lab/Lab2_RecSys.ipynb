{
  "nbformat": 4,
  "nbformat_minor": 0,
  "metadata": {
    "colab": {
      "name": "Lab2_RecSys.ipynb",
      "provenance": [],
      "collapsed_sections": [],
      "toc_visible": true
    },
    "kernelspec": {
      "name": "python3",
      "display_name": "Python 3"
    },
    "language_info": {
      "name": "python"
    }
  },
  "cells": [
    {
      "cell_type": "markdown",
      "source": [
        "# Lab 2. Recomendation Systems\n",
        "---\n",
        "#### by Sapozhnikov Andrey"
      ],
      "metadata": {
        "id": "ymonr8KvMKcP"
      }
    },
    {
      "cell_type": "code",
      "execution_count": 2,
      "metadata": {
        "colab": {
          "base_uri": "https://localhost:8080/"
        },
        "id": "msmBkf5UKNzo",
        "outputId": "829c703c-d662-40b2-a9d0-5434cf1e5c31"
      },
      "outputs": [
        {
          "output_type": "stream",
          "name": "stdout",
          "text": [
            "Archive:  ./archive.zip\n",
            "  inflating: anime.csv               \n",
            "  inflating: rating.csv              \n"
          ]
        }
      ],
      "source": [
        "! cp ./drive/MyDrive/archive\\ \\(1\\).zip ./archive.zip\n",
        "! unzip ./archive.zip"
      ]
    },
    {
      "cell_type": "code",
      "source": [
        "import pandas as pd\n",
        "import numpy  as np\n",
        "import seaborn as sns\n",
        "import random\n",
        "import matplotlib.pyplot as plt"
      ],
      "metadata": {
        "id": "ntHkr7whMkK5"
      },
      "execution_count": 87,
      "outputs": []
    },
    {
      "cell_type": "code",
      "source": [
        "anime_df = pd.read_csv(\"anime.csv\")\n",
        "print(f\"Data size: {len(anime_df)}\")\n",
        "anime_df.head()"
      ],
      "metadata": {
        "colab": {
          "base_uri": "https://localhost:8080/",
          "height": 223
        },
        "id": "nw20tRSDMqUm",
        "outputId": "b8bb1572-ab32-4ad3-96c3-458f5b678129"
      },
      "execution_count": 4,
      "outputs": [
        {
          "output_type": "stream",
          "name": "stdout",
          "text": [
            "Data size: 12294\n"
          ]
        },
        {
          "output_type": "execute_result",
          "data": {
            "text/plain": [
              "   anime_id                              name  \\\n",
              "0     32281                    Kimi no Na wa.   \n",
              "1      5114  Fullmetal Alchemist: Brotherhood   \n",
              "2     28977                          Gintama°   \n",
              "3      9253                       Steins;Gate   \n",
              "4      9969                     Gintama&#039;   \n",
              "\n",
              "                                               genre   type episodes  rating  \\\n",
              "0               Drama, Romance, School, Supernatural  Movie        1    9.37   \n",
              "1  Action, Adventure, Drama, Fantasy, Magic, Mili...     TV       64    9.26   \n",
              "2  Action, Comedy, Historical, Parody, Samurai, S...     TV       51    9.25   \n",
              "3                                   Sci-Fi, Thriller     TV       24    9.17   \n",
              "4  Action, Comedy, Historical, Parody, Samurai, S...     TV       51    9.16   \n",
              "\n",
              "   members  \n",
              "0   200630  \n",
              "1   793665  \n",
              "2   114262  \n",
              "3   673572  \n",
              "4   151266  "
            ],
            "text/html": [
              "\n",
              "  <div id=\"df-08cc07ed-c89f-4aab-abfd-05cf6d1a28d9\">\n",
              "    <div class=\"colab-df-container\">\n",
              "      <div>\n",
              "<style scoped>\n",
              "    .dataframe tbody tr th:only-of-type {\n",
              "        vertical-align: middle;\n",
              "    }\n",
              "\n",
              "    .dataframe tbody tr th {\n",
              "        vertical-align: top;\n",
              "    }\n",
              "\n",
              "    .dataframe thead th {\n",
              "        text-align: right;\n",
              "    }\n",
              "</style>\n",
              "<table border=\"1\" class=\"dataframe\">\n",
              "  <thead>\n",
              "    <tr style=\"text-align: right;\">\n",
              "      <th></th>\n",
              "      <th>anime_id</th>\n",
              "      <th>name</th>\n",
              "      <th>genre</th>\n",
              "      <th>type</th>\n",
              "      <th>episodes</th>\n",
              "      <th>rating</th>\n",
              "      <th>members</th>\n",
              "    </tr>\n",
              "  </thead>\n",
              "  <tbody>\n",
              "    <tr>\n",
              "      <th>0</th>\n",
              "      <td>32281</td>\n",
              "      <td>Kimi no Na wa.</td>\n",
              "      <td>Drama, Romance, School, Supernatural</td>\n",
              "      <td>Movie</td>\n",
              "      <td>1</td>\n",
              "      <td>9.37</td>\n",
              "      <td>200630</td>\n",
              "    </tr>\n",
              "    <tr>\n",
              "      <th>1</th>\n",
              "      <td>5114</td>\n",
              "      <td>Fullmetal Alchemist: Brotherhood</td>\n",
              "      <td>Action, Adventure, Drama, Fantasy, Magic, Mili...</td>\n",
              "      <td>TV</td>\n",
              "      <td>64</td>\n",
              "      <td>9.26</td>\n",
              "      <td>793665</td>\n",
              "    </tr>\n",
              "    <tr>\n",
              "      <th>2</th>\n",
              "      <td>28977</td>\n",
              "      <td>Gintama°</td>\n",
              "      <td>Action, Comedy, Historical, Parody, Samurai, S...</td>\n",
              "      <td>TV</td>\n",
              "      <td>51</td>\n",
              "      <td>9.25</td>\n",
              "      <td>114262</td>\n",
              "    </tr>\n",
              "    <tr>\n",
              "      <th>3</th>\n",
              "      <td>9253</td>\n",
              "      <td>Steins;Gate</td>\n",
              "      <td>Sci-Fi, Thriller</td>\n",
              "      <td>TV</td>\n",
              "      <td>24</td>\n",
              "      <td>9.17</td>\n",
              "      <td>673572</td>\n",
              "    </tr>\n",
              "    <tr>\n",
              "      <th>4</th>\n",
              "      <td>9969</td>\n",
              "      <td>Gintama&amp;#039;</td>\n",
              "      <td>Action, Comedy, Historical, Parody, Samurai, S...</td>\n",
              "      <td>TV</td>\n",
              "      <td>51</td>\n",
              "      <td>9.16</td>\n",
              "      <td>151266</td>\n",
              "    </tr>\n",
              "  </tbody>\n",
              "</table>\n",
              "</div>\n",
              "      <button class=\"colab-df-convert\" onclick=\"convertToInteractive('df-08cc07ed-c89f-4aab-abfd-05cf6d1a28d9')\"\n",
              "              title=\"Convert this dataframe to an interactive table.\"\n",
              "              style=\"display:none;\">\n",
              "        \n",
              "  <svg xmlns=\"http://www.w3.org/2000/svg\" height=\"24px\"viewBox=\"0 0 24 24\"\n",
              "       width=\"24px\">\n",
              "    <path d=\"M0 0h24v24H0V0z\" fill=\"none\"/>\n",
              "    <path d=\"M18.56 5.44l.94 2.06.94-2.06 2.06-.94-2.06-.94-.94-2.06-.94 2.06-2.06.94zm-11 1L8.5 8.5l.94-2.06 2.06-.94-2.06-.94L8.5 2.5l-.94 2.06-2.06.94zm10 10l.94 2.06.94-2.06 2.06-.94-2.06-.94-.94-2.06-.94 2.06-2.06.94z\"/><path d=\"M17.41 7.96l-1.37-1.37c-.4-.4-.92-.59-1.43-.59-.52 0-1.04.2-1.43.59L10.3 9.45l-7.72 7.72c-.78.78-.78 2.05 0 2.83L4 21.41c.39.39.9.59 1.41.59.51 0 1.02-.2 1.41-.59l7.78-7.78 2.81-2.81c.8-.78.8-2.07 0-2.86zM5.41 20L4 18.59l7.72-7.72 1.47 1.35L5.41 20z\"/>\n",
              "  </svg>\n",
              "      </button>\n",
              "      \n",
              "  <style>\n",
              "    .colab-df-container {\n",
              "      display:flex;\n",
              "      flex-wrap:wrap;\n",
              "      gap: 12px;\n",
              "    }\n",
              "\n",
              "    .colab-df-convert {\n",
              "      background-color: #E8F0FE;\n",
              "      border: none;\n",
              "      border-radius: 50%;\n",
              "      cursor: pointer;\n",
              "      display: none;\n",
              "      fill: #1967D2;\n",
              "      height: 32px;\n",
              "      padding: 0 0 0 0;\n",
              "      width: 32px;\n",
              "    }\n",
              "\n",
              "    .colab-df-convert:hover {\n",
              "      background-color: #E2EBFA;\n",
              "      box-shadow: 0px 1px 2px rgba(60, 64, 67, 0.3), 0px 1px 3px 1px rgba(60, 64, 67, 0.15);\n",
              "      fill: #174EA6;\n",
              "    }\n",
              "\n",
              "    [theme=dark] .colab-df-convert {\n",
              "      background-color: #3B4455;\n",
              "      fill: #D2E3FC;\n",
              "    }\n",
              "\n",
              "    [theme=dark] .colab-df-convert:hover {\n",
              "      background-color: #434B5C;\n",
              "      box-shadow: 0px 1px 3px 1px rgba(0, 0, 0, 0.15);\n",
              "      filter: drop-shadow(0px 1px 2px rgba(0, 0, 0, 0.3));\n",
              "      fill: #FFFFFF;\n",
              "    }\n",
              "  </style>\n",
              "\n",
              "      <script>\n",
              "        const buttonEl =\n",
              "          document.querySelector('#df-08cc07ed-c89f-4aab-abfd-05cf6d1a28d9 button.colab-df-convert');\n",
              "        buttonEl.style.display =\n",
              "          google.colab.kernel.accessAllowed ? 'block' : 'none';\n",
              "\n",
              "        async function convertToInteractive(key) {\n",
              "          const element = document.querySelector('#df-08cc07ed-c89f-4aab-abfd-05cf6d1a28d9');\n",
              "          const dataTable =\n",
              "            await google.colab.kernel.invokeFunction('convertToInteractive',\n",
              "                                                     [key], {});\n",
              "          if (!dataTable) return;\n",
              "\n",
              "          const docLinkHtml = 'Like what you see? Visit the ' +\n",
              "            '<a target=\"_blank\" href=https://colab.research.google.com/notebooks/data_table.ipynb>data table notebook</a>'\n",
              "            + ' to learn more about interactive tables.';\n",
              "          element.innerHTML = '';\n",
              "          dataTable['output_type'] = 'display_data';\n",
              "          await google.colab.output.renderOutput(dataTable, element);\n",
              "          const docLink = document.createElement('div');\n",
              "          docLink.innerHTML = docLinkHtml;\n",
              "          element.appendChild(docLink);\n",
              "        }\n",
              "      </script>\n",
              "    </div>\n",
              "  </div>\n",
              "  "
            ]
          },
          "metadata": {},
          "execution_count": 4
        }
      ]
    },
    {
      "cell_type": "code",
      "source": [
        "rating_df = pd.read_csv(\"rating.csv\")\n",
        "print(f\"Data size: {len(rating_df)}\")\n",
        "rating_df.head()"
      ],
      "metadata": {
        "colab": {
          "base_uri": "https://localhost:8080/",
          "height": 223
        },
        "id": "WIyFJFfHMwL8",
        "outputId": "57861e88-c20d-45e6-8ead-a78ab3c6c2c0"
      },
      "execution_count": 5,
      "outputs": [
        {
          "output_type": "stream",
          "name": "stdout",
          "text": [
            "Data size: 7813737\n"
          ]
        },
        {
          "output_type": "execute_result",
          "data": {
            "text/plain": [
              "   user_id  anime_id  rating\n",
              "0        1        20      -1\n",
              "1        1        24      -1\n",
              "2        1        79      -1\n",
              "3        1       226      -1\n",
              "4        1       241      -1"
            ],
            "text/html": [
              "\n",
              "  <div id=\"df-f72d3a49-31ca-4f48-9b23-defe229e5a7f\">\n",
              "    <div class=\"colab-df-container\">\n",
              "      <div>\n",
              "<style scoped>\n",
              "    .dataframe tbody tr th:only-of-type {\n",
              "        vertical-align: middle;\n",
              "    }\n",
              "\n",
              "    .dataframe tbody tr th {\n",
              "        vertical-align: top;\n",
              "    }\n",
              "\n",
              "    .dataframe thead th {\n",
              "        text-align: right;\n",
              "    }\n",
              "</style>\n",
              "<table border=\"1\" class=\"dataframe\">\n",
              "  <thead>\n",
              "    <tr style=\"text-align: right;\">\n",
              "      <th></th>\n",
              "      <th>user_id</th>\n",
              "      <th>anime_id</th>\n",
              "      <th>rating</th>\n",
              "    </tr>\n",
              "  </thead>\n",
              "  <tbody>\n",
              "    <tr>\n",
              "      <th>0</th>\n",
              "      <td>1</td>\n",
              "      <td>20</td>\n",
              "      <td>-1</td>\n",
              "    </tr>\n",
              "    <tr>\n",
              "      <th>1</th>\n",
              "      <td>1</td>\n",
              "      <td>24</td>\n",
              "      <td>-1</td>\n",
              "    </tr>\n",
              "    <tr>\n",
              "      <th>2</th>\n",
              "      <td>1</td>\n",
              "      <td>79</td>\n",
              "      <td>-1</td>\n",
              "    </tr>\n",
              "    <tr>\n",
              "      <th>3</th>\n",
              "      <td>1</td>\n",
              "      <td>226</td>\n",
              "      <td>-1</td>\n",
              "    </tr>\n",
              "    <tr>\n",
              "      <th>4</th>\n",
              "      <td>1</td>\n",
              "      <td>241</td>\n",
              "      <td>-1</td>\n",
              "    </tr>\n",
              "  </tbody>\n",
              "</table>\n",
              "</div>\n",
              "      <button class=\"colab-df-convert\" onclick=\"convertToInteractive('df-f72d3a49-31ca-4f48-9b23-defe229e5a7f')\"\n",
              "              title=\"Convert this dataframe to an interactive table.\"\n",
              "              style=\"display:none;\">\n",
              "        \n",
              "  <svg xmlns=\"http://www.w3.org/2000/svg\" height=\"24px\"viewBox=\"0 0 24 24\"\n",
              "       width=\"24px\">\n",
              "    <path d=\"M0 0h24v24H0V0z\" fill=\"none\"/>\n",
              "    <path d=\"M18.56 5.44l.94 2.06.94-2.06 2.06-.94-2.06-.94-.94-2.06-.94 2.06-2.06.94zm-11 1L8.5 8.5l.94-2.06 2.06-.94-2.06-.94L8.5 2.5l-.94 2.06-2.06.94zm10 10l.94 2.06.94-2.06 2.06-.94-2.06-.94-.94-2.06-.94 2.06-2.06.94z\"/><path d=\"M17.41 7.96l-1.37-1.37c-.4-.4-.92-.59-1.43-.59-.52 0-1.04.2-1.43.59L10.3 9.45l-7.72 7.72c-.78.78-.78 2.05 0 2.83L4 21.41c.39.39.9.59 1.41.59.51 0 1.02-.2 1.41-.59l7.78-7.78 2.81-2.81c.8-.78.8-2.07 0-2.86zM5.41 20L4 18.59l7.72-7.72 1.47 1.35L5.41 20z\"/>\n",
              "  </svg>\n",
              "      </button>\n",
              "      \n",
              "  <style>\n",
              "    .colab-df-container {\n",
              "      display:flex;\n",
              "      flex-wrap:wrap;\n",
              "      gap: 12px;\n",
              "    }\n",
              "\n",
              "    .colab-df-convert {\n",
              "      background-color: #E8F0FE;\n",
              "      border: none;\n",
              "      border-radius: 50%;\n",
              "      cursor: pointer;\n",
              "      display: none;\n",
              "      fill: #1967D2;\n",
              "      height: 32px;\n",
              "      padding: 0 0 0 0;\n",
              "      width: 32px;\n",
              "    }\n",
              "\n",
              "    .colab-df-convert:hover {\n",
              "      background-color: #E2EBFA;\n",
              "      box-shadow: 0px 1px 2px rgba(60, 64, 67, 0.3), 0px 1px 3px 1px rgba(60, 64, 67, 0.15);\n",
              "      fill: #174EA6;\n",
              "    }\n",
              "\n",
              "    [theme=dark] .colab-df-convert {\n",
              "      background-color: #3B4455;\n",
              "      fill: #D2E3FC;\n",
              "    }\n",
              "\n",
              "    [theme=dark] .colab-df-convert:hover {\n",
              "      background-color: #434B5C;\n",
              "      box-shadow: 0px 1px 3px 1px rgba(0, 0, 0, 0.15);\n",
              "      filter: drop-shadow(0px 1px 2px rgba(0, 0, 0, 0.3));\n",
              "      fill: #FFFFFF;\n",
              "    }\n",
              "  </style>\n",
              "\n",
              "      <script>\n",
              "        const buttonEl =\n",
              "          document.querySelector('#df-f72d3a49-31ca-4f48-9b23-defe229e5a7f button.colab-df-convert');\n",
              "        buttonEl.style.display =\n",
              "          google.colab.kernel.accessAllowed ? 'block' : 'none';\n",
              "\n",
              "        async function convertToInteractive(key) {\n",
              "          const element = document.querySelector('#df-f72d3a49-31ca-4f48-9b23-defe229e5a7f');\n",
              "          const dataTable =\n",
              "            await google.colab.kernel.invokeFunction('convertToInteractive',\n",
              "                                                     [key], {});\n",
              "          if (!dataTable) return;\n",
              "\n",
              "          const docLinkHtml = 'Like what you see? Visit the ' +\n",
              "            '<a target=\"_blank\" href=https://colab.research.google.com/notebooks/data_table.ipynb>data table notebook</a>'\n",
              "            + ' to learn more about interactive tables.';\n",
              "          element.innerHTML = '';\n",
              "          dataTable['output_type'] = 'display_data';\n",
              "          await google.colab.output.renderOutput(dataTable, element);\n",
              "          const docLink = document.createElement('div');\n",
              "          docLink.innerHTML = docLinkHtml;\n",
              "          element.appendChild(docLink);\n",
              "        }\n",
              "      </script>\n",
              "    </div>\n",
              "  </div>\n",
              "  "
            ]
          },
          "metadata": {},
          "execution_count": 5
        }
      ]
    },
    {
      "cell_type": "code",
      "source": [
        "len(rating_df.user_id.unique())"
      ],
      "metadata": {
        "colab": {
          "base_uri": "https://localhost:8080/"
        },
        "id": "7P-srBbAM0s_",
        "outputId": "f9c43e3d-e497-409f-ab1e-1ff2712336ac"
      },
      "execution_count": 6,
      "outputs": [
        {
          "output_type": "execute_result",
          "data": {
            "text/plain": [
              "73515"
            ]
          },
          "metadata": {},
          "execution_count": 6
        }
      ]
    },
    {
      "cell_type": "code",
      "source": [
        "len(rating_df.anime_id.unique())"
      ],
      "metadata": {
        "colab": {
          "base_uri": "https://localhost:8080/"
        },
        "id": "3P0BkW-WunzU",
        "outputId": "6f70134c-af40-41f3-e77e-837e139aed0a"
      },
      "execution_count": 7,
      "outputs": [
        {
          "output_type": "execute_result",
          "data": {
            "text/plain": [
              "11200"
            ]
          },
          "metadata": {},
          "execution_count": 7
        }
      ]
    },
    {
      "cell_type": "markdown",
      "source": [
        "## Sampling"
      ],
      "metadata": {
        "id": "myrX3jEiHiiO"
      }
    },
    {
      "cell_type": "markdown",
      "source": [
        "Возьму только 10% от укниальных пользователей и аниме для уменьшения размера матрицы пересечений и ускорения вычислений\n"
      ],
      "metadata": {
        "id": "1daBP_gaNW9m"
      }
    },
    {
      "cell_type": "code",
      "source": [
        "users_unique = rating_df.user_id.unique()\n",
        "anime_unique = rating_df.anime_id.unique()"
      ],
      "metadata": {
        "id": "tpt2rxdBHxnm"
      },
      "execution_count": 8,
      "outputs": []
    },
    {
      "cell_type": "markdown",
      "source": [
        "Сделаю рандомную выборку отдельно по id юзеров и id аниме  \n",
        "\n",
        "---\n",
        "\n",
        "*(По моему опыту это увеличило Sparsity по сравнению с выбором первых N объектов на 12%)*"
      ],
      "metadata": {
        "id": "6oqW1VR9JpbW"
      }
    },
    {
      "cell_type": "code",
      "source": [
        "part = 0.1\n",
        "sample_users_ids_size = int(len(rating_df.user_id.unique()) * part)\n",
        "sample_anime_ids_size = int(len(rating_df.anime_id.unique()) * part)\n",
        "\n",
        "sampled_user_ids = rating_df['user_id'].sample(sample_users_ids_size)\n",
        "sample_anime_ids = rating_df['anime_id'].sample(sample_anime_ids_size)\n",
        "\n",
        "rating_df = rating_df[(rating_df['user_id'].isin(sampled_user_ids)) & \n",
        "                      (rating_df['anime_id'].isin(sample_anime_ids)) ]\n",
        "print(\"Data size: \", len(rating_df))\n",
        "rating_df.head()"
      ],
      "metadata": {
        "colab": {
          "base_uri": "https://localhost:8080/",
          "height": 223
        },
        "id": "3pZexO8ZH195",
        "outputId": "7d1effda-91a6-4d9a-af26-49ffb1b62299"
      },
      "execution_count": 9,
      "outputs": [
        {
          "output_type": "stream",
          "name": "stdout",
          "text": [
            "Data size:  739460\n"
          ]
        },
        {
          "output_type": "execute_result",
          "data": {
            "text/plain": [
              "      user_id  anime_id  rating\n",
              "1170       11        30       5\n",
              "1171       11        43       7\n",
              "1172       11        44       7\n",
              "1174       11        59       7\n",
              "1175       11        61       4"
            ],
            "text/html": [
              "\n",
              "  <div id=\"df-0fb05332-67ab-4b8c-832b-0c13a8468830\">\n",
              "    <div class=\"colab-df-container\">\n",
              "      <div>\n",
              "<style scoped>\n",
              "    .dataframe tbody tr th:only-of-type {\n",
              "        vertical-align: middle;\n",
              "    }\n",
              "\n",
              "    .dataframe tbody tr th {\n",
              "        vertical-align: top;\n",
              "    }\n",
              "\n",
              "    .dataframe thead th {\n",
              "        text-align: right;\n",
              "    }\n",
              "</style>\n",
              "<table border=\"1\" class=\"dataframe\">\n",
              "  <thead>\n",
              "    <tr style=\"text-align: right;\">\n",
              "      <th></th>\n",
              "      <th>user_id</th>\n",
              "      <th>anime_id</th>\n",
              "      <th>rating</th>\n",
              "    </tr>\n",
              "  </thead>\n",
              "  <tbody>\n",
              "    <tr>\n",
              "      <th>1170</th>\n",
              "      <td>11</td>\n",
              "      <td>30</td>\n",
              "      <td>5</td>\n",
              "    </tr>\n",
              "    <tr>\n",
              "      <th>1171</th>\n",
              "      <td>11</td>\n",
              "      <td>43</td>\n",
              "      <td>7</td>\n",
              "    </tr>\n",
              "    <tr>\n",
              "      <th>1172</th>\n",
              "      <td>11</td>\n",
              "      <td>44</td>\n",
              "      <td>7</td>\n",
              "    </tr>\n",
              "    <tr>\n",
              "      <th>1174</th>\n",
              "      <td>11</td>\n",
              "      <td>59</td>\n",
              "      <td>7</td>\n",
              "    </tr>\n",
              "    <tr>\n",
              "      <th>1175</th>\n",
              "      <td>11</td>\n",
              "      <td>61</td>\n",
              "      <td>4</td>\n",
              "    </tr>\n",
              "  </tbody>\n",
              "</table>\n",
              "</div>\n",
              "      <button class=\"colab-df-convert\" onclick=\"convertToInteractive('df-0fb05332-67ab-4b8c-832b-0c13a8468830')\"\n",
              "              title=\"Convert this dataframe to an interactive table.\"\n",
              "              style=\"display:none;\">\n",
              "        \n",
              "  <svg xmlns=\"http://www.w3.org/2000/svg\" height=\"24px\"viewBox=\"0 0 24 24\"\n",
              "       width=\"24px\">\n",
              "    <path d=\"M0 0h24v24H0V0z\" fill=\"none\"/>\n",
              "    <path d=\"M18.56 5.44l.94 2.06.94-2.06 2.06-.94-2.06-.94-.94-2.06-.94 2.06-2.06.94zm-11 1L8.5 8.5l.94-2.06 2.06-.94-2.06-.94L8.5 2.5l-.94 2.06-2.06.94zm10 10l.94 2.06.94-2.06 2.06-.94-2.06-.94-.94-2.06-.94 2.06-2.06.94z\"/><path d=\"M17.41 7.96l-1.37-1.37c-.4-.4-.92-.59-1.43-.59-.52 0-1.04.2-1.43.59L10.3 9.45l-7.72 7.72c-.78.78-.78 2.05 0 2.83L4 21.41c.39.39.9.59 1.41.59.51 0 1.02-.2 1.41-.59l7.78-7.78 2.81-2.81c.8-.78.8-2.07 0-2.86zM5.41 20L4 18.59l7.72-7.72 1.47 1.35L5.41 20z\"/>\n",
              "  </svg>\n",
              "      </button>\n",
              "      \n",
              "  <style>\n",
              "    .colab-df-container {\n",
              "      display:flex;\n",
              "      flex-wrap:wrap;\n",
              "      gap: 12px;\n",
              "    }\n",
              "\n",
              "    .colab-df-convert {\n",
              "      background-color: #E8F0FE;\n",
              "      border: none;\n",
              "      border-radius: 50%;\n",
              "      cursor: pointer;\n",
              "      display: none;\n",
              "      fill: #1967D2;\n",
              "      height: 32px;\n",
              "      padding: 0 0 0 0;\n",
              "      width: 32px;\n",
              "    }\n",
              "\n",
              "    .colab-df-convert:hover {\n",
              "      background-color: #E2EBFA;\n",
              "      box-shadow: 0px 1px 2px rgba(60, 64, 67, 0.3), 0px 1px 3px 1px rgba(60, 64, 67, 0.15);\n",
              "      fill: #174EA6;\n",
              "    }\n",
              "\n",
              "    [theme=dark] .colab-df-convert {\n",
              "      background-color: #3B4455;\n",
              "      fill: #D2E3FC;\n",
              "    }\n",
              "\n",
              "    [theme=dark] .colab-df-convert:hover {\n",
              "      background-color: #434B5C;\n",
              "      box-shadow: 0px 1px 3px 1px rgba(0, 0, 0, 0.15);\n",
              "      filter: drop-shadow(0px 1px 2px rgba(0, 0, 0, 0.3));\n",
              "      fill: #FFFFFF;\n",
              "    }\n",
              "  </style>\n",
              "\n",
              "      <script>\n",
              "        const buttonEl =\n",
              "          document.querySelector('#df-0fb05332-67ab-4b8c-832b-0c13a8468830 button.colab-df-convert');\n",
              "        buttonEl.style.display =\n",
              "          google.colab.kernel.accessAllowed ? 'block' : 'none';\n",
              "\n",
              "        async function convertToInteractive(key) {\n",
              "          const element = document.querySelector('#df-0fb05332-67ab-4b8c-832b-0c13a8468830');\n",
              "          const dataTable =\n",
              "            await google.colab.kernel.invokeFunction('convertToInteractive',\n",
              "                                                     [key], {});\n",
              "          if (!dataTable) return;\n",
              "\n",
              "          const docLinkHtml = 'Like what you see? Visit the ' +\n",
              "            '<a target=\"_blank\" href=https://colab.research.google.com/notebooks/data_table.ipynb>data table notebook</a>'\n",
              "            + ' to learn more about interactive tables.';\n",
              "          element.innerHTML = '';\n",
              "          dataTable['output_type'] = 'display_data';\n",
              "          await google.colab.output.renderOutput(dataTable, element);\n",
              "          const docLink = document.createElement('div');\n",
              "          docLink.innerHTML = docLinkHtml;\n",
              "          element.appendChild(docLink);\n",
              "        }\n",
              "      </script>\n",
              "    </div>\n",
              "  </div>\n",
              "  "
            ]
          },
          "metadata": {},
          "execution_count": 9
        }
      ]
    },
    {
      "cell_type": "code",
      "source": [
        "len(rating_df.user_id.unique()), sample_users_ids_size"
      ],
      "metadata": {
        "colab": {
          "base_uri": "https://localhost:8080/"
        },
        "id": "bTa2KpCzI52d",
        "outputId": "8af8f008-74e7-48e1-8e54-fcceffa954e6"
      },
      "execution_count": 10,
      "outputs": [
        {
          "output_type": "execute_result",
          "data": {
            "text/plain": [
              "(6474, 7351)"
            ]
          },
          "metadata": {},
          "execution_count": 10
        }
      ]
    },
    {
      "cell_type": "code",
      "source": [
        "len(rating_df.anime_id.unique()), sample_anime_ids_size"
      ],
      "metadata": {
        "colab": {
          "base_uri": "https://localhost:8080/"
        },
        "id": "VwCzEcJLI9J7",
        "outputId": "84f7ab40-00a3-4c96-cc8e-eaecc6bf207f"
      },
      "execution_count": 11,
      "outputs": [
        {
          "output_type": "execute_result",
          "data": {
            "text/plain": [
              "(772, 1120)"
            ]
          },
          "metadata": {},
          "execution_count": 11
        }
      ]
    },
    {
      "cell_type": "markdown",
      "source": [
        "* Небольшая часть выбранных юзеров оказалась без рейтингов (их оцененное аниме не вошло в выборку)\n",
        "* Небольшая часть выбранных аниме оказалась без рейтингов (оценившие их юзеры не вошли в выборку)"
      ],
      "metadata": {
        "id": "cJ1Y6rzC0-yK"
      }
    },
    {
      "cell_type": "markdown",
      "source": [
        "## Task1"
      ],
      "metadata": {
        "id": "e7aVIvdKOgpi"
      }
    },
    {
      "cell_type": "markdown",
      "source": [
        "### Распределение числа пользователей по количеству взаимодействий"
      ],
      "metadata": {
        "id": "UlLi839nOjEz"
      }
    },
    {
      "cell_type": "code",
      "source": [
        "plt.rcParams['figure.dpi'] = 70"
      ],
      "metadata": {
        "id": "fKjXrj98HAGr"
      },
      "execution_count": 168,
      "outputs": []
    },
    {
      "cell_type": "code",
      "source": [
        "rating_df.user_id.value_counts().value_counts()\n",
        "# number of iteractions - unique users"
      ],
      "metadata": {
        "colab": {
          "base_uri": "https://localhost:8080/"
        },
        "id": "Sw2fPsLO669B",
        "outputId": "36045d00-ee66-48d0-da15-fc42fe3a8ed4"
      },
      "execution_count": 169,
      "outputs": [
        {
          "output_type": "execute_result",
          "data": {
            "text/plain": [
              "50     51\n",
              "53     48\n",
              "60     47\n",
              "90     47\n",
              "57     47\n",
              "       ..\n",
              "372     1\n",
              "371     1\n",
              "370     1\n",
              "363     1\n",
              "767     1\n",
              "Name: user_id, Length: 418, dtype: int64"
            ]
          },
          "metadata": {},
          "execution_count": 169
        }
      ]
    },
    {
      "cell_type": "code",
      "source": [
        "data = rating_df.user_id.value_counts().values\n",
        "sns.displot(data, kind=\"kde\")\n",
        "plt.show()"
      ],
      "metadata": {
        "colab": {
          "base_uri": "https://localhost:8080/",
          "height": 359
        },
        "id": "DHZwdlMpwbky",
        "outputId": "f29b9f46-eddb-4702-d5df-e536711c9f58"
      },
      "execution_count": 170,
      "outputs": [
        {
          "output_type": "display_data",
          "data": {
            "text/plain": [
              "<Figure size 350x350 with 1 Axes>"
            ],
            "image/png": "[encoded data removed]"
          },
          "metadata": {
            "needs_background": "light"
          }
        }
      ]
    },
    {
      "cell_type": "markdown",
      "source": [
        "### Разпределение числа \"айтемов\" по количеству взаимодействий"
      ],
      "metadata": {
        "id": "_Sofd1tJz5if"
      }
    },
    {
      "cell_type": "code",
      "source": [
        "rating_df.anime_id.value_counts().value_counts()\n",
        "# number of iteractions - unique animes"
      ],
      "metadata": {
        "colab": {
          "base_uri": "https://localhost:8080/"
        },
        "id": "aYH1pI4w57xB",
        "outputId": "1ae366af-aafc-491d-c5e4-af6d70b77bd1"
      },
      "execution_count": 171,
      "outputs": [
        {
          "output_type": "execute_result",
          "data": {
            "text/plain": [
              "251     4\n",
              "207     3\n",
              "1030    3\n",
              "297     3\n",
              "248     3\n",
              "       ..\n",
              "1175    1\n",
              "1174    1\n",
              "1171    1\n",
              "1164    1\n",
              "2       1\n",
              "Name: anime_id, Length: 653, dtype: int64"
            ]
          },
          "metadata": {},
          "execution_count": 171
        }
      ]
    },
    {
      "cell_type": "code",
      "source": [
        "data = rating_df.anime_id.value_counts().values\n",
        "sns.displot(data, kind=\"kde\")\n",
        "plt.show()"
      ],
      "metadata": {
        "colab": {
          "base_uri": "https://localhost:8080/",
          "height": 359
        },
        "id": "ytciqyZC0Cro",
        "outputId": "3f38da1f-3d77-4087-db81-74c510bff98c"
      },
      "execution_count": 172,
      "outputs": [
        {
          "output_type": "display_data",
          "data": {
            "text/plain": [
              "<Figure size 350x350 with 1 Axes>"
            ],
            "image/png": "[encoded data removed]"
          },
          "metadata": {
            "needs_background": "light"
          }
        }
      ]
    },
    {
      "cell_type": "markdown",
      "source": [
        "### Распределение числа рейтингов, средних рейтингов по пользователям, по \"айтемам\""
      ],
      "metadata": {
        "id": "UloQvkR-0ZeB"
      }
    },
    {
      "cell_type": "markdown",
      "source": [
        "* распределение числа рейтингов по пользователям"
      ],
      "metadata": {
        "id": "-RyaXi1FjA0U"
      }
    },
    {
      "cell_type": "code",
      "source": [
        "rating_df.groupby('user_id').rating.nunique()\n",
        "# unique user - unique ratings in user"
      ],
      "metadata": {
        "colab": {
          "base_uri": "https://localhost:8080/"
        },
        "id": "Bk5--9ld0HB5",
        "outputId": "a65fe88d-9f08-4721-f4cf-15d05a344353"
      },
      "execution_count": 173,
      "outputs": [
        {
          "output_type": "execute_result",
          "data": {
            "text/plain": [
              "user_id\n",
              "11        8\n",
              "17        9\n",
              "21        8\n",
              "62        5\n",
              "64        3\n",
              "         ..\n",
              "73476    11\n",
              "73480     6\n",
              "73495     7\n",
              "73502     9\n",
              "73504     6\n",
              "Name: rating, Length: 6474, dtype: int64"
            ]
          },
          "metadata": {},
          "execution_count": 173
        }
      ]
    },
    {
      "cell_type": "code",
      "source": [
        "data = rating_df.groupby('user_id').rating.nunique().values\n",
        "sns.displot(data, kind=\"kde\")\n",
        "plt.show()"
      ],
      "metadata": {
        "colab": {
          "base_uri": "https://localhost:8080/",
          "height": 359
        },
        "id": "wGZKGMce14UA",
        "outputId": "a45bfd4c-73c6-49b9-9c5b-62901f273b69"
      },
      "execution_count": 174,
      "outputs": [
        {
          "output_type": "display_data",
          "data": {
            "text/plain": [
              "<Figure size 350x350 with 1 Axes>"
            ],
            "image/png": "[encoded data removed]"
          },
          "metadata": {
            "needs_background": "light"
          }
        }
      ]
    },
    {
      "cell_type": "markdown",
      "source": [
        "* распределение числа рейтингов по айтемам"
      ],
      "metadata": {
        "id": "Bs3OPg5uoTEN"
      }
    },
    {
      "cell_type": "code",
      "source": [
        "rating_df.groupby('anime_id').rating.nunique()\n",
        "# unique anime - unique ratings in user"
      ],
      "metadata": {
        "colab": {
          "base_uri": "https://localhost:8080/"
        },
        "id": "mh7EiJaW6M1v",
        "outputId": "4ad9630e-d4dd-4379-cf00-fd0b9286bd0c"
      },
      "execution_count": 175,
      "outputs": [
        {
          "output_type": "execute_result",
          "data": {
            "text/plain": [
              "anime_id\n",
              "1        11\n",
              "5        10\n",
              "6         9\n",
              "18        8\n",
              "20       11\n",
              "         ..\n",
              "32915     7\n",
              "32998     8\n",
              "33201     9\n",
              "33421     9\n",
              "33979     7\n",
              "Name: rating, Length: 772, dtype: int64"
            ]
          },
          "metadata": {},
          "execution_count": 175
        }
      ]
    },
    {
      "cell_type": "code",
      "source": [
        "data = rating_df.groupby('anime_id').rating.nunique().values\n",
        "sns.displot(data, kind=\"kde\")\n",
        "plt.show()"
      ],
      "metadata": {
        "colab": {
          "base_uri": "https://localhost:8080/",
          "height": 359
        },
        "id": "RcSfTZCLokOv",
        "outputId": "c5e4608c-c2f7-40f5-eea7-6fa29028ea07"
      },
      "execution_count": 176,
      "outputs": [
        {
          "output_type": "display_data",
          "data": {
            "text/plain": [
              "<Figure size 350x350 with 1 Axes>"
            ],
            "image/png": "[encoded data removed]"
          },
          "metadata": {
            "needs_background": "light"
          }
        }
      ]
    },
    {
      "cell_type": "markdown",
      "source": [
        "* распределение средних рейтингов по пользователям (убираю -1 для средних)"
      ],
      "metadata": {
        "id": "ofkNStpsoqQ1"
      }
    },
    {
      "cell_type": "code",
      "source": [
        "rating_df[rating_df.rating != -1].groupby('user_id').rating.mean()\n",
        "# unique user - mean ratings for user"
      ],
      "metadata": {
        "colab": {
          "base_uri": "https://localhost:8080/"
        },
        "id": "sC6YY5vFooA3",
        "outputId": "7dd364eb-5dc8-4fc4-80d7-e995309f2a99"
      },
      "execution_count": 177,
      "outputs": [
        {
          "output_type": "execute_result",
          "data": {
            "text/plain": [
              "user_id\n",
              "11       7.258065\n",
              "17       7.384615\n",
              "21       7.850467\n",
              "62       8.375000\n",
              "64       8.933333\n",
              "           ...   \n",
              "73476    6.882353\n",
              "73480    7.644444\n",
              "73495    7.918367\n",
              "73502    8.770833\n",
              "73504    8.211538\n",
              "Name: rating, Length: 6112, dtype: float64"
            ]
          },
          "metadata": {},
          "execution_count": 177
        }
      ]
    },
    {
      "cell_type": "code",
      "source": [
        "data = rating_df[rating_df.rating != -1].groupby('user_id').rating.mean().values\n",
        "sns.displot(data, kind=\"kde\")\n",
        "plt.show()"
      ],
      "metadata": {
        "colab": {
          "base_uri": "https://localhost:8080/",
          "height": 359
        },
        "id": "pG6_G4tAo7UX",
        "outputId": "a04ba8bb-0118-4640-b825-a46ba7fb0a0d"
      },
      "execution_count": 178,
      "outputs": [
        {
          "output_type": "display_data",
          "data": {
            "text/plain": [
              "<Figure size 350x350 with 1 Axes>"
            ],
            "image/png": "[encoded data removed]"
          },
          "metadata": {
            "needs_background": "light"
          }
        }
      ]
    },
    {
      "cell_type": "markdown",
      "source": [
        "* распределение средних рейтингов по аниме"
      ],
      "metadata": {
        "id": "nmrVVIvspFhm"
      }
    },
    {
      "cell_type": "code",
      "source": [
        "rating_df[rating_df.rating != -1].groupby('anime_id').rating.mean()\n",
        "# unique anime - mean ratings for anime"
      ],
      "metadata": {
        "colab": {
          "base_uri": "https://localhost:8080/"
        },
        "id": "9fB8rK-UpAXV",
        "outputId": "2808cf65-82d4-4efd-9114-d087247ec66f"
      },
      "execution_count": 179,
      "outputs": [
        {
          "output_type": "execute_result",
          "data": {
            "text/plain": [
              "anime_id\n",
              "1        8.752603\n",
              "5        8.417238\n",
              "6        8.323163\n",
              "18       8.242775\n",
              "20       7.712235\n",
              "           ...   \n",
              "32915    7.755556\n",
              "32998    8.025316\n",
              "33201    6.338462\n",
              "33421    6.805085\n",
              "33979    7.285714\n",
              "Name: rating, Length: 772, dtype: float64"
            ]
          },
          "metadata": {},
          "execution_count": 179
        }
      ]
    },
    {
      "cell_type": "code",
      "source": [
        "data = rating_df[rating_df.rating != -1].groupby('anime_id').rating.mean().values\n",
        "sns.displot(data, kind=\"kde\")\n",
        "plt.show()"
      ],
      "metadata": {
        "colab": {
          "base_uri": "https://localhost:8080/",
          "height": 359
        },
        "id": "XhXCU8_CpQQY",
        "outputId": "5edfddd3-d8bf-4441-e7e4-2455701f52dd"
      },
      "execution_count": 180,
      "outputs": [
        {
          "output_type": "display_data",
          "data": {
            "text/plain": [
              "<Figure size 350x350 with 1 Axes>"
            ],
            "image/png": "[encoded data removed]"
          },
          "metadata": {
            "needs_background": "light"
          }
        }
      ]
    },
    {
      "cell_type": "markdown",
      "source": [
        "## Task2"
      ],
      "metadata": {
        "id": "XPWmbSfnr545"
      }
    },
    {
      "cell_type": "code",
      "source": [
        "plt.rcParams['figure.dpi'] = 150"
      ],
      "metadata": {
        "id": "6vqi1lez3sJU"
      },
      "execution_count": 181,
      "outputs": []
    },
    {
      "cell_type": "code",
      "source": [
        "users_unique = rating_df.user_id.unique()\n",
        "anime_unique = rating_df.anime_id.unique()\n",
        "\n",
        "users_id_index_map = { id: index for index, id in enumerate(users_unique) }\n",
        "anime_id_index_map = { id: index for index, id in enumerate(anime_unique) }\n",
        "\n",
        "users_dim = users_unique.size\n",
        "anime_dim = anime_unique.size\n",
        "\n",
        "rating_matrix = np.zeros((users_dim, anime_dim))\n",
        "\n",
        "for iteraction in rating_df.iterrows():\n",
        "    index, iteraction = iteraction\n",
        "    user_id  = users_id_index_map[iteraction.user_id]\n",
        "    anime_id = anime_id_index_map[iteraction.anime_id]\n",
        "    rating   = iteraction.rating\n",
        "\n",
        "    rating_matrix[user_id, anime_id] = rating\n",
        "\n",
        "rating_matrix.shape"
      ],
      "metadata": {
        "colab": {
          "base_uri": "https://localhost:8080/"
        },
        "id": "Oj3-9qgJr7Qm",
        "outputId": "0c5e4e0b-e976-4890-bf35-149821f641c7"
      },
      "execution_count": 13,
      "outputs": [
        {
          "output_type": "execute_result",
          "data": {
            "text/plain": [
              "(6474, 772)"
            ]
          },
          "metadata": {},
          "execution_count": 13
        }
      ]
    },
    {
      "cell_type": "code",
      "source": [
        "s = sns.heatmap(rating_matrix, xticklabels=100, yticklabels=1000)\n",
        "s.set(xlabel='Anime', ylabel='User')\n",
        "plt.show()"
      ],
      "metadata": {
        "colab": {
          "base_uri": "https://localhost:8080/",
          "height": 570
        },
        "id": "BZea85xJ2Nvp",
        "outputId": "1249335e-d0f7-4c41-b225-26201fce050a"
      },
      "execution_count": 182,
      "outputs": [
        {
          "output_type": "display_data",
          "data": {
            "text/plain": [
              "<Figure size 900x600 with 2 Axes>"
            ],
            "image/png": "[encoded data removed]"
          },
          "metadata": {
            "needs_background": "light"
          }
        }
      ]
    },
    {
      "cell_type": "code",
      "source": [
        "plt.rcParams['figure.dpi'] = 70"
      ],
      "metadata": {
        "id": "1N_tBCL21tcC"
      },
      "execution_count": 183,
      "outputs": []
    },
    {
      "cell_type": "markdown",
      "source": [
        "### Sparsity"
      ],
      "metadata": {
        "id": "dgm9vK6Z6g5z"
      }
    },
    {
      "cell_type": "code",
      "source": [
        "numerator   = np.count_nonzero(rating_matrix)\n",
        "denominator = users_dim * anime_dim\n",
        "sparsity    = (1.0 - ((numerator * 1.0) / denominator)) * 100\n",
        "print(f\"Sparsity of rating matrix:\\n{'%.2f' % sparsity}% empty\")"
      ],
      "metadata": {
        "colab": {
          "base_uri": "https://localhost:8080/"
        },
        "id": "hhosktGl6LTJ",
        "outputId": "bb29e632-963d-42f6-eb50-8aabf83dc4ec"
      },
      "execution_count": 184,
      "outputs": [
        {
          "output_type": "stream",
          "name": "stdout",
          "text": [
            "Sparsity of rating matrix:\n",
            "85.20% empty\n"
          ]
        }
      ]
    },
    {
      "cell_type": "markdown",
      "source": [
        "## Task3 - Split"
      ],
      "metadata": {
        "id": "rGMWOuK38rfw"
      }
    },
    {
      "cell_type": "markdown",
      "source": [
        "Для разделения на Train и Test, я выберу часть оценок пользователя  \n",
        "и сохраню их как \"будущие\" - те, которые нужно будет предсказать"
      ],
      "metadata": {
        "id": "atgOCvuEAsmQ"
      }
    },
    {
      "cell_type": "code",
      "source": [
        "rating_matrix_train = rating_matrix.copy()\n",
        "likeness_threshold = 7\n",
        "sample_size = 5\n",
        "test_values = []\n",
        "for user_i in range(rating_matrix_train.shape[0]):\n",
        "    test_sample = (rating_matrix_train[user_i] > likeness_threshold).nonzero()[0]\n",
        "    test_sample = random.sample(list(test_sample), k=(sample_size if sample_size <= len(test_sample) else len(test_sample)))\n",
        "    test_values.append(test_sample)\n",
        "    for anime_i in test_sample:\n",
        "        rating_matrix_train[user_i][anime_i] = 0\n",
        "\n",
        "len(test_values)"
      ],
      "metadata": {
        "colab": {
          "base_uri": "https://localhost:8080/"
        },
        "id": "QC3MHqkHCmSr",
        "outputId": "4d289eb0-0646-4bdc-d087-f2a6908e2cd1"
      },
      "execution_count": 96,
      "outputs": [
        {
          "output_type": "execute_result",
          "data": {
            "text/plain": [
              "6474"
            ]
          },
          "metadata": {},
          "execution_count": 96
        }
      ]
    },
    {
      "cell_type": "markdown",
      "source": [
        "## Task 4 - Popular"
      ],
      "metadata": {
        "id": "pT7KYakk-b4Q"
      }
    },
    {
      "cell_type": "code",
      "source": [
        "rating_matrix_train.shape"
      ],
      "metadata": {
        "colab": {
          "base_uri": "https://localhost:8080/"
        },
        "id": "tr4Q5mCjSN0w",
        "outputId": "36893c6f-cbb6-4c4d-be3c-f8034a0d1964"
      },
      "execution_count": 101,
      "outputs": [
        {
          "output_type": "execute_result",
          "data": {
            "text/plain": [
              "(6474, 772)"
            ]
          },
          "metadata": {},
          "execution_count": 101
        }
      ]
    },
    {
      "cell_type": "code",
      "source": [
        "rating_popularity = np.count_nonzero(rating_matrix_train, axis=0)\n",
        "rating_highness   = rating_matrix_train.sum(axis=0) / rating_popularity\n",
        "rating_popularity.shape, rating_highness.shape"
      ],
      "metadata": {
        "colab": {
          "base_uri": "https://localhost:8080/"
        },
        "id": "u6uuJjrE-Doc",
        "outputId": "bc893a8c-af01-4eb7-d368-c7e9bca70ab4"
      },
      "execution_count": 102,
      "outputs": [
        {
          "output_type": "execute_result",
          "data": {
            "text/plain": [
              "((772,), (772,))"
            ]
          },
          "metadata": {},
          "execution_count": 102
        }
      ]
    },
    {
      "cell_type": "markdown",
      "source": [
        "Самые популярные по количеству взаимодействий:"
      ],
      "metadata": {
        "id": "woRcRqNsUNGX"
      }
    },
    {
      "cell_type": "code",
      "source": [
        "n = 5\n",
        "rec_popular_by_iteraction_indexes = sorted(range(len(rating_popularity)), key=lambda k: rating_popularity[k])\n",
        "rec_popular_by_iteraction = [anime_unique[i] for i in rec_popular_by_iteraction_indexes]\n",
        "rec_popular_by_iteraction[:n]"
      ],
      "metadata": {
        "id": "rPifn6q5NG4y",
        "colab": {
          "base_uri": "https://localhost:8080/"
        },
        "outputId": "8eeeed9b-9d9a-4ec1-9606-b75a65c09916"
      },
      "execution_count": 103,
      "outputs": [
        {
          "output_type": "execute_result",
          "data": {
            "text/plain": [
              "[6481, 2429, 33979, 1404, 8111]"
            ]
          },
          "metadata": {},
          "execution_count": 103
        }
      ]
    },
    {
      "cell_type": "code",
      "source": [
        "rec_popular_by_iteraction_indexes[:n]"
      ],
      "metadata": {
        "colab": {
          "base_uri": "https://localhost:8080/"
        },
        "id": "VKkPrCTELzFU",
        "outputId": "f8ff6859-b170-4bba-fba2-3d0b33831eaf"
      },
      "execution_count": 124,
      "outputs": [
        {
          "output_type": "execute_result",
          "data": {
            "text/plain": [
              "[771, 766, 770, 759, 474]"
            ]
          },
          "metadata": {},
          "execution_count": 124
        }
      ]
    },
    {
      "cell_type": "markdown",
      "source": [
        "Самые лучшие по средней оценке:"
      ],
      "metadata": {
        "id": "MAevHJuwVOva"
      }
    },
    {
      "cell_type": "code",
      "source": [
        "n = 5\n",
        "rec_best_by_rating_indexes = sorted(range(len(rating_highness)), key=lambda k: rating_highness[k])\n",
        "rec_best_by_rating = [anime_unique[i] for i in rec_best_by_rating_indexes]\n",
        "rec_best_by_rating[:n]"
      ],
      "metadata": {
        "colab": {
          "base_uri": "https://localhost:8080/"
        },
        "id": "C4Pn4p1uVH8v",
        "outputId": "9225e1d2-9395-4f55-cf47-d9a869f71a56"
      },
      "execution_count": 104,
      "outputs": [
        {
          "output_type": "execute_result",
          "data": {
            "text/plain": [
              "[6481, 2429, 1404, 10799, 2447]"
            ]
          },
          "metadata": {},
          "execution_count": 104
        }
      ]
    },
    {
      "cell_type": "code",
      "source": [
        "rec_best_by_rating_indexes[:n]"
      ],
      "metadata": {
        "colab": {
          "base_uri": "https://localhost:8080/"
        },
        "id": "bPeOnX_yL1yh",
        "outputId": "fb6509f7-0663-437a-db5a-d743d0140d38"
      },
      "execution_count": 125,
      "outputs": [
        {
          "output_type": "execute_result",
          "data": {
            "text/plain": [
              "[771, 766, 759, 765, 752]"
            ]
          },
          "metadata": {},
          "execution_count": 125
        }
      ]
    },
    {
      "cell_type": "markdown",
      "source": [
        "Как можно видеть - в обоих способах на первом месте одно и то же аниме"
      ],
      "metadata": {
        "id": "u_wrhBANVxOs"
      }
    },
    {
      "cell_type": "markdown",
      "source": [
        "## Task 5 - SVD"
      ],
      "metadata": {
        "id": "DeBAvp9QWUJA"
      }
    },
    {
      "cell_type": "code",
      "source": [
        "k = 10\n",
        "\n",
        "U, d, V = np.linalg.svd(rating_matrix_train)\n",
        "\n",
        "U = U[:, :k]\n",
        "D = np.diag(d)[:k, :k]\n",
        "V = V[:k, :]"
      ],
      "metadata": {
        "id": "FHCGCnTwVsvB"
      },
      "execution_count": 105,
      "outputs": []
    },
    {
      "cell_type": "code",
      "source": [
        "U.shape"
      ],
      "metadata": {
        "colab": {
          "base_uri": "https://localhost:8080/"
        },
        "id": "qoVpggSnYAMC",
        "outputId": "303ab067-cc68-4d48-db89-34569ee785a8"
      },
      "execution_count": 106,
      "outputs": [
        {
          "output_type": "execute_result",
          "data": {
            "text/plain": [
              "(6474, 10)"
            ]
          },
          "metadata": {},
          "execution_count": 106
        }
      ]
    },
    {
      "cell_type": "code",
      "source": [
        "V.shape"
      ],
      "metadata": {
        "colab": {
          "base_uri": "https://localhost:8080/"
        },
        "id": "T35SBWw2YIeY",
        "outputId": "0916baa4-21af-46b2-9981-5cc953961fcd"
      },
      "execution_count": 107,
      "outputs": [
        {
          "output_type": "execute_result",
          "data": {
            "text/plain": [
              "(10, 772)"
            ]
          },
          "metadata": {},
          "execution_count": 107
        }
      ]
    },
    {
      "cell_type": "code",
      "source": [
        "u_v = U @ V\n",
        "u_v.shape"
      ],
      "metadata": {
        "colab": {
          "base_uri": "https://localhost:8080/"
        },
        "id": "7dFhyuOyYJqo",
        "outputId": "0c536712-9b5a-4c8a-a079-e5a352f4e7fd"
      },
      "execution_count": 108,
      "outputs": [
        {
          "output_type": "execute_result",
          "data": {
            "text/plain": [
              "(6474, 772)"
            ]
          },
          "metadata": {},
          "execution_count": 108
        }
      ]
    },
    {
      "cell_type": "markdown",
      "source": [
        "Для рекомендаций возьмем только те аниме, что не смотрели"
      ],
      "metadata": {
        "id": "s3tUJSdcwdyQ"
      }
    },
    {
      "cell_type": "code",
      "source": [
        "u_v_new = u_v * (rating_matrix_train == 0)\n",
        "u_v_new"
      ],
      "metadata": {
        "colab": {
          "base_uri": "https://localhost:8080/"
        },
        "id": "-bHPsPJAcm4i",
        "outputId": "3af86c36-7838-4f10-c3c4-204f6c3ab25f"
      },
      "execution_count": 109,
      "outputs": [
        {
          "output_type": "execute_result",
          "data": {
            "text/plain": [
              "array([[ 0.00000000e+00,  0.00000000e+00,  0.00000000e+00, ...,\n",
              "         2.44813380e-05,  7.67536601e-06, -3.69997302e-06],\n",
              "       [ 0.00000000e+00,  0.00000000e+00,  1.01840611e-03, ...,\n",
              "        -8.94249747e-05, -4.00458292e-05, -7.92217327e-07],\n",
              "       [ 0.00000000e+00,  3.63039766e-03, -1.19718104e-04, ...,\n",
              "         9.01429495e-06,  9.52037063e-06, -6.04524721e-06],\n",
              "       ...,\n",
              "       [ 0.00000000e+00,  1.91497227e-03,  0.00000000e+00, ...,\n",
              "         1.88641937e-05, -1.55949597e-05, -7.97554685e-07],\n",
              "       [ 5.69537744e-04, -2.58001873e-04, -2.28733850e-03, ...,\n",
              "         3.84523940e-05,  1.24329252e-06,  2.86696003e-06],\n",
              "       [ 0.00000000e+00,  0.00000000e+00,  1.91930240e-03, ...,\n",
              "         6.05888906e-06, -1.24007745e-05, -3.06672254e-06]])"
            ]
          },
          "metadata": {},
          "execution_count": 109
        }
      ]
    },
    {
      "cell_type": "markdown",
      "source": [
        "Порекомендуем 5 аниме с наибольшим скором у каждого юзера"
      ],
      "metadata": {
        "id": "OvvCkvvBydlx"
      }
    },
    {
      "cell_type": "code",
      "source": [
        "rec_best_by_svd_indexes = np.argpartition(u_v_new, -5, axis=1)[:, -5:]\n",
        "rec_best_by_svd_indexes"
      ],
      "metadata": {
        "colab": {
          "base_uri": "https://localhost:8080/"
        },
        "id": "BJ_3LWhOLqXP",
        "outputId": "c5293a93-53b8-4f8a-91a1-d1f01b9ec15a"
      },
      "execution_count": 126,
      "outputs": [
        {
          "output_type": "execute_result",
          "data": {
            "text/plain": [
              "array([[402,  86,  80,  67,   8],\n",
              "       [312, 352, 300, 142, 268],\n",
              "       [ 64,  86,  52,  27,  53],\n",
              "       ...,\n",
              "       [ 68,  94,  81, 275,  38],\n",
              "       [163,  49, 342, 120,  50],\n",
              "       [442,  76,  85,  18,   8]])"
            ]
          },
          "metadata": {},
          "execution_count": 126
        }
      ]
    },
    {
      "cell_type": "markdown",
      "source": [
        "## Task 6 - Content Base"
      ],
      "metadata": {
        "id": "dtP5go0K0UBm"
      }
    },
    {
      "cell_type": "markdown",
      "source": [
        "Выберем у юзера самое понравившееся ему аниме и найдем похожие по фактор-вектору из матрцы V, получившейся после SVD"
      ],
      "metadata": {
        "id": "ECrqlT3xOsa_"
      }
    },
    {
      "cell_type": "code",
      "source": [
        "n = 5\n",
        "recs = []\n",
        "for user_i in range(rating_matrix_train.shape[0]):\n",
        "    best_index = np.where(rating_matrix_train[user_i] == rating_matrix_train[user_i].max())[0][0]\n",
        "    mse = ((V.T - V.T[best_index])**2).mean(axis=1)\n",
        "    rec = mse.argsort()[1:1 + n]\n",
        "    recs.append(rec)\n",
        "rec_best_by_content_indexes = np.array(recs)\n",
        "print(rec_best_by_content_indexes.shape)\n",
        "rec_best_by_content_indexes"
      ],
      "metadata": {
        "colab": {
          "base_uri": "https://localhost:8080/"
        },
        "id": "yFLd8-Hh0VWS",
        "outputId": "dac126d6-cbed-46e9-f857-fab938df50e5"
      },
      "execution_count": 150,
      "outputs": [
        {
          "output_type": "stream",
          "name": "stdout",
          "text": [
            "(6474, 5)\n"
          ]
        },
        {
          "output_type": "execute_result",
          "data": {
            "text/plain": [
              "array([[ 18,  22,   8,  21,  27],\n",
              "       [ 38, 104,  75,  40, 111],\n",
              "       [ 91,   1,  85, 100, 271],\n",
              "       ...,\n",
              "       [318, 430, 401,  82, 676],\n",
              "       [323, 400, 439,  88, 486],\n",
              "       [287, 375,   6,  49,  85]])"
            ]
          },
          "metadata": {},
          "execution_count": 150
        }
      ]
    },
    {
      "cell_type": "markdown",
      "source": [
        "## Task 7 - Metrcis"
      ],
      "metadata": {
        "id": "_htgWOijeDzN"
      }
    },
    {
      "cell_type": "markdown",
      "source": [
        "### MAP@5"
      ],
      "metadata": {
        "id": "qkAYjTbpfhIx"
      }
    },
    {
      "cell_type": "code",
      "source": [
        "def mapk(actual, predicted):\n",
        "    def ap(actual, predicted):\n",
        "        score = 0.0\n",
        "        num_hits = 0.0\n",
        "\n",
        "        for i,p in enumerate(predicted):\n",
        "\n",
        "            if p in actual:    \n",
        "                num_hits += 1.0\n",
        "                score += num_hits / (i+1.0)\n",
        "\n",
        "        if num_hits != 0:\n",
        "\n",
        "            return score / num_hits \n",
        "        else:\n",
        "            return 0\n",
        "    \n",
        "    scores = []\n",
        "    for a,p in zip(actual, predicted):\n",
        "        if len(a) < len(p):\n",
        "            continue\n",
        "        scores.append(ap(a, p))\n",
        "    return np.mean(scores)"
      ],
      "metadata": {
        "id": "DVirLkU3cqMN"
      },
      "execution_count": 152,
      "outputs": []
    },
    {
      "cell_type": "markdown",
      "source": [
        "### Popular"
      ],
      "metadata": {
        "id": "n9kUZfS1hDiz"
      }
    },
    {
      "cell_type": "code",
      "source": [
        "predicted = np.stack([rec_popular_by_iteraction_indexes[:5]] * len(test_values))\n",
        "mapk(test_values, predicted)"
      ],
      "metadata": {
        "colab": {
          "base_uri": "https://localhost:8080/"
        },
        "id": "3YtEsVxRhBtg",
        "outputId": "91e32d20-dff3-4990-d7a8-1461b00ea8b8"
      },
      "execution_count": 164,
      "outputs": [
        {
          "output_type": "execute_result",
          "data": {
            "text/plain": [
              "8.555783709787816e-05"
            ]
          },
          "metadata": {},
          "execution_count": 164
        }
      ]
    },
    {
      "cell_type": "code",
      "source": [
        "predicted = np.stack([rec_best_by_rating_indexes[:5]] * len(test_values))\n",
        "mapk(test_values, predicted)"
      ],
      "metadata": {
        "colab": {
          "base_uri": "https://localhost:8080/"
        },
        "id": "mtpFb5JOhc-w",
        "outputId": "58f7b3f0-34bb-4546-ef8d-15137a303442"
      },
      "execution_count": 165,
      "outputs": [
        {
          "output_type": "execute_result",
          "data": {
            "text/plain": [
              "8.555783709787816e-05"
            ]
          },
          "metadata": {},
          "execution_count": 165
        }
      ]
    },
    {
      "cell_type": "markdown",
      "source": [
        "### SVD"
      ],
      "metadata": {
        "id": "AoeLySXZikhh"
      }
    },
    {
      "cell_type": "code",
      "source": [
        "mapk(test_values, rec_best_by_svd_indexes)"
      ],
      "metadata": {
        "colab": {
          "base_uri": "https://localhost:8080/"
        },
        "id": "KNkxT9vZihRR",
        "outputId": "95e0e878-2d38-4996-d50a-245e4d48fcb0"
      },
      "execution_count": 166,
      "outputs": [
        {
          "output_type": "execute_result",
          "data": {
            "text/plain": [
              "0.2868735265039166"
            ]
          },
          "metadata": {},
          "execution_count": 166
        }
      ]
    },
    {
      "cell_type": "markdown",
      "source": [
        "### Content Base"
      ],
      "metadata": {
        "id": "k7FN4kC9ixmx"
      }
    },
    {
      "cell_type": "code",
      "source": [
        "mapk(test_values, rec_best_by_content_indexes)"
      ],
      "metadata": {
        "colab": {
          "base_uri": "https://localhost:8080/"
        },
        "id": "Ea2jMOhDitHZ",
        "outputId": "10119c90-91d8-45db-f6ce-903d45411258"
      },
      "execution_count": 167,
      "outputs": [
        {
          "output_type": "execute_result",
          "data": {
            "text/plain": [
              "0.10229057342763707"
            ]
          },
          "metadata": {},
          "execution_count": 167
        }
      ]
    }
  ]
}