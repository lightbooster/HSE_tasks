{
  "nbformat": 4,
  "nbformat_minor": 0,
  "metadata": {
    "colab": {
      "name": "Lab1_CV_Sapozhnikov.ipynb",
      "provenance": [],
      "collapsed_sections": [
        "iRjlG8W1c83a"
      ],
      "toc_visible": true
    },
    "kernelspec": {
      "name": "python3",
      "display_name": "Python 3"
    },
    "language_info": {
      "name": "python"
    }
  },
  "cells": [
    {
      "cell_type": "code",
      "metadata": {
        "id": "4lb9164GAH22"
      },
      "source": [
        "import random\n",
        "import os\n",
        "import numpy as np\n",
        "import pandas as pd\n",
        "import torch\n",
        "import glob\n",
        "from PIL import Image\n",
        "import matplotlib.pyplot as plt"
      ],
      "execution_count": 387,
      "outputs": []
    },
    {
      "cell_type": "code",
      "metadata": {
        "id": "O0IOWB4s_6TF"
      },
      "source": [
        "!pip install ray[tune]"
      ],
      "execution_count": null,
      "outputs": []
    },
    {
      "cell_type": "code",
      "metadata": {
        "id": "x0D7fZnNLcGC"
      },
      "source": [
        "from functools import partial\n",
        "import torch\n",
        "import torch.nn as nn\n",
        "import torch.nn.functional as F\n",
        "import torch.optim as optim\n",
        "from torch.utils.data import random_split\n",
        "from torchvision import transforms\n",
        "import torchvision"
      ],
      "execution_count": 345,
      "outputs": []
    },
    {
      "cell_type": "code",
      "metadata": {
        "id": "cVEzQ83VhY4N"
      },
      "source": [
        "from tabulate import tabulate as tb"
      ],
      "execution_count": 3,
      "outputs": []
    },
    {
      "cell_type": "code",
      "metadata": {
        "id": "-aaojitf32hj"
      },
      "source": [
        "from sklearn.metrics import f1_score\n",
        "from sklearn.metrics import accuracy_score\n",
        "from sklearn.metrics import classification_report\n",
        "from sklearn.metrics import confusion_matrix"
      ],
      "execution_count": 381,
      "outputs": []
    },
    {
      "cell_type": "code",
      "metadata": {
        "id": "4wr_8aJRGYs6"
      },
      "source": [
        "import matplotlib.pyplot as plt\n",
        "import seaborn as sns"
      ],
      "execution_count": 385,
      "outputs": []
    },
    {
      "cell_type": "markdown",
      "metadata": {
        "id": "iGdgmfi5UZkD"
      },
      "source": [
        "# Dataset"
      ]
    },
    {
      "cell_type": "code",
      "metadata": {
        "id": "V7cPYcibXTGD"
      },
      "source": [
        "PATH_DELIMITER = '/'"
      ],
      "execution_count": 5,
      "outputs": []
    },
    {
      "cell_type": "code",
      "metadata": {
        "id": "AdRMIINUESaF"
      },
      "source": [
        "class LetterImageDataset(torch.utils.data.Dataset):\n",
        "  def __init__(self, images_path, image_filter='**/*.jpg', \n",
        "               gray_scale=True, recursive=True):  \n",
        "    self.__image_files = glob.glob(images_path + '/' + image_filter, recursive=recursive)\n",
        "    gray_scale_channels = 1 if gray_scale else 3\n",
        "    self.__transform =  transforms.Compose([transforms.Lambda(lambda x: np.transpose(x, axes=(1, 0, 2))),\n",
        "                                            transforms.ToTensor(),\n",
        "                                            transforms.Normalize(mean=[0.485, 0.456, 0.406], std=[0.229, 0.224, 0.225]),\n",
        "                                            transforms.Grayscale(num_output_channels=gray_scale_channels),\n",
        "                                            transforms.Lambda(lambda x: x.float())])\n",
        "\n",
        "  @staticmethod\n",
        "  def __get_label(imgae_path: str) -> int:\n",
        "    file_name_start_index = imgae_path.rfind(PATH_DELIMITER)\n",
        "    label_char = imgae_path[file_name_start_index + 1 :][0]\n",
        "    return int(ord(label_char) - 97)\n",
        "  \n",
        "  def __len__(self):\n",
        "    return len(self.__image_files)\n",
        "\n",
        "  def __getitem__(self, index) -> tuple:\n",
        "    cur_path = self.__image_files[index]\n",
        "    image = np.asarray(Image.open(cur_path))\n",
        "    image = self.__transform(image)\n",
        "    label = self.__get_label(cur_path)\n",
        "    return image, label\n",
        "\n",
        "def get_letter_from_label(label) -> chr:\n",
        "  return chr(int(label) + 97)"
      ],
      "execution_count": 605,
      "outputs": []
    },
    {
      "cell_type": "code",
      "metadata": {
        "colab": {
          "base_uri": "https://localhost:8080/"
        },
        "id": "Is8bYNSlYeCF",
        "outputId": "bc2926b5-bd4e-4e21-996a-a7670570fb00"
      },
      "source": [
        "DATASET_PATH = os.path.abspath(\"./Documents/images\")\n",
        "DATASET_PATH"
      ],
      "execution_count": 259,
      "outputs": [
        {
          "output_type": "execute_result",
          "data": {
            "text/plain": [
              "'/Users/sanduser/Documents/images'"
            ]
          },
          "metadata": {},
          "execution_count": 259
        }
      ]
    },
    {
      "cell_type": "code",
      "metadata": {
        "colab": {
          "base_uri": "https://localhost:8080/"
        },
        "id": "LE7t5T0mPbKk",
        "outputId": "f79711bc-1c97-4dc8-beb1-bd9143df977e"
      },
      "source": [
        "dataset = LetterImageDataset(f\"{DATASET_PATH}/train\")\n",
        "print(f\"Train data size: {len(dataset)}\")"
      ],
      "execution_count": 261,
      "outputs": [
        {
          "output_type": "stream",
          "name": "stdout",
          "text": [
            "Train data size: 65000\n"
          ]
        }
      ]
    },
    {
      "cell_type": "code",
      "metadata": {
        "colab": {
          "base_uri": "https://localhost:8080/",
          "height": 176
        },
        "id": "q_TYePI-Qlxd",
        "outputId": "46f062b5-7cc3-4db3-f7d6-570fb6f533b2"
      },
      "source": [
        "image_exmp, label_exmp = dataset[0]\n",
        "plt.figure(figsize=(2,2))\n",
        "plt.imshow(image_exmp.T)\n",
        "plt.show()\n",
        "print('Label: ', label_exmp, f\"({get_letter_from_label(label_exmp)})\")"
      ],
      "execution_count": 262,
      "outputs": [
        {
          "output_type": "display_data",
          "data": {
            "text/plain": [
              "<Figure size 144x144 with 1 Axes>"
            ],
            "image/png": "[encoded data removed]"
          },
          "metadata": {
            "needs_background": "light"
          }
        },
        {
          "output_type": "stream",
          "name": "stdout",
          "text": [
            "Label:  17 (r)\n"
          ]
        }
      ]
    },
    {
      "cell_type": "markdown",
      "metadata": {
        "id": "I2-zHM8oNBLx"
      },
      "source": [
        "# Create train utilities"
      ]
    },
    {
      "cell_type": "markdown",
      "metadata": {
        "id": "7oyxfQqpc4Kg"
      },
      "source": [
        "## Model training"
      ]
    },
    {
      "cell_type": "code",
      "metadata": {
        "id": "-LW9Lfurp8Mn"
      },
      "source": [
        "preprocess = transforms.Compose([transforms.Lambda(lambda x: np.transpose(x, axes=(1, 0, 2))),\n",
        "                                 transforms.ToTensor(),\n",
        "                                 transforms.Normalize(mean=[0.485, 0.456, 0.406], std=[0.229, 0.224, 0.225]),\n",
        "                                 transforms.Grayscale(num_output_channels=1),\n",
        "                                 transforms.Lambda(lambda x: x.float())])"
      ],
      "execution_count": 340,
      "outputs": []
    },
    {
      "cell_type": "code",
      "metadata": {
        "id": "uS9gSKU1Gx1A"
      },
      "source": [
        "def train_model(model: torch.nn.Module, \n",
        "                criterion, optimizer, data_dir: str,\n",
        "                epochs: int, batch_size: int, \n",
        "                report_step: int, train_split_precent: float,\n",
        "                checkpoint_path: str,\n",
        "                gray_scale=True):\n",
        "\n",
        "    # Choose device\n",
        "    device = \"cpu\" if not torch.cuda.is_available() else \"cuda:0\"\n",
        "    model.to(device)\n",
        "\n",
        "    # Define data loaders\n",
        "    train_dataset = LetterImageDataset(f\"{data_dir}/train\", gray_scale=gray_scale)\n",
        "\n",
        "    train_size = int(len(train_dataset) * train_split_precent)\n",
        "    train_subset, val_subset = random_split(train_dataset, \n",
        "                                            [train_size, len(train_dataset) - train_size])\n",
        "\n",
        "    train_loader = torch.utils.data.DataLoader(\n",
        "        train_subset,\n",
        "        batch_size=int(batch_size),\n",
        "        shuffle=True)\n",
        "  \n",
        "    valid_loader = torch.utils.data.DataLoader(\n",
        "        val_subset,\n",
        "        batch_size=int(batch_size),\n",
        "        shuffle=True)\n",
        "\n",
        "    # Train\n",
        "    iteration = 0\n",
        "    train_info = {\n",
        "        'loss': [],\n",
        "        'iteration': [],\n",
        "        'accuracy': [],\n",
        "    }\n",
        "    for epoch in range(epochs):\n",
        "        model.train()\n",
        "        for i, data in enumerate(train_loader):\n",
        "            inputs, labels = data\n",
        "            inputs, labels = inputs.to(device), labels.to(device)\n",
        "\n",
        "            # zero the parameter gradients\n",
        "            optimizer.zero_grad()\n",
        "\n",
        "            # forward\n",
        "            outputs = model(inputs)\n",
        "\n",
        "            # optimize\n",
        "            loss = criterion(outputs, labels)\n",
        "            loss.backward()\n",
        "            optimizer.step()\n",
        "\n",
        "            # Validate\n",
        "            if iteration % report_step == 0:\n",
        "                val_loss = []\n",
        "                val_labels = []\n",
        "                val_predicted = []\n",
        "                model.eval()\n",
        "                with torch.no_grad():\n",
        "                    for i, data in enumerate(valid_loader):\n",
        "                        inputs, labels = data\n",
        "                        inputs, labels = inputs.to(device), labels.to(device)\n",
        "                        # predict\n",
        "                        outputs = model(inputs)\n",
        "                        _, predicted = torch.max(outputs.data, 1)\n",
        "                        #loss\n",
        "                        loss = criterion(outputs, labels)\n",
        "                        # for metrics\n",
        "                        val_labels += labels.tolist()\n",
        "                        val_predicted += predicted.tolist()\n",
        "                        # MISHAS\n",
        "                        val_loss.append(loss.numpy())\n",
        "                # Calculate metric\n",
        "                acc = accuracy_score(val_labels, val_predicted)\n",
        "                # Log\n",
        "                train_info['loss'].append(loss.data)\n",
        "                train_info['iteration'].append(iteration)\n",
        "                train_info['accuracy'].append(acc)\n",
        "                print(f\"[ Epoch: {epoch} | Iteration: {iteration} | Loss train: {loss.data} | Loss val: {np.mean(val_loss)} | Acc: {acc}]\")\n",
        "                # Checkpoint\n",
        "                torch.save({\n",
        "                            'epoch': epoch,\n",
        "                            'model_state_dict': model.state_dict(),\n",
        "                            'optimizer_state_dict': optimizer.state_dict(),\n",
        "                            'loss': loss.data,\n",
        "                            }, checkpoint_path)\n",
        "\n",
        "            iteration += 1\n",
        "\n",
        "    print(\"Finished Training\")"
      ],
      "execution_count": 606,
      "outputs": []
    },
    {
      "cell_type": "markdown",
      "metadata": {
        "id": "td2Shb3Vintl"
      },
      "source": [
        "## Test validation"
      ]
    },
    {
      "cell_type": "code",
      "metadata": {
        "id": "r7LlvJBRiqo2"
      },
      "source": [
        "def test_validation(model: torch.nn.Module, data_dir: str, labels: list,\n",
        "                    batch_size=32, gray_scale=True):\n",
        "    device = \"cpu\" if not torch.cuda.is_available() else \"cuda:0\"\n",
        "    test_dataset = LetterImageDataset(f\"{data_dir}/test\", gray_scale=gray_scale)\n",
        "    test_loader = torch.utils.data.DataLoader(test_dataset, \n",
        "                                              batch_size=batch_size, \n",
        "                                              shuffle=False)\n",
        "\n",
        "    test_labels = []\n",
        "    test_predicted = []\n",
        "    model.eval()\n",
        "    with torch.no_grad():\n",
        "        for data in test_loader:\n",
        "            images, labels = data\n",
        "            images, labels = images.to(device), labels.to(device)\n",
        "            outputs = model(images)\n",
        "            _, predicted = torch.max(outputs.data, 1)\n",
        "            # for metrics\n",
        "            test_labels += labels.tolist()\n",
        "            test_predicted += predicted.tolist()\n",
        "\n",
        "    acc = accuracy_score(test_labels, test_predicted)\n",
        "    f1 = f1_score(test_labels, test_predicted, labels=labels, average='weighted')\n",
        "\n",
        "    print(\"+=======================================+\")\n",
        "    print(\"|             TEST RESULTS              |\")\n",
        "    print(\"+=======================================+\")\n",
        "    print(tb([['Accuracy', acc], ['F1', f1]], headers=('Metric', 'Scores')))\n",
        "    print(\"classification_report:\")\n",
        "    print(classification_report(test_labels, test_predicted))\n",
        "    return test_labels, test_predicted"
      ],
      "execution_count": 608,
      "outputs": []
    },
    {
      "cell_type": "markdown",
      "metadata": {
        "id": "KyxOHQJ8sS-5"
      },
      "source": [
        "# Linear models"
      ]
    },
    {
      "cell_type": "code",
      "metadata": {
        "id": "V8CixBJ97Nhb"
      },
      "source": [
        "activation_map = {\n",
        "    \"ReLU\" : nn.ReLU,\n",
        "    \"Sigm\" : nn.Sigmoid,\n",
        "    \"Tanh\" : nn.Tanh,\n",
        "}"
      ],
      "execution_count": 318,
      "outputs": []
    },
    {
      "cell_type": "code",
      "metadata": {
        "id": "DJjpZHmLsVn3"
      },
      "source": [
        "class LinearClassifier(nn.Module):\n",
        "    def __init__(self, hidden1: int, hidden2: int, \n",
        "                 activation: str, dropout: float):\n",
        "        super().__init__()\n",
        "        input_features = 28 * 28\n",
        "        output_features = 26\n",
        "        self.activation = activation_map[activation]()\n",
        "        self.dropout = nn.Dropout(p=dropout)\n",
        "        self.l1 = nn.Linear(input_features, hidden1)\n",
        "        if hidden2 is None:\n",
        "            self.l2 = nn.Linear(hidden1, output_features)\n",
        "            self.l3 = None\n",
        "        else:\n",
        "            self.l2 = nn.Linear(hidden1, hidden2)\n",
        "            self.l3 = nn.Linear(hidden2, output_features)\n",
        "\n",
        "      \n",
        "    def forward(self, x):\n",
        "        x = torch.flatten(x, start_dim=1)\n",
        "        # Layer 1\n",
        "        x = self.l1(x)\n",
        "        x = self.activation(x)\n",
        "        x = self.dropout(x)\n",
        "        # Layer 2\n",
        "        x = self.l2(x)\n",
        "        x = self.activation(x)\n",
        "        x = self.dropout(x)\n",
        "        # Layer 3\n",
        "        if self.l3 is not None:\n",
        "            x = self.l3(x)\n",
        "            x = self.activation(x)\n",
        "            x = self.dropout(x)\n",
        "        return x"
      ],
      "execution_count": 423,
      "outputs": []
    },
    {
      "cell_type": "markdown",
      "metadata": {
        "id": "RPmN6KvC8CUF"
      },
      "source": [
        "### 2 Fully Connected"
      ]
    },
    {
      "cell_type": "code",
      "metadata": {
        "id": "yD7vMTLs8CUF"
      },
      "source": [
        "linear_model_2fc = LinearClassifier(128, None, \"Sigm\", 0.3)\n",
        "criterion = nn.CrossEntropyLoss()\n",
        "optimizer = torch.optim.SGD(linear_model_2fc.parameters(), lr=0.05)"
      ],
      "execution_count": 369,
      "outputs": []
    },
    {
      "cell_type": "code",
      "metadata": {
        "colab": {
          "base_uri": "https://localhost:8080/"
        },
        "id": "QP5kHJAm8CUG",
        "outputId": "0092eabb-5e06-4326-d8b9-194b84d72c21"
      },
      "source": [
        "train_model(linear_model_2fc, criterion, optimizer, DATASET_PATH,\n",
        "            epochs=5, batch_size=64, train_split_precent=0.8,\n",
        "            report_step=500,\n",
        "            checkpoint_path=os.path.abspath(\"./checkpoints/linear_model_2fc_checkpoint\"))"
      ],
      "execution_count": 370,
      "outputs": [
        {
          "output_type": "stream",
          "name": "stdout",
          "text": [
            "[ Epoch: 0 | Iteration: 0 | Loss train: 3.2499334812164307 | Loss val: 3.2621071338653564 | Acc: 0.040769230769230766]\n",
            "[ Epoch: 0 | Iteration: 500 | Loss train: 3.062405586242676 | Loss val: 3.0348613262176514 | Acc: 0.5064615384615384]\n",
            "[ Epoch: 1 | Iteration: 1000 | Loss train: 2.839216709136963 | Loss val: 2.8898799419403076 | Acc: 0.5473076923076923]\n",
            "[ Epoch: 1 | Iteration: 1500 | Loss train: 2.8298866748809814 | Loss val: 2.8121869564056396 | Acc: 0.5664615384615385]\n",
            "[ Epoch: 2 | Iteration: 2000 | Loss train: 2.640082836151123 | Loss val: 2.7636663913726807 | Acc: 0.5783846153846154]\n",
            "[ Epoch: 3 | Iteration: 2500 | Loss train: 2.7814860343933105 | Loss val: 2.731457233428955 | Acc: 0.5863076923076923]\n",
            "[ Epoch: 3 | Iteration: 3000 | Loss train: 2.8126842975616455 | Loss val: 2.7077252864837646 | Acc: 0.5946923076923077]\n",
            "[ Epoch: 4 | Iteration: 3500 | Loss train: 2.5634095668792725 | Loss val: 2.688018798828125 | Acc: 0.6021538461538462]\n",
            "[ Epoch: 4 | Iteration: 4000 | Loss train: 2.6880269050598145 | Loss val: 2.6740591526031494 | Acc: 0.6065384615384616]\n",
            "Finished Training\n"
          ]
        }
      ]
    },
    {
      "cell_type": "code",
      "metadata": {
        "colab": {
          "base_uri": "https://localhost:8080/"
        },
        "id": "GfhGg_WdxegG",
        "outputId": "55f3fe3f-a46a-4da8-b1ee-c729fd3024b8"
      },
      "source": [
        "rows_samples = [\n",
        "    [12, 64, 5, 0.05, 0.21293276],\n",
        "    [64, 64, 5, 0.05, 0.51982387],\n",
        "    [128, 64, 5, 0.05, 0.60653846],\n",
        "    [128, 16, 5, 0.05, 0.5819204],\n",
        "    [128, 64, 5, 0.1, 0.53912747],\n",
        "]\n",
        "headers=('Hidden', 'Batch_size', 'Epochs', 'LR', 'Val Acc')\n",
        "print(\"Tested configurations:\")\n",
        "print(tb(rows_samples, headers=headers, tablefmt='fancy_grid'))"
      ],
      "execution_count": 590,
      "outputs": [
        {
          "output_type": "stream",
          "name": "stdout",
          "text": [
            "Tested configurations:\n",
            "╒══════════╤══════════════╤══════════╤══════╤═══════════╕\n",
            "│   Hidden │   Batch_size │   Epochs │   LR │   Val Acc │\n",
            "╞══════════╪══════════════╪══════════╪══════╪═══════════╡\n",
            "│       12 │           64 │        5 │ 0.05 │  0.212933 │\n",
            "├──────────┼──────────────┼──────────┼──────┼───────────┤\n",
            "│       64 │           64 │        5 │ 0.05 │  0.519824 │\n",
            "├──────────┼──────────────┼──────────┼──────┼───────────┤\n",
            "│      128 │           64 │        5 │ 0.05 │  0.606538 │\n",
            "├──────────┼──────────────┼──────────┼──────┼───────────┤\n",
            "│      128 │           16 │        5 │ 0.05 │  0.58192  │\n",
            "├──────────┼──────────────┼──────────┼──────┼───────────┤\n",
            "│      128 │           64 │        5 │ 0.1  │  0.539127 │\n",
            "╘══════════╧══════════════╧══════════╧══════╧═══════════╛\n"
          ]
        }
      ]
    },
    {
      "cell_type": "markdown",
      "metadata": {
        "id": "FbmRgidZ763x"
      },
      "source": [
        "### 3 Fully Connected"
      ]
    },
    {
      "cell_type": "code",
      "metadata": {
        "id": "tmbEhaa-qsQZ"
      },
      "source": [
        "linear_model_3fc = LinearClassifier(256, 128, \"ReLU\", 0.25)\n",
        "criterion = nn.CrossEntropyLoss()\n",
        "optimizer = torch.optim.SGD(linear_model_TEST.parameters(), lr=0.06)"
      ],
      "execution_count": 353,
      "outputs": []
    },
    {
      "cell_type": "code",
      "metadata": {
        "colab": {
          "base_uri": "https://localhost:8080/"
        },
        "id": "AybSNT8eqsQb",
        "outputId": "742190cb-c2dc-4c78-816c-10326de0f25c"
      },
      "source": [
        "train_model(linear_model_3fc, criterion, optimizer, DATASET_PATH,\n",
        "            epochs=15, batch_size=128, train_split_precent=0.8,\n",
        "            report_step=500,\n",
        "            checkpoint_path=os.path.abspath(\"./checkpoints/linear_model_3fc_checkpoint\"))"
      ],
      "execution_count": 354,
      "outputs": [
        {
          "output_type": "stream",
          "name": "stdout",
          "text": [
            "[ Epoch: 0 | Iteration: 0 | Loss train: 3.2580080032348633 | Loss val: 3.253973960876465 | Acc: 0.05423076923076923]\n",
            "[ Epoch: 1 | Iteration: 500 | Loss train: 1.1296449899673462 | Loss val: 0.9512762427330017 | Acc: 0.7336923076923076]\n",
            "[ Epoch: 2 | Iteration: 1000 | Loss train: 0.576475977897644 | Loss val: 0.7043811082839966 | Acc: 0.7973846153846154]\n",
            "[ Epoch: 3 | Iteration: 1500 | Loss train: 0.6280474662780762 | Loss val: 0.6039248704910278 | Acc: 0.8271538461538461]\n",
            "[ Epoch: 4 | Iteration: 2000 | Loss train: 0.4204603433609009 | Loss val: 0.5805203914642334 | Acc: 0.8325384615384616]\n",
            "[ Epoch: 6 | Iteration: 2500 | Loss train: 0.7757799625396729 | Loss val: 0.5591497421264648 | Acc: 0.8368461538461538]\n",
            "[ Epoch: 7 | Iteration: 3000 | Loss train: 0.46236976981163025 | Loss val: 0.5093569159507751 | Acc: 0.8568461538461538]\n",
            "[ Epoch: 8 | Iteration: 3500 | Loss train: 0.5690075755119324 | Loss val: 0.39278221130371094 | Acc: 0.8735384615384615]\n",
            "[ Epoch: 9 | Iteration: 4000 | Loss train: 0.2100999355316162 | Loss val: 0.3785686790943146 | Acc: 0.8823076923076923]\n",
            "[ Epoch: 11 | Iteration: 4500 | Loss train: 0.381658673286438 | Loss val: 0.3633890748023987 | Acc: 0.8867692307692308]\n",
            "[ Epoch: 12 | Iteration: 5000 | Loss train: 0.4227241575717926 | Loss val: 0.3627956509590149 | Acc: 0.8884615384615384]\n",
            "[ Epoch: 13 | Iteration: 5500 | Loss train: 0.27068695425987244 | Loss val: 0.35746631026268005 | Acc: 0.8887692307692308]\n",
            "[ Epoch: 14 | Iteration: 6000 | Loss train: 0.4447803497314453 | Loss val: 0.36551621556282043 | Acc: 0.8884615384615384]\n",
            "Finished Training\n"
          ]
        }
      ]
    },
    {
      "cell_type": "code",
      "metadata": {
        "colab": {
          "base_uri": "https://localhost:8080/"
        },
        "id": "wrKeza0ezdHy",
        "outputId": "cda2c75f-88d8-4218-c4d7-65c2d7644868"
      },
      "source": [
        "rows_samples = [\n",
        "    [128, 256, 128, 10, 0.05, 0.69919390],\n",
        "    [256, 128, 128, 15, 0.05, 0.88846153],\n",
        "    [64, 128, 128, 15, 0.05, 0.81237817],\n",
        "]\n",
        "headers=('Hidden1', 'Hidden2', 'Batch_size', 'Epochs', 'LR', 'Val Acc')\n",
        "print(\"Tested configurations:\")\n",
        "print(tb(rows_samples, headers=headers, tablefmt='fancy_grid'))"
      ],
      "execution_count": 592,
      "outputs": [
        {
          "output_type": "stream",
          "name": "stdout",
          "text": [
            "Tested configurations:\n",
            "╒═══════════╤═══════════╤══════════════╤══════════╤══════╤═══════════╕\n",
            "│   Hidden1 │   Hidden2 │   Batch_size │   Epochs │   LR │   Val Acc │\n",
            "╞═══════════╪═══════════╪══════════════╪══════════╪══════╪═══════════╡\n",
            "│       128 │       256 │          128 │       10 │ 0.05 │  0.699194 │\n",
            "├───────────┼───────────┼──────────────┼──────────┼──────┼───────────┤\n",
            "│       256 │       128 │          128 │       15 │ 0.05 │  0.888462 │\n",
            "├───────────┼───────────┼──────────────┼──────────┼──────┼───────────┤\n",
            "│        64 │       128 │          128 │       15 │ 0.05 │  0.812378 │\n",
            "╘═══════════╧═══════════╧══════════════╧══════════╧══════╧═══════════╛\n"
          ]
        }
      ]
    },
    {
      "cell_type": "markdown",
      "metadata": {
        "id": "pp3YfLnI0UVF"
      },
      "source": [
        "**Вывод:**  \n",
        "* Лушче работают модели, чья топология имеет форму тропеции - количество нейронов уменьшается от входного слоя к выходному. Это объясняется идей `сужения` фич входных данных или проще говоря `обобщением признаков`\n",
        "* Оптимальный `batch_size` это 128. Достаточно сэмплов для объективной подвыборки и достаточно итераций мини батча\n",
        "* Большинство моделей показывают хорошие результаты уже на 5й `эпохе`, но сходятся в промежутке между 10й и 15й\n",
        "* `Learning rate` оптимален для данной задаче в окрестности 0.05"
      ]
    },
    {
      "cell_type": "markdown",
      "metadata": {
        "id": "pa8uouaMFWzp"
      },
      "source": [
        "### Validating best model"
      ]
    },
    {
      "cell_type": "code",
      "metadata": {
        "colab": {
          "base_uri": "https://localhost:8080/"
        },
        "id": "7R39Gqsz4Ax-",
        "outputId": "4fd0a23a-7fa6-4b36-9c8d-aa72a03f0813"
      },
      "source": [
        "test_labels, test_predicted = test_validation(linear_model_3fc, DATASET_PATH, labels=list(range(26)), batch_size=128)"
      ],
      "execution_count": 485,
      "outputs": [
        {
          "output_type": "stream",
          "name": "stdout",
          "text": [
            "+=======================================+\n",
            "|             TEST RESULTS              |\n",
            "+=======================================+\n",
            "Metric      Scores\n",
            "--------  --------\n",
            "Accuracy   0.888\n",
            "F1         0.94856\n",
            "classification_report:\n",
            "              precision    recall  f1-score   support\n",
            "\n",
            "           0       0.85      0.89      0.87       500\n",
            "           1       0.93      0.91      0.92       500\n",
            "           2       0.91      0.95      0.93       500\n",
            "           3       0.95      0.90      0.92       500\n",
            "           4       0.88      0.95      0.91       500\n",
            "           5       0.92      0.92      0.92       500\n",
            "           6       0.57      0.93      0.71       500\n",
            "           7       0.92      0.91      0.91       500\n",
            "           8       0.73      0.73      0.73       500\n",
            "           9       0.93      0.92      0.92       500\n",
            "          10       0.97      0.89      0.93       500\n",
            "          11       0.75      0.74      0.74       500\n",
            "          12       0.96      0.95      0.96       500\n",
            "          13       0.89      0.93      0.91       500\n",
            "          14       0.90      0.97      0.93       500\n",
            "          15       0.98      0.89      0.93       500\n",
            "          16       0.92      0.47      0.63       500\n",
            "          17       0.91      0.90      0.91       500\n",
            "          18       0.95      0.93      0.94       500\n",
            "          19       0.92      0.93      0.93       500\n",
            "          20       0.91      0.94      0.92       500\n",
            "          21       0.89      0.91      0.90       500\n",
            "          22       0.98      0.92      0.95       500\n",
            "          23       0.95      0.94      0.94       500\n",
            "          24       0.91      0.87      0.89       500\n",
            "          25       0.96      0.90      0.93       500\n",
            "\n",
            "    accuracy                           0.89     13000\n",
            "   macro avg       0.90      0.89      0.89     13000\n",
            "weighted avg       0.90      0.89      0.89     13000\n",
            "\n"
          ]
        }
      ]
    },
    {
      "cell_type": "code",
      "metadata": {
        "colab": {
          "base_uri": "https://localhost:8080/"
        },
        "id": "PzAGKVpUg3P1",
        "outputId": "c76a5f7f-b610-4807-cc06-56417a99067f"
      },
      "source": [
        "report['0']['f1-score']"
      ],
      "execution_count": 492,
      "outputs": [
        {
          "output_type": "execute_result",
          "data": {
            "text/plain": [
              "0.8708414872798435"
            ]
          },
          "metadata": {},
          "execution_count": 492
        }
      ]
    },
    {
      "cell_type": "code",
      "metadata": {
        "colab": {
          "base_uri": "https://localhost:8080/"
        },
        "id": "BibIQSiTfQA-",
        "outputId": "7acebc1a-bbb7-4dd1-dfe5-5cb91882e976"
      },
      "source": [
        "report = classification_report(test_labels, test_predicted, output_dict=True)\n",
        "sorted_labels_metric = {get_letter_from_label(key): report[str(key)]['f1-score'] for key in range(26)}\n",
        "sorted_labels_metric = dict(sorted(sorted_labels_metric.items(), key=lambda item: item[1], reverse=True))\n",
        "sorted_labels_metric_list = [(key, value) for key, value in sorted_labels_metric.items()]\n",
        "sorted_labels_metric"
      ],
      "execution_count": 508,
      "outputs": [
        {
          "output_type": "execute_result",
          "data": {
            "text/plain": [
              "{'m': 0.9577464788732394,\n",
              " 'w': 0.948559670781893,\n",
              " 'x': 0.9448345035105314,\n",
              " 's': 0.9383215369059656,\n",
              " 'o': 0.9334619093539054,\n",
              " 'z': 0.9309989701338827,\n",
              " 'p': 0.9298429319371727,\n",
              " 'k': 0.9281997918834548,\n",
              " 'c': 0.9275929549902151,\n",
              " 't': 0.9250749250749251,\n",
              " 'u': 0.9232283464566928,\n",
              " 'd': 0.9218106995884775,\n",
              " 'b': 0.9213709677419355,\n",
              " 'j': 0.9206030150753768,\n",
              " 'f': 0.9181636726546906,\n",
              " 'h': 0.9147442326980942,\n",
              " 'e': 0.9117082533589251,\n",
              " 'n': 0.9106967615309126,\n",
              " 'r': 0.9054325955734406,\n",
              " 'v': 0.9018830525272546,\n",
              " 'y': 0.8895705521472392,\n",
              " 'a': 0.8708414872798435,\n",
              " 'l': 0.7439516129032258,\n",
              " 'i': 0.7287287287287286,\n",
              " 'g': 0.7102661596958176,\n",
              " 'q': 0.6261558784676353}"
            ]
          },
          "metadata": {},
          "execution_count": 508
        }
      ]
    },
    {
      "cell_type": "markdown",
      "metadata": {
        "id": "3UPP_Dg_jrvZ"
      },
      "source": [
        "Модель обучилась не очень равномерно, так как есть лейблы, метрики которых сильно отличаются от среднего  \n",
        "\n",
        "Например, буквы `q` , `g` , `i` , `l` детектируются с ошибкой чаще других"
      ]
    },
    {
      "cell_type": "markdown",
      "metadata": {
        "id": "oS86VSuSiUrB"
      },
      "source": [
        "#### Best predicted"
      ]
    },
    {
      "cell_type": "code",
      "metadata": {
        "colab": {
          "base_uri": "https://localhost:8080/"
        },
        "id": "CQyQETswiUQa",
        "outputId": "e76f45ab-cb84-439c-b09d-f769f871f125"
      },
      "source": [
        "print(tb(sorted_labels_metric_list[:5], headers=('Label', 'F1-Score')))"
      ],
      "execution_count": 512,
      "outputs": [
        {
          "output_type": "stream",
          "name": "stdout",
          "text": [
            "Label      F1-Score\n",
            "-------  ----------\n",
            "m          0.957746\n",
            "w          0.94856\n",
            "x          0.944835\n",
            "s          0.938322\n",
            "o          0.933462\n"
          ]
        }
      ]
    },
    {
      "cell_type": "markdown",
      "metadata": {
        "id": "65kefHmpi-tw"
      },
      "source": [
        "#### Worst predicted"
      ]
    },
    {
      "cell_type": "code",
      "metadata": {
        "id": "qicPQ6QPjJZt"
      },
      "source": [
        "a = (sorted_labels_metric_list[-5:])\n",
        "a.reverse()\n",
        "a"
      ],
      "execution_count": 523,
      "outputs": []
    },
    {
      "cell_type": "code",
      "metadata": {
        "colab": {
          "base_uri": "https://localhost:8080/"
        },
        "id": "wRTne54Mi-tw",
        "outputId": "90e8fd18-7035-46f0-8830-0ccfc6f968d2"
      },
      "source": [
        "worst = sorted_labels_metric_list[-5:]\n",
        "worst.reverse()\n",
        "print(tb(worst, headers=('Label', 'F1-Score')))"
      ],
      "execution_count": 525,
      "outputs": [
        {
          "output_type": "stream",
          "name": "stdout",
          "text": [
            "Label      F1-Score\n",
            "-------  ----------\n",
            "q          0.626156\n",
            "g          0.710266\n",
            "i          0.728729\n",
            "l          0.743952\n",
            "a          0.870841\n"
          ]
        }
      ]
    },
    {
      "cell_type": "markdown",
      "metadata": {
        "id": "1s4eSJW0jkDf"
      },
      "source": [
        "#### Messed (Similar) labels"
      ]
    },
    {
      "cell_type": "code",
      "metadata": {
        "colab": {
          "base_uri": "https://localhost:8080/",
          "height": 863
        },
        "id": "IeB9iuh_FV6-",
        "outputId": "08664a82-bc40-4649-993b-eb07a2fa8dc6"
      },
      "source": [
        "letter_labels = [get_letter_from_label(x) for x in range(26)]\n",
        "cm_values = confusion_matrix(test_labels, test_predicted)\n",
        "cm_df = pd.DataFrame(cm_values/np.sum(cm_values) * 26, \n",
        "                     index = letter_labels,\n",
        "                     columns = letter_labels)\n",
        "plt.figure(figsize = (20,15))\n",
        "sns.heatmap(cm_df, annot=True)\n",
        "plt.show()"
      ],
      "execution_count": 395,
      "outputs": [
        {
          "output_type": "display_data",
          "data": {
            "text/plain": [
              "<Figure size 1440x1080 with 2 Axes>"
            ],
            "image/png": "[encoded data removed]"
          },
          "metadata": {
            "needs_background": "light"
          }
        }
      ]
    },
    {
      "cell_type": "code",
      "metadata": {
        "colab": {
          "base_uri": "https://localhost:8080/",
          "height": 235
        },
        "id": "dkg9_ebAHgm9",
        "outputId": "2cde4835-c342-426c-98c7-6bbc86f3ccc8"
      },
      "source": [
        "cm_df.head()"
      ],
      "execution_count": 396,
      "outputs": [
        {
          "output_type": "execute_result",
          "data": {
            "text/plain": [
              "       a      b      c      d      e      f      g      h      i      j  ...  \\\n",
              "a  0.890  0.002  0.010  0.004  0.016  0.002  0.028  0.006  0.000  0.002  ...   \n",
              "b  0.004  0.914  0.000  0.008  0.004  0.000  0.038  0.008  0.000  0.002  ...   \n",
              "c  0.000  0.002  0.948  0.000  0.032  0.000  0.006  0.000  0.000  0.000  ...   \n",
              "d  0.004  0.012  0.000  0.896  0.000  0.002  0.008  0.004  0.000  0.008  ...   \n",
              "e  0.006  0.002  0.018  0.000  0.950  0.004  0.004  0.000  0.002  0.000  ...   \n",
              "\n",
              "       q      r      s      t      u    v    w    x    y      z  \n",
              "a  0.006  0.002  0.002  0.004  0.002  0.0  0.0  0.0  0.0  0.000  \n",
              "b  0.002  0.002  0.004  0.000  0.000  0.0  0.0  0.0  0.0  0.004  \n",
              "c  0.002  0.000  0.002  0.000  0.002  0.0  0.0  0.0  0.0  0.000  \n",
              "d  0.000  0.000  0.000  0.002  0.002  0.0  0.0  0.0  0.0  0.000  \n",
              "e  0.000  0.002  0.004  0.000  0.002  0.0  0.0  0.0  0.0  0.004  \n",
              "\n",
              "[5 rows x 26 columns]"
            ],
            "text/html": [
              "<div>\n",
              "<style scoped>\n",
              "    .dataframe tbody tr th:only-of-type {\n",
              "        vertical-align: middle;\n",
              "    }\n",
              "\n",
              "    .dataframe tbody tr th {\n",
              "        vertical-align: top;\n",
              "    }\n",
              "\n",
              "    .dataframe thead th {\n",
              "        text-align: right;\n",
              "    }\n",
              "</style>\n",
              "<table border=\"1\" class=\"dataframe\">\n",
              "  <thead>\n",
              "    <tr style=\"text-align: right;\">\n",
              "      <th></th>\n",
              "      <th>a</th>\n",
              "      <th>b</th>\n",
              "      <th>c</th>\n",
              "      <th>d</th>\n",
              "      <th>e</th>\n",
              "      <th>f</th>\n",
              "      <th>g</th>\n",
              "      <th>h</th>\n",
              "      <th>i</th>\n",
              "      <th>j</th>\n",
              "      <th>...</th>\n",
              "      <th>q</th>\n",
              "      <th>r</th>\n",
              "      <th>s</th>\n",
              "      <th>t</th>\n",
              "      <th>u</th>\n",
              "      <th>v</th>\n",
              "      <th>w</th>\n",
              "      <th>x</th>\n",
              "      <th>y</th>\n",
              "      <th>z</th>\n",
              "    </tr>\n",
              "  </thead>\n",
              "  <tbody>\n",
              "    <tr>\n",
              "      <th>a</th>\n",
              "      <td>0.890</td>\n",
              "      <td>0.002</td>\n",
              "      <td>0.010</td>\n",
              "      <td>0.004</td>\n",
              "      <td>0.016</td>\n",
              "      <td>0.002</td>\n",
              "      <td>0.028</td>\n",
              "      <td>0.006</td>\n",
              "      <td>0.000</td>\n",
              "      <td>0.002</td>\n",
              "      <td>...</td>\n",
              "      <td>0.006</td>\n",
              "      <td>0.002</td>\n",
              "      <td>0.002</td>\n",
              "      <td>0.004</td>\n",
              "      <td>0.002</td>\n",
              "      <td>0.0</td>\n",
              "      <td>0.0</td>\n",
              "      <td>0.0</td>\n",
              "      <td>0.0</td>\n",
              "      <td>0.000</td>\n",
              "    </tr>\n",
              "    <tr>\n",
              "      <th>b</th>\n",
              "      <td>0.004</td>\n",
              "      <td>0.914</td>\n",
              "      <td>0.000</td>\n",
              "      <td>0.008</td>\n",
              "      <td>0.004</td>\n",
              "      <td>0.000</td>\n",
              "      <td>0.038</td>\n",
              "      <td>0.008</td>\n",
              "      <td>0.000</td>\n",
              "      <td>0.002</td>\n",
              "      <td>...</td>\n",
              "      <td>0.002</td>\n",
              "      <td>0.002</td>\n",
              "      <td>0.004</td>\n",
              "      <td>0.000</td>\n",
              "      <td>0.000</td>\n",
              "      <td>0.0</td>\n",
              "      <td>0.0</td>\n",
              "      <td>0.0</td>\n",
              "      <td>0.0</td>\n",
              "      <td>0.004</td>\n",
              "    </tr>\n",
              "    <tr>\n",
              "      <th>c</th>\n",
              "      <td>0.000</td>\n",
              "      <td>0.002</td>\n",
              "      <td>0.948</td>\n",
              "      <td>0.000</td>\n",
              "      <td>0.032</td>\n",
              "      <td>0.000</td>\n",
              "      <td>0.006</td>\n",
              "      <td>0.000</td>\n",
              "      <td>0.000</td>\n",
              "      <td>0.000</td>\n",
              "      <td>...</td>\n",
              "      <td>0.002</td>\n",
              "      <td>0.000</td>\n",
              "      <td>0.002</td>\n",
              "      <td>0.000</td>\n",
              "      <td>0.002</td>\n",
              "      <td>0.0</td>\n",
              "      <td>0.0</td>\n",
              "      <td>0.0</td>\n",
              "      <td>0.0</td>\n",
              "      <td>0.000</td>\n",
              "    </tr>\n",
              "    <tr>\n",
              "      <th>d</th>\n",
              "      <td>0.004</td>\n",
              "      <td>0.012</td>\n",
              "      <td>0.000</td>\n",
              "      <td>0.896</td>\n",
              "      <td>0.000</td>\n",
              "      <td>0.002</td>\n",
              "      <td>0.008</td>\n",
              "      <td>0.004</td>\n",
              "      <td>0.000</td>\n",
              "      <td>0.008</td>\n",
              "      <td>...</td>\n",
              "      <td>0.000</td>\n",
              "      <td>0.000</td>\n",
              "      <td>0.000</td>\n",
              "      <td>0.002</td>\n",
              "      <td>0.002</td>\n",
              "      <td>0.0</td>\n",
              "      <td>0.0</td>\n",
              "      <td>0.0</td>\n",
              "      <td>0.0</td>\n",
              "      <td>0.000</td>\n",
              "    </tr>\n",
              "    <tr>\n",
              "      <th>e</th>\n",
              "      <td>0.006</td>\n",
              "      <td>0.002</td>\n",
              "      <td>0.018</td>\n",
              "      <td>0.000</td>\n",
              "      <td>0.950</td>\n",
              "      <td>0.004</td>\n",
              "      <td>0.004</td>\n",
              "      <td>0.000</td>\n",
              "      <td>0.002</td>\n",
              "      <td>0.000</td>\n",
              "      <td>...</td>\n",
              "      <td>0.000</td>\n",
              "      <td>0.002</td>\n",
              "      <td>0.004</td>\n",
              "      <td>0.000</td>\n",
              "      <td>0.002</td>\n",
              "      <td>0.0</td>\n",
              "      <td>0.0</td>\n",
              "      <td>0.0</td>\n",
              "      <td>0.0</td>\n",
              "      <td>0.004</td>\n",
              "    </tr>\n",
              "  </tbody>\n",
              "</table>\n",
              "<p>5 rows × 26 columns</p>\n",
              "</div>"
            ]
          },
          "metadata": {},
          "execution_count": 396
        }
      ]
    },
    {
      "cell_type": "markdown",
      "metadata": {
        "id": "AIH8q7EgKnbk"
      },
      "source": [
        "### Most confusing letters"
      ]
    },
    {
      "cell_type": "code",
      "metadata": {
        "colab": {
          "base_uri": "https://localhost:8080/"
        },
        "id": "V3THAyIXHlum",
        "outputId": "d37dd5e3-2425-482e-a3f1-6265f9e76bab"
      },
      "source": [
        "similarity_dict = dict()\n",
        "for letter in letter_labels:\n",
        "    most_similar = cm_df[letter].drop(letter).idxmax()\n",
        "    similarity_value = cm_df[letter].loc[most_similar]\n",
        "    similarity_dict[(letter, most_similar)] = similarity_value\n",
        "\n",
        "similarity_dict = dict(sorted(similarity_dict.items(), key=lambda item: item[1], reverse=True))\n",
        "\n",
        "top = 10\n",
        "rows = []\n",
        "i = 0\n",
        "for key, value in similarity_dict.items():\n",
        "    target, similar = key\n",
        "    rows.append((target, similar, value))\n",
        "    i += 1\n",
        "    if i > top:\n",
        "        break\n",
        "\n",
        "print(tb(rows, headers=(\"Target\", \"Mess with\", \"Value\"), tablefmt='fancy_grid'))"
      ],
      "execution_count": 570,
      "outputs": [
        {
          "output_type": "stream",
          "name": "stdout",
          "text": [
            "╒══════════╤═════════════╤═════════╕\n",
            "│ Target   │ Mess with   │   Value │\n",
            "╞══════════╪═════════════╪═════════╡\n",
            "│ g        │ q           │   0.414 │\n",
            "├──────────┼─────────────┼─────────┤\n",
            "│ i        │ l           │   0.224 │\n",
            "├──────────┼─────────────┼─────────┤\n",
            "│ l        │ i           │   0.206 │\n",
            "├──────────┼─────────────┼─────────┤\n",
            "│ o        │ d           │   0.048 │\n",
            "├──────────┼─────────────┼─────────┤\n",
            "│ v        │ y           │   0.044 │\n",
            "├──────────┼─────────────┼─────────┤\n",
            "│ a        │ q           │   0.042 │\n",
            "├──────────┼─────────────┼─────────┤\n",
            "│ u        │ v           │   0.04  │\n",
            "├──────────┼─────────────┼─────────┤\n",
            "│ e        │ c           │   0.032 │\n",
            "├──────────┼─────────────┼─────────┤\n",
            "│ f        │ p           │   0.032 │\n",
            "├──────────┼─────────────┼─────────┤\n",
            "│ h        │ k           │   0.026 │\n",
            "├──────────┼─────────────┼─────────┤\n",
            "│ j        │ i           │   0.026 │\n",
            "╘══════════╧═════════════╧═════════╛\n"
          ]
        }
      ]
    },
    {
      "cell_type": "markdown",
      "metadata": {
        "id": "U6wGnnixkX9D"
      },
      "source": [
        "#### Examples"
      ]
    },
    {
      "cell_type": "code",
      "metadata": {
        "id": "2zLZsx18kXeh"
      },
      "source": [
        "test_dataset = LetterImageDataset(f\"{DATASET_PATH}/test\")"
      ],
      "execution_count": 528,
      "outputs": []
    },
    {
      "cell_type": "code",
      "metadata": {
        "id": "5-RfN7Hio0-a"
      },
      "source": [
        "errors = {}\n",
        "for real, predicted, i in zip(test_labels, test_predicted, range(len(test_labels))):\n",
        "    if real != predicted:\n",
        "        label_char = get_letter_from_label(real)\n",
        "        if label_char not in errors:\n",
        "            errors[label_char] = []\n",
        "        errors[label_char].append(i)"
      ],
      "execution_count": 562,
      "outputs": []
    },
    {
      "cell_type": "markdown",
      "metadata": {
        "id": "TPNLQ3z_rGN4"
      },
      "source": [
        "Errors in predicting `Q`"
      ]
    },
    {
      "cell_type": "code",
      "metadata": {
        "colab": {
          "base_uri": "https://localhost:8080/",
          "height": 900
        },
        "id": "KKZH0tSTlruU",
        "outputId": "99437e63-c7e5-4139-ef32-b92e2c629630"
      },
      "source": [
        "errored_images_for_q = errors['q'][:5]\n",
        "for error_index in errored_images_for_q:\n",
        "    image_exmp, label_exmp = test_dataset[error_index]\n",
        "    plt.figure(figsize=(2,2))\n",
        "    plt.imshow(image_exmp[0].T)\n",
        "    plt.show()\n",
        "    print('Predicted letter: ', get_letter_from_label(test_predicted[error_index]), '\\n')"
      ],
      "execution_count": 568,
      "outputs": [
        {
          "output_type": "display_data",
          "data": {
            "text/plain": [
              "<Figure size 144x144 with 1 Axes>"
            ],
            "image/png": "[encoded data removed]"
          },
          "metadata": {
            "needs_background": "light"
          }
        },
        {
          "output_type": "stream",
          "name": "stdout",
          "text": [
            "Predicted letter:  g \n",
            "\n"
          ]
        },
        {
          "output_type": "display_data",
          "data": {
            "text/plain": [
              "<Figure size 144x144 with 1 Axes>"
            ],
            "image/png": "[encoded data removed]"
          },
          "metadata": {
            "needs_background": "light"
          }
        },
        {
          "output_type": "stream",
          "name": "stdout",
          "text": [
            "Predicted letter:  g \n",
            "\n"
          ]
        },
        {
          "output_type": "display_data",
          "data": {
            "text/plain": [
              "<Figure size 144x144 with 1 Axes>"
            ],
            "image/png": "[encoded data removed]"
          },
          "metadata": {
            "needs_background": "light"
          }
        },
        {
          "output_type": "stream",
          "name": "stdout",
          "text": [
            "Predicted letter:  g \n",
            "\n"
          ]
        },
        {
          "output_type": "display_data",
          "data": {
            "text/plain": [
              "<Figure size 144x144 with 1 Axes>"
            ],
            "image/png": "[encoded data removed]"
          },
          "metadata": {
            "needs_background": "light"
          }
        },
        {
          "output_type": "stream",
          "name": "stdout",
          "text": [
            "Predicted letter:  e \n",
            "\n"
          ]
        },
        {
          "output_type": "display_data",
          "data": {
            "text/plain": [
              "<Figure size 144x144 with 1 Axes>"
            ],
            "image/png": "[encoded data removed]"
          },
          "metadata": {
            "needs_background": "light"
          }
        },
        {
          "output_type": "stream",
          "name": "stdout",
          "text": [
            "Predicted letter:  g \n",
            "\n"
          ]
        }
      ]
    },
    {
      "cell_type": "markdown",
      "metadata": {
        "id": "KmRjGxwDrMwd"
      },
      "source": [
        "Errors in predicting `I`"
      ]
    },
    {
      "cell_type": "code",
      "metadata": {
        "colab": {
          "base_uri": "https://localhost:8080/",
          "height": 900
        },
        "id": "x5r-1GVirE4-",
        "outputId": "6db33631-4094-4f56-97d0-61b528b5e9ff"
      },
      "source": [
        "errored_images_for_q = errors['v'][:5]\n",
        "for error_index in errored_images_for_q:\n",
        "    image_exmp, label_exmp = test_dataset[error_index]\n",
        "    plt.figure(figsize=(2,2))\n",
        "    plt.imshow(image_exmp[0].T)\n",
        "    plt.show()\n",
        "    print('Predicted letter: ', get_letter_from_label(test_predicted[error_index]), '\\n')"
      ],
      "execution_count": 567,
      "outputs": [
        {
          "output_type": "display_data",
          "data": {
            "text/plain": [
              "<Figure size 144x144 with 1 Axes>"
            ],
            "image/png": "[encoded data removed]"
          },
          "metadata": {
            "needs_background": "light"
          }
        },
        {
          "output_type": "stream",
          "name": "stdout",
          "text": [
            "Predicted letter:  y \n",
            "\n"
          ]
        },
        {
          "output_type": "display_data",
          "data": {
            "text/plain": [
              "<Figure size 144x144 with 1 Axes>"
            ],
            "image/png": "[encoded data removed]"
          },
          "metadata": {
            "needs_background": "light"
          }
        },
        {
          "output_type": "stream",
          "name": "stdout",
          "text": [
            "Predicted letter:  u \n",
            "\n"
          ]
        },
        {
          "output_type": "display_data",
          "data": {
            "text/plain": [
              "<Figure size 144x144 with 1 Axes>"
            ],
            "image/png": "[encoded data removed]"
          },
          "metadata": {
            "needs_background": "light"
          }
        },
        {
          "output_type": "stream",
          "name": "stdout",
          "text": [
            "Predicted letter:  u \n",
            "\n"
          ]
        },
        {
          "output_type": "display_data",
          "data": {
            "text/plain": [
              "<Figure size 144x144 with 1 Axes>"
            ],
            "image/png": "[encoded data removed]"
          },
          "metadata": {
            "needs_background": "light"
          }
        },
        {
          "output_type": "stream",
          "name": "stdout",
          "text": [
            "Predicted letter:  i \n",
            "\n"
          ]
        },
        {
          "output_type": "display_data",
          "data": {
            "text/plain": [
              "<Figure size 144x144 with 1 Axes>"
            ],
            "image/png": "[encoded data removed]"
          },
          "metadata": {
            "needs_background": "light"
          }
        },
        {
          "output_type": "stream",
          "name": "stdout",
          "text": [
            "Predicted letter:  j \n",
            "\n"
          ]
        }
      ]
    },
    {
      "cell_type": "markdown",
      "metadata": {
        "id": "T5INQJxVrwHM"
      },
      "source": [
        "### My name letter (A)"
      ]
    },
    {
      "cell_type": "code",
      "metadata": {
        "colab": {
          "base_uri": "https://localhost:8080/"
        },
        "id": "0V0pfu41s9Zc",
        "outputId": "d05993d6-9217-488c-e363-e5a126eeff6d"
      },
      "source": [
        "print(\"F1-score detection for letter A:\\n\", sorted_labels_metric['a'])"
      ],
      "execution_count": 583,
      "outputs": [
        {
          "output_type": "stream",
          "name": "stdout",
          "text": [
            "F1-score detection for letter A:\n",
            " 0.8708414872798435\n"
          ]
        }
      ]
    },
    {
      "cell_type": "code",
      "metadata": {
        "colab": {
          "base_uri": "https://localhost:8080/"
        },
        "id": "kJ5HA3ejsnMK",
        "outputId": "80e2f27d-8ef7-4a39-e159-22dd2018e161"
      },
      "source": [
        "cm_df['a'].drop('a').sort_values(ascending=False)"
      ],
      "execution_count": 587,
      "outputs": [
        {
          "output_type": "execute_result",
          "data": {
            "text/plain": [
              "q    0.042\n",
              "r    0.020\n",
              "g    0.014\n",
              "n    0.012\n",
              "h    0.012\n",
              "z    0.008\n",
              "e    0.006\n",
              "m    0.006\n",
              "x    0.006\n",
              "d    0.004\n",
              "p    0.004\n",
              "b    0.004\n",
              "k    0.004\n",
              "o    0.002\n",
              "l    0.002\n",
              "i    0.002\n",
              "u    0.002\n",
              "w    0.002\n",
              "y    0.002\n",
              "c    0.000\n",
              "s    0.000\n",
              "t    0.000\n",
              "v    0.000\n",
              "j    0.000\n",
              "f    0.000\n",
              "Name: a, dtype: float64"
            ]
          },
          "metadata": {},
          "execution_count": 587
        }
      ]
    },
    {
      "cell_type": "markdown",
      "metadata": {
        "id": "M7WqsCCttk_o"
      },
      "source": [
        "Больше всего первую букву моего имени `A` путают с `q` , `r` и `g`"
      ]
    },
    {
      "cell_type": "markdown",
      "metadata": {
        "id": "td9lb0ZJfdIH"
      },
      "source": [
        "# Convolutional models"
      ]
    },
    {
      "cell_type": "markdown",
      "metadata": {
        "id": "Zw91CLRFfl13"
      },
      "source": [
        "## 1Conv"
      ]
    },
    {
      "cell_type": "code",
      "metadata": {
        "id": "h2FxcBlcflJ9"
      },
      "source": [
        "class ConvClassifier1(nn.Module):\n",
        "    def __init__(self, activation: str, hidden_size: int, \n",
        "                 conv_channels: list, pooling_channels: list,\n",
        "                 conv_kernel: int, stride: int, padding: int):\n",
        "        super().__init__()\n",
        "        input_features = 28\n",
        "        conv1_channels, = conv_channels\n",
        "        pool1_channels, = pooling_channels\n",
        "        output_features = 26\n",
        "        self.activation = activation_map[activation]()\n",
        "\n",
        "        self.conv1 = nn.Conv2d(in_channels=1, out_channels=conv1_channels, \n",
        "                               kernel_size=conv_kernel,\n",
        "                               stride=stride, padding=padding)\n",
        "\n",
        "        self.pooling = nn.MaxPool2d(kernel_size=pool1_channels)\n",
        "        flattened_size = ((input_features + 2 * padding - conv_kernel) // stride + 1) // pool1_channels\n",
        "        self.linear1 = nn.Linear((flattened_size ** 2) * conv1_channels, hidden_size)\n",
        "        self.linear2 = nn.Linear(hidden_size, output_features)\n",
        "\n",
        "      \n",
        "    def forward(self, x):\n",
        "        # Convolution\n",
        "        x = self.conv1(x)\n",
        "        x = self.activation(x)\n",
        "        # Pooling\n",
        "        x = self.pooling(x)\n",
        "        # Linear\n",
        "        x = torch.flatten(x, start_dim=1)\n",
        "        x = self.linear1(x)\n",
        "        x = self.activation(x)\n",
        "        x = self.linear2(x)\n",
        "        return x"
      ],
      "execution_count": 455,
      "outputs": []
    },
    {
      "cell_type": "code",
      "metadata": {
        "id": "vUs1GAyBn5Gx"
      },
      "source": [
        "conv1_model = ConvClassifier1(activation=\"Tanh\", hidden_size=128,\n",
        "                              conv_channels=[18], pooling_channels=[4],\n",
        "                              conv_kernel=5, stride=1, padding=0)\n",
        "criterion = nn.CrossEntropyLoss()\n",
        "optimizer = torch.optim.SGD(conv1_model.parameters(), lr=0.05)"
      ],
      "execution_count": 456,
      "outputs": []
    },
    {
      "cell_type": "code",
      "metadata": {
        "colab": {
          "base_uri": "https://localhost:8080/"
        },
        "id": "2fbNOfXmBxi4",
        "outputId": "6efc0945-c2ec-4106-b9a0-9f4c16840cce"
      },
      "source": [
        "train_model(conv1_model, criterion, optimizer, DATASET_PATH,\n",
        "            epochs=10, batch_size=128, train_split_precent=0.8,\n",
        "            report_step=500,\n",
        "            checkpoint_path=os.path.abspath(\"./checkpoints/conv1_model_checkpoint\"))"
      ],
      "execution_count": 410,
      "outputs": [
        {
          "output_type": "stream",
          "name": "stdout",
          "text": [
            "[ Epoch: 0 | Iteration: 0 | Loss train: 3.207034111022949 | Loss val: 3.2374045848846436 | Acc: 0.06715384615384615]\n",
            "[ Epoch: 1 | Iteration: 500 | Loss train: 0.9559810161590576 | Loss val: 0.9878709316253662 | Acc: 0.7152307692307692]\n",
            "[ Epoch: 2 | Iteration: 1000 | Loss train: 0.6365570425987244 | Loss val: 0.7112370133399963 | Acc: 0.7926923076923077]\n",
            "[ Epoch: 3 | Iteration: 1500 | Loss train: 0.5270045399665833 | Loss val: 0.5398465394973755 | Acc: 0.8404615384615385]\n",
            "[ Epoch: 4 | Iteration: 2000 | Loss train: 0.5231430530548096 | Loss val: 0.44482743740081787 | Acc: 0.8656153846153846]\n",
            "[ Epoch: 6 | Iteration: 2500 | Loss train: 0.3605181872844696 | Loss val: 0.38992518186569214 | Acc: 0.8796923076923077]\n",
            "[ Epoch: 7 | Iteration: 3000 | Loss train: 0.23084333539009094 | Loss val: 0.35263150930404663 | Acc: 0.8913846153846153]\n",
            "[ Epoch: 8 | Iteration: 3500 | Loss train: 0.4141085147857666 | Loss val: 0.3310811519622803 | Acc: 0.8988461538461539]\n",
            "[ Epoch: 9 | Iteration: 4000 | Loss train: 0.47818899154663086 | Loss val: 0.31270045042037964 | Acc: 0.9025384615384615]\n",
            "Finished Training\n"
          ]
        }
      ]
    },
    {
      "cell_type": "code",
      "metadata": {
        "colab": {
          "base_uri": "https://localhost:8080/"
        },
        "id": "WcV95fTD1nRH",
        "outputId": "f43dcbff-7df3-4646-d0ed-4c95ed1dc57e"
      },
      "source": [
        "rows_samples = [\n",
        "    [6, 3, 128, 10, 0.05, 0.62912736],\n",
        "    [12, 3, 128, 10, 0.05, 0.76846153],\n",
        "    [18, 5, 128, 10, 0.05, 0.90253846],\n",
        "    [20, 5, 128, 10, 0.05, 0.90128348],\n",
        "]\n",
        "headers=('Conv channels', 'Kernel', 'Batch_size', 'Epochs', 'LR', 'Val Acc')\n",
        "print(\"Tested configurations:\")\n",
        "print(tb(rows_samples, headers=headers, tablefmt='fancy_grid'))"
      ],
      "execution_count": 594,
      "outputs": [
        {
          "output_type": "stream",
          "name": "stdout",
          "text": [
            "Tested configurations:\n",
            "╒═════════════════╤══════════╤══════════════╤══════════╤══════╤═══════════╕\n",
            "│   Conv channels │   Kernel │   Batch_size │   Epochs │   LR │   Val Acc │\n",
            "╞═════════════════╪══════════╪══════════════╪══════════╪══════╪═══════════╡\n",
            "│               6 │        3 │          128 │       10 │ 0.05 │  0.629127 │\n",
            "├─────────────────┼──────────┼──────────────┼──────────┼──────┼───────────┤\n",
            "│              12 │        3 │          128 │       10 │ 0.05 │  0.768462 │\n",
            "├─────────────────┼──────────┼──────────────┼──────────┼──────┼───────────┤\n",
            "│              18 │        5 │          128 │       10 │ 0.05 │  0.902538 │\n",
            "├─────────────────┼──────────┼──────────────┼──────────┼──────┼───────────┤\n",
            "│              20 │        5 │          128 │       10 │ 0.05 │  0.901283 │\n",
            "╘═════════════════╧══════════╧══════════════╧══════════╧══════╧═══════════╛\n"
          ]
        }
      ]
    },
    {
      "cell_type": "markdown",
      "metadata": {
        "id": "u0pSYQ8Pn1CY"
      },
      "source": [
        "## 2Conv"
      ]
    },
    {
      "cell_type": "code",
      "metadata": {
        "id": "B2Fc_KBil4ib"
      },
      "source": [
        "class ConvClassifier2(nn.Module):\n",
        "    def __init__(self, activation: str, hidden_size: int, \n",
        "                 conv_channels: list, pooling_channels: list,\n",
        "                 conv_kernel: int, stride: int, padding: int):\n",
        "        super().__init__()\n",
        "        input_features = 28\n",
        "        conv1_channels, conv2_channels = conv_channels\n",
        "        pool1_channels, pool2_channels = pooling_channels\n",
        "        output_features = 26\n",
        "        self.activation = activation_map[activation]()\n",
        "        # Conv block 1\n",
        "        self.conv1 = nn.Conv2d(in_channels=1, out_channels=conv1_channels, \n",
        "                               kernel_size=conv_kernel,\n",
        "                               stride=stride, padding=padding)\n",
        "        self.pooling1 = nn.MaxPool2d(kernel_size=pool1_channels)\n",
        "        flattened_size1 = ((input_features + 2 * padding - conv_kernel) // stride + 1) // pool1_channels\n",
        "        # Conv block 2\n",
        "        self.conv2 = nn.Conv2d(in_channels=conv1_channels, out_channels=conv2_channels, \n",
        "                               kernel_size=conv_kernel,\n",
        "                               stride=stride, padding=padding)\n",
        "        self.pooling2 = nn.MaxPool2d(kernel_size=pool2_channels)\n",
        "        flattened_size2 = ((flattened_size1 + 2 * padding - conv_kernel) // stride + 1) // pool2_channels\n",
        "        # Linear\n",
        "        self.linear1 = nn.Linear((flattened_size2 ** 2) * conv2_channels, hidden_size)\n",
        "        self.linear2 = nn.Linear(hidden_size, 26)\n",
        "\n",
        "      \n",
        "    def forward(self, x):\n",
        "        # Convolution1\n",
        "        x = self.conv1(x)\n",
        "        x = self.activation(x)\n",
        "        # Pooling\n",
        "        x = self.pooling1(x)\n",
        "        # Convolution2\n",
        "        x = self.conv2(x)\n",
        "        x = self.activation(x)\n",
        "        # Pooling\n",
        "        x = self.pooling2(x)\n",
        "        # Linear\n",
        "        x = torch.flatten(x, start_dim=1)\n",
        "        x = self.linear1(x)\n",
        "        x = self.activation(x)\n",
        "        x = self.linear2(x)\n",
        "        return x"
      ],
      "execution_count": 457,
      "outputs": []
    },
    {
      "cell_type": "code",
      "metadata": {
        "id": "6Z-MCSwEXtOA"
      },
      "source": [
        "conv2_model = ConvClassifier2(activation=\"Tanh\", hidden_size=128,\n",
        "                              conv_channels=[16, 8], pooling_channels=[2, 2],\n",
        "                              conv_kernel=5, stride=1, padding=0)\n",
        "criterion = nn.CrossEntropyLoss()\n",
        "optimizer = torch.optim.SGD(conv2_model.parameters(), lr=0.05)"
      ],
      "execution_count": 459,
      "outputs": []
    },
    {
      "cell_type": "code",
      "metadata": {
        "colab": {
          "base_uri": "https://localhost:8080/"
        },
        "id": "maJQL5HDXtOE",
        "outputId": "c5972228-83c0-4dbd-9ee2-67bf609b35c2"
      },
      "source": [
        "train_model(conv2_model, criterion, optimizer, DATASET_PATH,\n",
        "            epochs=10, batch_size=128, train_split_precent=0.8,\n",
        "            report_step=500,\n",
        "            checkpoint_path=os.path.abspath(\"./checkpoints/conv2_model_checkpoint\"))"
      ],
      "execution_count": 426,
      "outputs": [
        {
          "output_type": "stream",
          "name": "stdout",
          "text": [
            "[ Epoch: 0 | Iteration: 0 | Loss train: 3.2516393661499023 | Loss val: 3.250232696533203 | Acc: 0.047384615384615386]\n",
            "[ Epoch: 1 | Iteration: 500 | Loss train: 0.8689720630645752 | Loss val: 1.0344473123550415 | Acc: 0.7113846153846154]\n",
            "[ Epoch: 2 | Iteration: 1000 | Loss train: 0.7956033945083618 | Loss val: 0.7297812104225159 | Acc: 0.7893846153846154]\n",
            "[ Epoch: 3 | Iteration: 1500 | Loss train: 0.5773496031761169 | Loss val: 0.6103278994560242 | Acc: 0.8213076923076923]\n",
            "[ Epoch: 4 | Iteration: 2000 | Loss train: 0.5967115759849548 | Loss val: 0.4929088056087494 | Acc: 0.8501538461538461]\n",
            "[ Epoch: 6 | Iteration: 2500 | Loss train: 0.43786442279815674 | Loss val: 0.4472373425960541 | Acc: 0.8655384615384616]\n",
            "[ Epoch: 7 | Iteration: 3000 | Loss train: 0.9058207273483276 | Loss val: 0.4322502613067627 | Acc: 0.8683846153846154]\n",
            "[ Epoch: 8 | Iteration: 3500 | Loss train: 0.3385147452354431 | Loss val: 0.39473456144332886 | Acc: 0.8777692307692307]\n",
            "[ Epoch: 9 | Iteration: 4000 | Loss train: 0.30702880024909973 | Loss val: 0.37701416015625 | Acc: 0.8856923076923077]\n",
            "Finished Training\n"
          ]
        }
      ]
    },
    {
      "cell_type": "code",
      "metadata": {
        "colab": {
          "base_uri": "https://localhost:8080/"
        },
        "id": "1dYHTKIb2rqn",
        "outputId": "199842e8-2a07-4d47-851f-5b39825f62ae"
      },
      "source": [
        "rows_samples = [\n",
        "    [[12, 8], 3, 128, 10, 0.05, 0.85127384],\n",
        "    [[16, 8], 5, 128, 10, 0.05, 0.88569230],\n",
        "]\n",
        "headers=('Conv channels', 'Kernel', 'Batch_size', 'Epochs', 'LR', 'Val Acc')\n",
        "print(\"Tested configurations:\")\n",
        "print(tb(rows_samples, headers=headers, tablefmt='fancy_grid'))"
      ],
      "execution_count": 595,
      "outputs": [
        {
          "output_type": "stream",
          "name": "stdout",
          "text": [
            "Tested configurations:\n",
            "╒═════════════════╤══════════╤══════════════╤══════════╤══════╤═══════════╕\n",
            "│ Conv channels   │   Kernel │   Batch_size │   Epochs │   LR │   Val Acc │\n",
            "╞═════════════════╪══════════╪══════════════╪══════════╪══════╪═══════════╡\n",
            "│ [12, 8]         │        3 │          128 │       10 │ 0.05 │  0.851274 │\n",
            "├─────────────────┼──────────┼──────────────┼──────────┼──────┼───────────┤\n",
            "│ [16, 8]         │        5 │          128 │       10 │ 0.05 │  0.885692 │\n",
            "╘═════════════════╧══════════╧══════════════╧══════════╧══════╧═══════════╛\n"
          ]
        }
      ]
    },
    {
      "cell_type": "markdown",
      "metadata": {
        "id": "Xv9eA4rBn4Xy"
      },
      "source": [
        "## 3Conv"
      ]
    },
    {
      "cell_type": "code",
      "metadata": {
        "id": "ol75CQdmwBWb"
      },
      "source": [
        "class ConvClassifier3(nn.Module):\n",
        "    def __init__(self, activation: str, hidden_size: int, \n",
        "                 conv_channels: list, pooling_channels: list,\n",
        "                 conv_kernel: int, stride: int, padding: int):\n",
        "        super().__init__()\n",
        "        input_features = 28\n",
        "        # Convilutions\n",
        "        conv1_channels, conv2_channels, conv3_channels = conv_channels\n",
        "        pool1_channels, pool2_channels, pool3_channels = pooling_channels\n",
        "        # Linearity\n",
        "        output_features = 26\n",
        "        self.activation = activation_map[activation]()\n",
        "        # Conv block 1\n",
        "        self.conv1 = nn.Conv2d(in_channels=1, out_channels=conv1_channels, \n",
        "                               kernel_size=conv_kernel,\n",
        "                               stride=stride, padding=padding)\n",
        "        self.pooling1 = nn.MaxPool2d(kernel_size=pool1_channels)\n",
        "        flattened_size1 = ((input_features + 2 * padding - conv_kernel) // stride + 1) // pool1_channels\n",
        "        # Conv block 2\n",
        "        self.conv2 = nn.Conv2d(in_channels=conv1_channels, out_channels=conv2_channels, \n",
        "                               kernel_size=conv_kernel,\n",
        "                               stride=stride, padding=padding)\n",
        "        self.pooling2 = nn.MaxPool2d(kernel_size=pool2_channels)\n",
        "        flattened_size2 = ((flattened_size1 + 2 * padding - conv_kernel) // stride + 1) // pool2_channels\n",
        "        # Conv block 3\n",
        "        self.conv3 = nn.Conv2d(in_channels=conv2_channels, out_channels=conv3_channels, \n",
        "                               kernel_size=conv_kernel,\n",
        "                               stride=stride, padding=padding)\n",
        "        self.pooling3 = nn.MaxPool2d(kernel_size=pool3_channels)\n",
        "        flattened_size3= ((flattened_size2 + 2 * padding - conv_kernel) // stride + 1) // pool3_channels\n",
        "        # Linear\n",
        "        self.linear1 = nn.Linear((flattened_size3 ** 2) * conv3_channels, hidden_size)\n",
        "        self.linear2 = nn.Linear(hidden_size, output_features)\n",
        "\n",
        "      \n",
        "    def forward(self, x):\n",
        "        # Convolution1\n",
        "        x = self.conv1(x)\n",
        "        x = self.activation(x)\n",
        "        # Pooling\n",
        "        x = self.pooling1(x)\n",
        "        # Convolution2\n",
        "        x = self.conv2(x)\n",
        "        x = self.activation(x)\n",
        "        # Pooling\n",
        "        x = self.pooling2(x)\n",
        "        # Convolution3\n",
        "        x = self.conv3(x)\n",
        "        x = self.activation(x)\n",
        "        # Pooling\n",
        "        x = self.pooling3(x)\n",
        "        # Linear\n",
        "        x = torch.flatten(x, start_dim=1)\n",
        "        x = self.linear1(x)\n",
        "        x = self.activation(x)\n",
        "        x = self.linear2(x)\n",
        "        return x"
      ],
      "execution_count": 462,
      "outputs": []
    },
    {
      "cell_type": "code",
      "metadata": {
        "id": "lOGkL5yTiDa4"
      },
      "source": [
        "conv3_model = ConvClassifier3(activation=\"Tanh\", hidden_size=128,\n",
        "                              conv_channels=[32,16,12], pooling_channels=[2, 2, 2],\n",
        "                              conv_kernel=3, stride=1, padding=0)\n",
        "criterion = nn.CrossEntropyLoss()\n",
        "optimizer = torch.optim.SGD(conv3_model.parameters(), lr=0.05)"
      ],
      "execution_count": 468,
      "outputs": []
    },
    {
      "cell_type": "code",
      "metadata": {
        "colab": {
          "base_uri": "https://localhost:8080/"
        },
        "id": "8vxhdZnSiDa4",
        "outputId": "8f5a8265-bbc6-4e94-ac8d-5d8ca6d5723e"
      },
      "source": [
        "train_model(conv3_model, criterion, optimizer, DATASET_PATH,\n",
        "            epochs=10, batch_size=128, train_split_precent=0.8,\n",
        "            report_step=500,\n",
        "            checkpoint_path=os.path.abspath(\"./checkpoints/conv3_model_checkpoint\"))"
      ],
      "execution_count": 469,
      "outputs": [
        {
          "output_type": "stream",
          "name": "stdout",
          "text": [
            "[ Epoch: 0 | Iteration: 0 | Loss train: 3.2974801063537598 | Loss val: 3.2682080268859863 | Acc: 0.04376923076923077]\n",
            "[ Epoch: 1 | Iteration: 500 | Loss train: 1.623966932296753 | Loss val: 1.7906320095062256 | Acc: 0.5114615384615384]\n",
            "[ Epoch: 2 | Iteration: 1000 | Loss train: 1.3242284059524536 | Loss val: 1.163906455039978 | Acc: 0.6600769230769231]\n",
            "[ Epoch: 3 | Iteration: 1500 | Loss train: 1.1973562240600586 | Loss val: 0.9475332498550415 | Acc: 0.7111538461538461]\n",
            "[ Epoch: 4 | Iteration: 2000 | Loss train: 0.6096456050872803 | Loss val: 0.8115696907043457 | Acc: 0.7466153846153846]\n",
            "[ Epoch: 6 | Iteration: 2500 | Loss train: 0.8843258023262024 | Loss val: 0.755254328250885 | Acc: 0.7598461538461538]\n",
            "[ Epoch: 7 | Iteration: 3000 | Loss train: 0.6044405698776245 | Loss val: 0.7066588401794434 | Acc: 0.7771538461538462]\n",
            "[ Epoch: 8 | Iteration: 3500 | Loss train: 0.5922514200210571 | Loss val: 0.6749661564826965 | Acc: 0.7847692307692308]\n",
            "[ Epoch: 9 | Iteration: 4000 | Loss train: 0.573279082775116 | Loss val: 0.6391785740852356 | Acc: 0.7960769230769231]\n",
            "Finished Training\n"
          ]
        }
      ]
    },
    {
      "cell_type": "code",
      "metadata": {
        "colab": {
          "base_uri": "https://localhost:8080/"
        },
        "id": "tfYXCfRH3DVX",
        "outputId": "a7bd83d6-2179-4b86-d1ee-2212b2a8262d"
      },
      "source": [
        "rows_samples = [\n",
        "    [[16, 8, 4], 3, 128, 10, 0.05, 0.68126361],\n",
        "    [[32,16,12], 3, 128, 10, 0.05, 0.79607692],\n",
        "]\n",
        "headers=('Conv channels', 'Kernel', 'Batch_size', 'Epochs', 'LR', 'Val Acc')\n",
        "print(\"Tested configurations:\")\n",
        "print(tb(rows_samples, headers=headers, tablefmt='fancy_grid'))"
      ],
      "execution_count": 596,
      "outputs": [
        {
          "output_type": "stream",
          "name": "stdout",
          "text": [
            "Tested configurations:\n",
            "╒═════════════════╤══════════╤══════════════╤══════════╤══════╤═══════════╕\n",
            "│ Conv channels   │   Kernel │   Batch_size │   Epochs │   LR │   Val Acc │\n",
            "╞═════════════════╪══════════╪══════════════╪══════════╪══════╪═══════════╡\n",
            "│ [16, 8, 4]      │        3 │          128 │       10 │ 0.05 │  0.681264 │\n",
            "├─────────────────┼──────────┼──────────────┼──────────┼──────┼───────────┤\n",
            "│ [32, 16, 12]    │        3 │          128 │       10 │ 0.05 │  0.796077 │\n",
            "╘═════════════════╧══════════╧══════════════╧══════════╧══════╧═══════════╛\n"
          ]
        }
      ]
    },
    {
      "cell_type": "markdown",
      "metadata": {
        "id": "uhoZTC-B1rda"
      },
      "source": [
        "## Validating best model"
      ]
    },
    {
      "cell_type": "markdown",
      "metadata": {
        "id": "R0anWDEL13mi"
      },
      "source": [
        "Модель с 1 сверточным слоем показала лучшие результаты на Валидации во время тренировки"
      ]
    },
    {
      "cell_type": "code",
      "metadata": {
        "colab": {
          "base_uri": "https://localhost:8080/"
        },
        "id": "6M3KrEgOfUUq",
        "outputId": "9a0d2cf9-5cbd-496a-ca0f-824f90395345"
      },
      "source": [
        "test_labels, test_predicted = test_validation(conv1_model, DATASET_PATH, labels=list(range(26)), batch_size=128)"
      ],
      "execution_count": 440,
      "outputs": [
        {
          "output_type": "stream",
          "name": "stdout",
          "text": [
            "+=======================================+\n",
            "|             TEST RESULTS              |\n",
            "+=======================================+\n",
            "Metric      Scores\n",
            "--------  --------\n",
            "Accuracy  0.901692\n",
            "F1        0.953234\n",
            "classification_report:\n",
            "              precision    recall  f1-score   support\n",
            "\n",
            "           0       0.90      0.81      0.85       500\n",
            "           1       0.93      0.95      0.94       500\n",
            "           2       0.94      0.93      0.93       500\n",
            "           3       0.91      0.94      0.92       500\n",
            "           4       0.90      0.95      0.92       500\n",
            "           5       0.94      0.92      0.93       500\n",
            "           6       0.75      0.82      0.78       500\n",
            "           7       0.93      0.92      0.93       500\n",
            "           8       0.75      0.64      0.69       500\n",
            "           9       0.87      0.93      0.90       500\n",
            "          10       0.95      0.93      0.94       500\n",
            "          11       0.74      0.78      0.76       500\n",
            "          12       0.94      0.96      0.95       500\n",
            "          13       0.94      0.90      0.92       500\n",
            "          14       0.93      0.96      0.94       500\n",
            "          15       0.95      0.93      0.94       500\n",
            "          16       0.82      0.78      0.80       500\n",
            "          17       0.96      0.89      0.93       500\n",
            "          18       0.96      0.92      0.94       500\n",
            "          19       0.89      0.94      0.92       500\n",
            "          20       0.89      0.94      0.92       500\n",
            "          21       0.92      0.92      0.92       500\n",
            "          22       0.95      0.96      0.95       500\n",
            "          23       0.97      0.93      0.95       500\n",
            "          24       0.91      0.93      0.92       500\n",
            "          25       0.95      0.96      0.96       500\n",
            "\n",
            "    accuracy                           0.90     13000\n",
            "   macro avg       0.90      0.90      0.90     13000\n",
            "weighted avg       0.90      0.90      0.90     13000\n",
            "\n"
          ]
        }
      ]
    },
    {
      "cell_type": "markdown",
      "metadata": {
        "id": "r8S3q22zq_-Z"
      },
      "source": [
        "## Best Convolutional Classifier with batch normalization"
      ]
    },
    {
      "cell_type": "code",
      "metadata": {
        "id": "yvOXuGbX4AQn"
      },
      "source": [
        "class ConvClassifierBestNorm(nn.Module):\n",
        "    def __init__(self, activation: str, hidden_size: int, \n",
        "                 conv_channels: list, pooling_channels: list,\n",
        "                 conv_kernel: int, stride: int, padding: int):\n",
        "        super().__init__()\n",
        "        input_features = 28\n",
        "        conv1_channels, = conv_channels\n",
        "        pool1_channels, = pooling_channels\n",
        "        output_features = 26\n",
        "        self.activation = activation_map[activation]()\n",
        "\n",
        "        self.conv1 = nn.Conv2d(in_channels=1, out_channels=conv1_channels, \n",
        "                               kernel_size=conv_kernel,\n",
        "                               stride=stride, padding=padding)\n",
        "        self.conv_bn = nn.BatchNorm2d(conv1_channels)\n",
        "        self.pooling = nn.MaxPool2d(kernel_size=pool1_channels)\n",
        "        flattened_size = ((input_features + 2 * padding - conv_kernel) // stride + 1) // pool1_channels\n",
        "        self.linear1 = nn.Linear((flattened_size ** 2) * conv1_channels, hidden_size)\n",
        "        self.linear_bn = nn.BatchNorm1d(hidden_size)\n",
        "        self.linear2 = nn.Linear(hidden_size, output_features)\n",
        "\n",
        "      \n",
        "    def forward(self, x):\n",
        "        # Convolution\n",
        "        x = self.conv1(x)\n",
        "        x = self.conv_bn(x)\n",
        "        x = self.activation(x)\n",
        "        # Pooling\n",
        "        x = self.pooling(x)\n",
        "        # Linear\n",
        "        x = torch.flatten(x, start_dim=1)\n",
        "        x = self.linear1(x)\n",
        "        x = self.linear_bn(x)\n",
        "        x = self.activation(x)\n",
        "        x = self.linear2(x)\n",
        "        return x"
      ],
      "execution_count": 470,
      "outputs": []
    },
    {
      "cell_type": "code",
      "metadata": {
        "id": "W8aNyLdu32GZ"
      },
      "source": [
        "conv_best_bn_model = ConvClassifierBestNorm(activation=\"Tanh\", hidden_size=128,\n",
        "                                            conv_channels=[18], pooling_channels=[4],\n",
        "                                            conv_kernel=5, stride=1, padding=0)\n",
        "criterion = nn.CrossEntropyLoss()\n",
        "optimizer = torch.optim.SGD(conv_best_bn_model.parameters(), lr=0.05)"
      ],
      "execution_count": 473,
      "outputs": []
    },
    {
      "cell_type": "markdown",
      "metadata": {
        "id": "O6CI_c61U0YH"
      },
      "source": [
        "Up batch size to 192 and epochs to 15"
      ]
    },
    {
      "cell_type": "code",
      "metadata": {
        "colab": {
          "base_uri": "https://localhost:8080/"
        },
        "id": "rsGl6suX32Ga",
        "outputId": "3858305c-7e38-4d8a-a3d3-79bcade9cd08"
      },
      "source": [
        "train_model(conv_best_bn_model, criterion, optimizer, DATASET_PATH,\n",
        "            epochs=15, batch_size=192, train_split_precent=0.8,\n",
        "            report_step=500,\n",
        "            checkpoint_path=os.path.abspath(\"./checkpoints/conv_best_bn_model_checkpoint\"))"
      ],
      "execution_count": 474,
      "outputs": [
        {
          "output_type": "stream",
          "name": "stdout",
          "text": [
            "[ Epoch: 0 | Iteration: 0 | Loss train: 3.230365037918091 | Loss val: 3.2247214317321777 | Acc: 0.07161538461538461]\n",
            "[ Epoch: 1 | Iteration: 500 | Loss train: 0.9408041834831238 | Loss val: 0.7921115159988403 | Acc: 0.7826923076923077]\n",
            "[ Epoch: 3 | Iteration: 1000 | Loss train: 0.5852131843566895 | Loss val: 0.48347753286361694 | Acc: 0.8620769230769231]\n",
            "[ Epoch: 5 | Iteration: 1500 | Loss train: 0.32882240414619446 | Loss val: 0.40011388063430786 | Acc: 0.8803076923076923]\n",
            "[ Epoch: 7 | Iteration: 2000 | Loss train: 0.3298914134502411 | Loss val: 0.3579240143299103 | Acc: 0.8922307692307693]\n",
            "[ Epoch: 9 | Iteration: 2500 | Loss train: 0.40584447979927063 | Loss val: 0.33267703652381897 | Acc: 0.8994615384615384]\n",
            "[ Epoch: 11 | Iteration: 3000 | Loss train: 0.28545618057250977 | Loss val: 0.3124059736728668 | Acc: 0.9041538461538462]\n",
            "[ Epoch: 12 | Iteration: 3500 | Loss train: 0.20178444683551788 | Loss val: 0.30202817916870117 | Acc: 0.9085384615384615]\n",
            "[ Epoch: 14 | Iteration: 4000 | Loss train: 0.23725388944149017 | Loss val: 0.29575592279434204 | Acc: 0.9055384615384615]\n",
            "Finished Training\n"
          ]
        }
      ]
    },
    {
      "cell_type": "code",
      "metadata": {
        "colab": {
          "base_uri": "https://localhost:8080/"
        },
        "id": "ePAzATXQctKk",
        "outputId": "e0a8a36d-cc3f-48b7-8340-e7c32a186b3c"
      },
      "source": [
        "test_labels, test_predicted = test_validation(conv_best_bn_model, DATASET_PATH, labels=list(range(26)), batch_size=128)"
      ],
      "execution_count": 475,
      "outputs": [
        {
          "output_type": "stream",
          "name": "stdout",
          "text": [
            "+=======================================+\n",
            "|             TEST RESULTS              |\n",
            "+=======================================+\n",
            "Metric      Scores\n",
            "--------  --------\n",
            "Accuracy  0.903077\n",
            "F1        0.965235\n",
            "classification_report:\n",
            "              precision    recall  f1-score   support\n",
            "\n",
            "           0       0.86      0.85      0.86       500\n",
            "           1       0.95      0.89      0.92       500\n",
            "           2       0.96      0.94      0.95       500\n",
            "           3       0.94      0.89      0.92       500\n",
            "           4       0.92      0.95      0.93       500\n",
            "           5       0.94      0.93      0.94       500\n",
            "           6       0.66      0.86      0.74       500\n",
            "           7       0.94      0.91      0.93       500\n",
            "           8       0.74      0.72      0.73       500\n",
            "           9       0.94      0.91      0.92       500\n",
            "          10       0.96      0.92      0.94       500\n",
            "          11       0.74      0.76      0.75       500\n",
            "          12       0.94      0.97      0.95       500\n",
            "          13       0.93      0.91      0.92       500\n",
            "          14       0.92      0.97      0.95       500\n",
            "          15       0.96      0.93      0.95       500\n",
            "          16       0.77      0.78      0.78       500\n",
            "          17       0.96      0.88      0.92       500\n",
            "          18       0.96      0.92      0.94       500\n",
            "          19       0.89      0.96      0.93       500\n",
            "          20       0.92      0.93      0.92       500\n",
            "          21       0.93      0.92      0.92       500\n",
            "          22       0.99      0.94      0.97       500\n",
            "          23       0.96      0.94      0.95       500\n",
            "          24       0.94      0.92      0.93       500\n",
            "          25       0.95      0.96      0.96       500\n",
            "\n",
            "    accuracy                           0.90     13000\n",
            "   macro avg       0.91      0.90      0.90     13000\n",
            "weighted avg       0.91      0.90      0.90     13000\n",
            "\n"
          ]
        }
      ]
    },
    {
      "cell_type": "markdown",
      "metadata": {
        "id": "1AxyP6_Nc7YH"
      },
      "source": [
        "Модель с бОльшим `batch_size` и слоями `BatchNorm` показала результаты чуть лучше, чем оригинальная сверточная модель:  \n",
        "\n",
        "              NoBatchNorm                  BatchNorm\n",
        "            Accuracy  0.901692        Accuracy  0.903077\n",
        "            F1        0.953234        F1        0.965235"
      ]
    },
    {
      "cell_type": "markdown",
      "metadata": {
        "id": "H5-lHoIlKqzY"
      },
      "source": [
        "# Pretrained models and Transfer learning"
      ]
    },
    {
      "cell_type": "code",
      "metadata": {
        "id": "rn1BOJGhKw-F"
      },
      "source": [
        "import torchvision.models as models"
      ],
      "execution_count": 597,
      "outputs": []
    },
    {
      "cell_type": "code",
      "metadata": {
        "id": "7v6GbXKEMeuZ"
      },
      "source": [
        "input_features = 28\n",
        "out_features = 26"
      ],
      "execution_count": 600,
      "outputs": []
    },
    {
      "cell_type": "markdown",
      "metadata": {
        "id": "XqwalATaMxCb"
      },
      "source": [
        "## ResNet"
      ]
    },
    {
      "cell_type": "code",
      "metadata": {
        "colab": {
          "base_uri": "https://localhost:8080/"
        },
        "id": "VpBpN-RyL7aV",
        "outputId": "aa39b165-63fd-449d-8fdc-888e23d36957"
      },
      "source": [
        "resnet = models.resnet18(pretrained=True)"
      ],
      "execution_count": 598,
      "outputs": [
        {
          "output_type": "stream",
          "name": "stderr",
          "text": [
            "Downloading: \"https://download.pytorch.org/models/resnet18-5c106cde.pth\" to /Users/sanduser/.cache/torch/hub/checkpoints/resnet18-5c106cde.pth\n",
            "100.0%\n"
          ]
        }
      ]
    },
    {
      "cell_type": "markdown",
      "metadata": {
        "id": "iZ4LKrjoMzi7"
      },
      "source": [
        "Остановить распределение ошибки для предобученных слоев и  \n",
        "создать новый выходной слой, подходящий для решения нашей задачи"
      ]
    },
    {
      "cell_type": "code",
      "metadata": {
        "id": "iAlHyzAiMDPB"
      },
      "source": [
        "for param in resnet.parameters():\n",
        "    param.requires_grad = False"
      ],
      "execution_count": 599,
      "outputs": []
    },
    {
      "cell_type": "code",
      "metadata": {
        "id": "hpuEAtipMXwt"
      },
      "source": [
        "resnet.fc = nn.Linear(512, out_features)"
      ],
      "execution_count": 601,
      "outputs": []
    },
    {
      "cell_type": "code",
      "metadata": {
        "id": "62oh8Q06Mvg8"
      },
      "source": [
        "criterion = nn.CrossEntropyLoss()\n",
        "optimizer = torch.optim.SGD(resnet.parameters(), lr=0.05)"
      ],
      "execution_count": 602,
      "outputs": []
    },
    {
      "cell_type": "code",
      "metadata": {
        "colab": {
          "base_uri": "https://localhost:8080/"
        },
        "id": "YSMdDxtfMvg9",
        "outputId": "dc171052-f9c8-4837-936b-2e300857c9e1"
      },
      "source": [
        "train_model(resnet, criterion, optimizer, DATASET_PATH,\n",
        "            epochs=5, batch_size=128, train_split_precent=0.8,\n",
        "            report_step=500,\n",
        "            checkpoint_path=os.path.abspath(\"./checkpoints/resnet_frizzed_checkpoint\"),\n",
        "            gray_scale=False)"
      ],
      "execution_count": 607,
      "outputs": [
        {
          "output_type": "stream",
          "name": "stdout",
          "text": [
            "[ Epoch: 0 | Iteration: 0 | Loss train: 3.3205127716064453 | Loss val: 3.3546273708343506 | Acc: 0.03915384615384616]\n",
            "[ Epoch: 1 | Iteration: 500 | Loss train: 2.1776208877563477 | Loss val: 2.0272560119628906 | Acc: 0.42615384615384616]\n",
            "[ Epoch: 2 | Iteration: 1000 | Loss train: 1.835161805152893 | Loss val: 1.5292153358459473 | Acc: 0.5631538461538461]\n",
            "[ Epoch: 3 | Iteration: 1500 | Loss train: 1.4502171277999878 | Loss val: 1.448178768157959 | Acc: 0.5802307692307692]\n",
            "[ Epoch: 4 | Iteration: 2000 | Loss train: 1.2670063972473145 | Loss val: 1.4313162565231323 | Acc: 0.5858461538461538]\n",
            "Finished Training\n"
          ]
        }
      ]
    },
    {
      "cell_type": "code",
      "metadata": {
        "colab": {
          "base_uri": "https://localhost:8080/"
        },
        "id": "LNdibT9hTLav",
        "outputId": "39aca7c3-be36-4910-fb87-e37e43b3bc72"
      },
      "source": [
        "test_labels, test_predicted = test_validation(resnet, DATASET_PATH, labels=list(range(26)), batch_size=128, gray_scale=False)"
      ],
      "execution_count": 609,
      "outputs": [
        {
          "output_type": "stream",
          "name": "stdout",
          "text": [
            "+=======================================+\n",
            "|             TEST RESULTS              |\n",
            "+=======================================+\n",
            "Metric      Scores\n",
            "--------  --------\n",
            "Accuracy  0.556538\n",
            "F1        0.737406\n",
            "classification_report:\n",
            "              precision    recall  f1-score   support\n",
            "\n",
            "           0       0.37      0.45      0.40       500\n",
            "           1       0.53      0.39      0.45       500\n",
            "           2       0.65      0.65      0.65       500\n",
            "           3       0.65      0.66      0.65       500\n",
            "           4       0.69      0.44      0.54       500\n",
            "           5       0.76      0.11      0.19       500\n",
            "           6       0.36      0.46      0.40       500\n",
            "           7       0.74      0.39      0.51       500\n",
            "           8       0.32      0.83      0.46       500\n",
            "           9       0.68      0.48      0.56       500\n",
            "          10       0.47      0.69      0.56       500\n",
            "          11       0.57      0.37      0.45       500\n",
            "          12       0.92      0.70      0.80       500\n",
            "          13       0.39      0.61      0.47       500\n",
            "          14       0.77      0.77      0.77       500\n",
            "          15       0.63      0.45      0.53       500\n",
            "          16       0.50      0.43      0.46       500\n",
            "          17       0.47      0.35      0.40       500\n",
            "          18       0.51      0.77      0.61       500\n",
            "          19       0.62      0.51      0.56       500\n",
            "          20       0.67      0.63      0.65       500\n",
            "          21       0.49      0.79      0.61       500\n",
            "          22       0.79      0.69      0.74       500\n",
            "          23       0.84      0.68      0.76       500\n",
            "          24       0.69      0.40      0.50       500\n",
            "          25       0.65      0.77      0.70       500\n",
            "\n",
            "    accuracy                           0.56     13000\n",
            "   macro avg       0.60      0.56      0.55     13000\n",
            "weighted avg       0.60      0.56      0.55     13000\n",
            "\n"
          ]
        }
      ]
    },
    {
      "cell_type": "code",
      "metadata": {
        "colab": {
          "base_uri": "https://localhost:8080/"
        },
        "id": "I6aoeY4rT67N",
        "outputId": "503a267e-e41b-4de2-f272-88ce2f982647"
      },
      "source": [
        "report = classification_report(test_labels, test_predicted, output_dict=True)\n",
        "sorted_labels_metric = {get_letter_from_label(key): report[str(key)]['f1-score'] for key in range(26)}\n",
        "sorted_labels_metric = dict(sorted(sorted_labels_metric.items(), key=lambda item: item[1], reverse=True))\n",
        "sorted_labels_metric_list = [(key, value) for key, value in sorted_labels_metric.items()]\n",
        "sorted_labels_metric"
      ],
      "execution_count": 610,
      "outputs": [
        {
          "output_type": "execute_result",
          "data": {
            "text/plain": [
              "{'m': 0.7963800904977375,\n",
              " 'o': 0.7724550898203593,\n",
              " 'x': 0.7558011049723756,\n",
              " 'w': 0.7374062165058949,\n",
              " 'z': 0.7020109689213895,\n",
              " 'd': 0.6534653465346535,\n",
              " 'c': 0.6487562189054727,\n",
              " 'u': 0.6474226804123712,\n",
              " 's': 0.6146496815286625,\n",
              " 'v': 0.6075558982266769,\n",
              " 't': 0.562019758507135,\n",
              " 'j': 0.5603751465416178,\n",
              " 'k': 0.5566343042071197,\n",
              " 'e': 0.5385556915544675,\n",
              " 'p': 0.5280373831775701,\n",
              " 'h': 0.5065616797900262,\n",
              " 'y': 0.5019011406844107,\n",
              " 'n': 0.4748646558391338,\n",
              " 'q': 0.45922746781115875,\n",
              " 'i': 0.4589983489268025,\n",
              " 'b': 0.45287356321839084,\n",
              " 'l': 0.4452554744525547,\n",
              " 'a': 0.4039675383228134,\n",
              " 'r': 0.40320733104238254,\n",
              " 'g': 0.40247131509267436,\n",
              " 'f': 0.18914185639229422}"
            ]
          },
          "metadata": {},
          "execution_count": 610
        }
      ]
    },
    {
      "cell_type": "markdown",
      "metadata": {
        "id": "9kn5go-OUDxi"
      },
      "source": [
        "К сожалению, использование претренерованной модели не привело к хорошим результатам, однако заметно, что распределение метрик относительно букв немного поменялись"
      ]
    },
    {
      "cell_type": "markdown",
      "metadata": {
        "id": "iRjlG8W1c83a"
      },
      "source": [
        "# Hyperparameters automatic tuning (unused)"
      ]
    },
    {
      "cell_type": "markdown",
      "metadata": {
        "id": "F-hj3xjqxLf7"
      },
      "source": [
        "Изначально написал систему, благодаря который можно было автоматически подрбирать параметры, но у меня это работало, к сожалению, слишком долго"
      ]
    },
    {
      "cell_type": "code",
      "metadata": {
        "id": "x1CteZxJMPCP"
      },
      "source": [
        "from ray import tune\n",
        "from ray.tune import CLIReporter\n",
        "from ray.tune.schedulers import ASHAScheduler"
      ],
      "execution_count": 223,
      "outputs": []
    },
    {
      "cell_type": "code",
      "metadata": {
        "id": "mS-wKhB_W-Re"
      },
      "source": [
        "def find_best_model(model_class: torch.nn.Module,\n",
        "                    tune_params: dict, \n",
        "                    static_config: dict,\n",
        "                    model_config_names: list,\n",
        "                    data_dir: str, checkpoint_dir: str):\n",
        "      # Define search algorithm\n",
        "      scheduler = ASHAScheduler(\n",
        "          metric=\"loss\",\n",
        "          mode=\"min\",\n",
        "          max_t=static_config['epochs'],\n",
        "          grace_period=1,\n",
        "          reduction_factor=2)\n",
        "      # Define reporter\n",
        "      reporter = CLIReporter(\n",
        "          metric_columns=[\"loss\", \"metric\", \"training_iteration\"])\n",
        "      # Report static configurations\n",
        "      static_config_rows = [(key, value) for key, value in static_config.items()]\n",
        "      print(\"Static configurations:\")\n",
        "      print(tb(static_config_rows, headers=('Config', 'Value')))\n",
        "      # Find best hyperparams\n",
        "      train_params = partial(train_model_tuning,\n",
        "                             model_class=model_class,\n",
        "                             static_config=static_config,\n",
        "                             model_config_names=model_config_names,\n",
        "                             data_dir=data_dir, checkpoint_dir=checkpoint_dir)\n",
        "      result = tune.run(\n",
        "          train_params,\n",
        "          config=tune_params,\n",
        "          num_samples=static_config['model_samples_num'],\n",
        "          scheduler=scheduler,\n",
        "          progress_reporter=reporter)\n",
        "\n",
        "      # Validate best model on Test dataset\n",
        "      best_trial = result.get_best_trial(\"loss\", \"min\", \"last\")\n",
        "      print(\"Best trial config: {}\".format(best_trial.config))\n",
        "      print(\"Best trial final validation loss: {}\".format(\n",
        "          best_trial.last_result[\"loss\"]))\n",
        "      print(\"Best trial final validation metric: {}\".format(\n",
        "          best_trial.last_result[\"metric\"]))\n",
        "\n",
        "      # Load best model found\n",
        "      best_model_hyperparams = {key: best_trial.config[key] for key in model_config_names}\n",
        "      best_trained_model = model_class(**best_model_hyperparams)\n",
        "\n",
        "      # Choose device\n",
        "      device = \"cpu\" if not torch.cuda.is_available() else \"cuda:0\"\n",
        "      best_trained_model.to(device)\n",
        "\n",
        "      best_checkpoint_dir = best_trial.checkpoint.value\n",
        "      model_state, optimizer_state = torch.load(os.path.join(\n",
        "          best_checkpoint_dir, \"checkpoint\"))\n",
        "      best_trained_model.load_state_dict(model_state)\n",
        "\n",
        "      return best_trained_model"
      ],
      "execution_count": 127,
      "outputs": []
    },
    {
      "cell_type": "code",
      "metadata": {
        "id": "LoECNxhBiOfU"
      },
      "source": [
        "def train_model_tuning(config: dict, \n",
        "                       model_class: torch.nn.Module, \n",
        "                       static_config: dict,\n",
        "                       model_config_names: list,\n",
        "                       data_dir: str, checkpoint_dir: str):\n",
        "\n",
        "  def checkpoint_saver(model, optimizer, epoch):\n",
        "    with tune.checkpoint_dir(epoch) as checkpoint_dir:\n",
        "        path = os.path.join(checkpoint_dir, \"checkpoint\")\n",
        "        torch.save((model.state_dict(), optimizer.state_dict()), path)\n",
        "\n",
        "  def reporter(loss, metric):\n",
        "    tune.report(loss=loss, metric=metric)\n",
        "  \n",
        "  # Create network\n",
        "  model_hyperparams = {key: config[key] for key in model_config_names}\n",
        "  model = model_class(**model_hyperparams)\n",
        "\n",
        "  # Chose training hyperparams\n",
        "  criterion = static_config['criterion']()\n",
        "  optimizer = static_config['optimizer'](model.parameters(), lr=config[\"lr\"])\n",
        "\n",
        "  train_model(model, \n",
        "              criterion, optimizer, data_dir,\n",
        "              static_config['epochs'], config['batch_size'], \n",
        "              static_config['train_split_percent'], static_config['report_step'],\n",
        "              checkpoint_saver, reporter)\n"
      ],
      "execution_count": 145,
      "outputs": []
    },
    {
      "cell_type": "code",
      "metadata": {
        "id": "a8zaNQYX0Obn"
      },
      "source": [
        "static_config = {\n",
        "    'criterion': nn.CrossEntropyLoss,\n",
        "    'optimizer': torch.optim.SGD,\n",
        "    'train_split_percent': 0.8,\n",
        "    'epochs': 2,\n",
        "    'report_step': 1000,\n",
        "    'cls_labels': list(range(0, 26)),\n",
        "    'model_samples_num': 1,\n",
        "}\n",
        "\n",
        "tune_params = {\n",
        "    'hidden1': tune.choice([256]),\n",
        "    'hidden2': tune.choice([128]),\n",
        "    'activation': tune.choice([\"ReLU\"]),\n",
        "    'dropout': tune.choice([0.2]),\n",
        "    'lr': tune.choice([0.05]),\n",
        "    'batch_size': tune.choice([128]),\n",
        "}\n",
        "\n",
        "model_config_names = ['hidden1', 'hidden2', 'activation', 'dropout']"
      ],
      "execution_count": 161,
      "outputs": []
    },
    {
      "cell_type": "code",
      "metadata": {
        "id": "yprv5BMM4C3u",
        "colab": {
          "base_uri": "https://localhost:8080/"
        },
        "outputId": "59013e6f-0f92-4374-b2a2-90e55c767ff2"
      },
      "source": [
        "best_linear = find_best_model(model_class=LinearClassifier, \n",
        "                              tune_params=tune_params, static_config=static_config, \n",
        "                              model_config_names=model_config_names, \n",
        "                              data_dir=DATASET_PATH, checkpoint_dir=None)"
      ],
      "execution_count": 162,
      "outputs": [
        {
          "output_type": "stream",
          "name": "stderr",
          "text": [
            "2021-12-01 19:14:50,106\tWARNING experiment.py:271 -- No name detected on trainable. Using DEFAULT.\n",
            "2021-12-01 19:14:50,148\tINFO registry.py:69 -- Detected unknown callable for trainable. Converting to class.\n"
          ]
        },
        {
          "output_type": "stream",
          "name": "stdout",
          "text": [
            "Static configurations:\n",
            "Config               Value\n",
            "-------------------  ----------------------------------------------------------------------------------------------\n",
            "criterion            <class 'torch.nn.modules.loss.CrossEntropyLoss'>\n",
            "optimizer            <class 'torch.optim.sgd.SGD'>\n",
            "train_split_percent  0.8\n",
            "epochs               2\n",
            "report_step          1000\n",
            "cls_labels           [0, 1, 2, 3, 4, 5, 6, 7, 8, 9, 10, 11, 12, 13, 14, 15, 16, 17, 18, 19, 20, 21, 22, 23, 24, 25]\n",
            "model_samples_num    1\n",
            "== Status ==\n",
            "Current time: 2021-12-01 19:14:50 (running for 00:00:00.14)\n",
            "Memory usage on this node: 6.0/8.0 GiB\n",
            "Using AsyncHyperBand: num_stopped=0\n",
            "Bracket: Iter 2.000: None | Iter 1.000: None\n",
            "Resources requested: 0/4 CPUs, 0/0 GPUs, 0.0/2.33 GiB heap, 0.0/1.17 GiB objects\n",
            "Result logdir: /Users/sanduser/ray_results/DEFAULT_2021-12-01_19-14-50\n",
            "Number of trials: 1/1 (1 PENDING)\n",
            "+---------------------+----------+-------+--------------+--------------+-----------+-----------+-----------+------+\n",
            "| Trial name          | status   | loc   | activation   |   batch_size |   dropout |   hidden1 |   hidden2 |   lr |\n",
            "|---------------------+----------+-------+--------------+--------------+-----------+-----------+-----------+------|\n",
            "| DEFAULT_cf4e8_00000 | PENDING  |       | ReLU         |          128 |       0.2 |       256 |       128 | 0.05 |\n",
            "+---------------------+----------+-------+--------------+--------------+-----------+-----------+-----------+------+\n",
            "\n",
            "\n",
            "== Status ==\n",
            "Current time: 2021-12-01 19:14:55 (running for 00:00:05.79)\n",
            "Memory usage on this node: 6.0/8.0 GiB\n",
            "Using AsyncHyperBand: num_stopped=0\n",
            "Bracket: Iter 2.000: None | Iter 1.000: None\n",
            "Resources requested: 1.0/4 CPUs, 0/0 GPUs, 0.0/2.33 GiB heap, 0.0/1.17 GiB objects\n",
            "Result logdir: /Users/sanduser/ray_results/DEFAULT_2021-12-01_19-14-50\n",
            "Number of trials: 1/1 (1 RUNNING)\n",
            "+---------------------+----------+-----------------+--------------+--------------+-----------+-----------+-----------+------+\n",
            "| Trial name          | status   | loc             | activation   |   batch_size |   dropout |   hidden1 |   hidden2 |   lr |\n",
            "|---------------------+----------+-----------------+--------------+--------------+-----------+-----------+-----------+------|\n",
            "| DEFAULT_cf4e8_00000 | RUNNING  | 127.0.0.1:42139 | ReLU         |          128 |       0.2 |       256 |       128 | 0.05 |\n",
            "+---------------------+----------+-----------------+--------------+--------------+-----------+-----------+-----------+------+\n",
            "\n",
            "\n",
            "\u001b[2m\u001b[36m(ImplicitFunc pid=42139)\u001b[0m [Epoch: 1 | Iteration     1] loss: 3.258\n",
            "== Status ==\n",
            "Current time: 2021-12-01 19:15:01 (running for 00:00:10.88)\n",
            "Memory usage on this node: 6.1/8.0 GiB\n",
            "Using AsyncHyperBand: num_stopped=0\n",
            "Bracket: Iter 2.000: None | Iter 1.000: None\n",
            "Resources requested: 1.0/4 CPUs, 0/0 GPUs, 0.0/2.33 GiB heap, 0.0/1.17 GiB objects\n",
            "Result logdir: /Users/sanduser/ray_results/DEFAULT_2021-12-01_19-14-50\n",
            "Number of trials: 1/1 (1 RUNNING)\n",
            "+---------------------+----------+-----------------+--------------+--------------+-----------+-----------+-----------+------+\n",
            "| Trial name          | status   | loc             | activation   |   batch_size |   dropout |   hidden1 |   hidden2 |   lr |\n",
            "|---------------------+----------+-----------------+--------------+--------------+-----------+-----------+-----------+------|\n",
            "| DEFAULT_cf4e8_00000 | RUNNING  | 127.0.0.1:42139 | ReLU         |          128 |       0.2 |       256 |       128 | 0.05 |\n",
            "+---------------------+----------+-----------------+--------------+--------------+-----------+-----------+-----------+------+\n",
            "\n",
            "\n",
            "== Status ==\n",
            "Current time: 2021-12-01 19:15:06 (running for 00:00:15.89)\n",
            "Memory usage on this node: 6.0/8.0 GiB\n",
            "Using AsyncHyperBand: num_stopped=0\n",
            "Bracket: Iter 2.000: None | Iter 1.000: None\n",
            "Resources requested: 1.0/4 CPUs, 0/0 GPUs, 0.0/2.33 GiB heap, 0.0/1.17 GiB objects\n",
            "Result logdir: /Users/sanduser/ray_results/DEFAULT_2021-12-01_19-14-50\n",
            "Number of trials: 1/1 (1 RUNNING)\n",
            "+---------------------+----------+-----------------+--------------+--------------+-----------+-----------+-----------+------+\n",
            "| Trial name          | status   | loc             | activation   |   batch_size |   dropout |   hidden1 |   hidden2 |   lr |\n",
            "|---------------------+----------+-----------------+--------------+--------------+-----------+-----------+-----------+------|\n",
            "| DEFAULT_cf4e8_00000 | RUNNING  | 127.0.0.1:42139 | ReLU         |          128 |       0.2 |       256 |       128 | 0.05 |\n",
            "+---------------------+----------+-----------------+--------------+--------------+-----------+-----------+-----------+------+\n",
            "\n",
            "\n",
            "== Status ==\n",
            "Current time: 2021-12-01 19:15:11 (running for 00:00:20.91)\n",
            "Memory usage on this node: 6.0/8.0 GiB\n",
            "Using AsyncHyperBand: num_stopped=0\n",
            "Bracket: Iter 2.000: None | Iter 1.000: None\n",
            "Resources requested: 1.0/4 CPUs, 0/0 GPUs, 0.0/2.33 GiB heap, 0.0/1.17 GiB objects\n",
            "Result logdir: /Users/sanduser/ray_results/DEFAULT_2021-12-01_19-14-50\n",
            "Number of trials: 1/1 (1 RUNNING)\n",
            "+---------------------+----------+-----------------+--------------+--------------+-----------+-----------+-----------+------+\n",
            "| Trial name          | status   | loc             | activation   |   batch_size |   dropout |   hidden1 |   hidden2 |   lr |\n",
            "|---------------------+----------+-----------------+--------------+--------------+-----------+-----------+-----------+------|\n",
            "| DEFAULT_cf4e8_00000 | RUNNING  | 127.0.0.1:42139 | ReLU         |          128 |       0.2 |       256 |       128 | 0.05 |\n",
            "+---------------------+----------+-----------------+--------------+--------------+-----------+-----------+-----------+------+\n",
            "\n",
            "\n",
            "== Status ==\n",
            "Current time: 2021-12-01 19:15:16 (running for 00:00:25.93)\n",
            "Memory usage on this node: 6.0/8.0 GiB\n",
            "Using AsyncHyperBand: num_stopped=0\n",
            "Bracket: Iter 2.000: None | Iter 1.000: None\n",
            "Resources requested: 1.0/4 CPUs, 0/0 GPUs, 0.0/2.33 GiB heap, 0.0/1.17 GiB objects\n",
            "Result logdir: /Users/sanduser/ray_results/DEFAULT_2021-12-01_19-14-50\n",
            "Number of trials: 1/1 (1 RUNNING)\n",
            "+---------------------+----------+-----------------+--------------+--------------+-----------+-----------+-----------+------+\n",
            "| Trial name          | status   | loc             | activation   |   batch_size |   dropout |   hidden1 |   hidden2 |   lr |\n",
            "|---------------------+----------+-----------------+--------------+--------------+-----------+-----------+-----------+------|\n",
            "| DEFAULT_cf4e8_00000 | RUNNING  | 127.0.0.1:42139 | ReLU         |          128 |       0.2 |       256 |       128 | 0.05 |\n",
            "+---------------------+----------+-----------------+--------------+--------------+-----------+-----------+-----------+------+\n",
            "\n",
            "\n",
            "== Status ==\n",
            "Current time: 2021-12-01 19:15:21 (running for 00:00:30.95)\n",
            "Memory usage on this node: 6.0/8.0 GiB\n",
            "Using AsyncHyperBand: num_stopped=0\n",
            "Bracket: Iter 2.000: None | Iter 1.000: None\n",
            "Resources requested: 1.0/4 CPUs, 0/0 GPUs, 0.0/2.33 GiB heap, 0.0/1.17 GiB objects\n",
            "Result logdir: /Users/sanduser/ray_results/DEFAULT_2021-12-01_19-14-50\n",
            "Number of trials: 1/1 (1 RUNNING)\n",
            "+---------------------+----------+-----------------+--------------+--------------+-----------+-----------+-----------+------+\n",
            "| Trial name          | status   | loc             | activation   |   batch_size |   dropout |   hidden1 |   hidden2 |   lr |\n",
            "|---------------------+----------+-----------------+--------------+--------------+-----------+-----------+-----------+------|\n",
            "| DEFAULT_cf4e8_00000 | RUNNING  | 127.0.0.1:42139 | ReLU         |          128 |       0.2 |       256 |       128 | 0.05 |\n",
            "+---------------------+----------+-----------------+--------------+--------------+-----------+-----------+-----------+------+\n",
            "\n",
            "\n",
            "== Status ==\n",
            "Current time: 2021-12-01 19:15:26 (running for 00:00:35.97)\n",
            "Memory usage on this node: 6.0/8.0 GiB\n",
            "Using AsyncHyperBand: num_stopped=0\n",
            "Bracket: Iter 2.000: None | Iter 1.000: None\n",
            "Resources requested: 1.0/4 CPUs, 0/0 GPUs, 0.0/2.33 GiB heap, 0.0/1.17 GiB objects\n",
            "Result logdir: /Users/sanduser/ray_results/DEFAULT_2021-12-01_19-14-50\n",
            "Number of trials: 1/1 (1 RUNNING)\n",
            "+---------------------+----------+-----------------+--------------+--------------+-----------+-----------+-----------+------+\n",
            "| Trial name          | status   | loc             | activation   |   batch_size |   dropout |   hidden1 |   hidden2 |   lr |\n",
            "|---------------------+----------+-----------------+--------------+--------------+-----------+-----------+-----------+------|\n",
            "| DEFAULT_cf4e8_00000 | RUNNING  | 127.0.0.1:42139 | ReLU         |          128 |       0.2 |       256 |       128 | 0.05 |\n",
            "+---------------------+----------+-----------------+--------------+--------------+-----------+-----------+-----------+------+\n",
            "\n",
            "\n",
            "== Status ==\n",
            "Current time: 2021-12-01 19:15:31 (running for 00:00:40.98)\n",
            "Memory usage on this node: 6.0/8.0 GiB\n",
            "Using AsyncHyperBand: num_stopped=0\n",
            "Bracket: Iter 2.000: None | Iter 1.000: None\n",
            "Resources requested: 1.0/4 CPUs, 0/0 GPUs, 0.0/2.33 GiB heap, 0.0/1.17 GiB objects\n",
            "Result logdir: /Users/sanduser/ray_results/DEFAULT_2021-12-01_19-14-50\n",
            "Number of trials: 1/1 (1 RUNNING)\n",
            "+---------------------+----------+-----------------+--------------+--------------+-----------+-----------+-----------+------+\n",
            "| Trial name          | status   | loc             | activation   |   batch_size |   dropout |   hidden1 |   hidden2 |   lr |\n",
            "|---------------------+----------+-----------------+--------------+--------------+-----------+-----------+-----------+------|\n",
            "| DEFAULT_cf4e8_00000 | RUNNING  | 127.0.0.1:42139 | ReLU         |          128 |       0.2 |       256 |       128 | 0.05 |\n",
            "+---------------------+----------+-----------------+--------------+--------------+-----------+-----------+-----------+------+\n",
            "\n",
            "\n",
            "== Status ==\n",
            "Current time: 2021-12-01 19:15:36 (running for 00:00:46.00)\n",
            "Memory usage on this node: 6.0/8.0 GiB\n",
            "Using AsyncHyperBand: num_stopped=0\n",
            "Bracket: Iter 2.000: None | Iter 1.000: None\n",
            "Resources requested: 1.0/4 CPUs, 0/0 GPUs, 0.0/2.33 GiB heap, 0.0/1.17 GiB objects\n",
            "Result logdir: /Users/sanduser/ray_results/DEFAULT_2021-12-01_19-14-50\n",
            "Number of trials: 1/1 (1 RUNNING)\n",
            "+---------------------+----------+-----------------+--------------+--------------+-----------+-----------+-----------+------+\n",
            "| Trial name          | status   | loc             | activation   |   batch_size |   dropout |   hidden1 |   hidden2 |   lr |\n",
            "|---------------------+----------+-----------------+--------------+--------------+-----------+-----------+-----------+------|\n",
            "| DEFAULT_cf4e8_00000 | RUNNING  | 127.0.0.1:42139 | ReLU         |          128 |       0.2 |       256 |       128 | 0.05 |\n",
            "+---------------------+----------+-----------------+--------------+--------------+-----------+-----------+-----------+------+\n",
            "\n",
            "\n",
            "== Status ==\n",
            "Current time: 2021-12-01 19:15:41 (running for 00:00:51.01)\n",
            "Memory usage on this node: 6.0/8.0 GiB\n",
            "Using AsyncHyperBand: num_stopped=0\n",
            "Bracket: Iter 2.000: None | Iter 1.000: None\n",
            "Resources requested: 1.0/4 CPUs, 0/0 GPUs, 0.0/2.33 GiB heap, 0.0/1.17 GiB objects\n",
            "Result logdir: /Users/sanduser/ray_results/DEFAULT_2021-12-01_19-14-50\n",
            "Number of trials: 1/1 (1 RUNNING)\n",
            "+---------------------+----------+-----------------+--------------+--------------+-----------+-----------+-----------+------+\n",
            "| Trial name          | status   | loc             | activation   |   batch_size |   dropout |   hidden1 |   hidden2 |   lr |\n",
            "|---------------------+----------+-----------------+--------------+--------------+-----------+-----------+-----------+------|\n",
            "| DEFAULT_cf4e8_00000 | RUNNING  | 127.0.0.1:42139 | ReLU         |          128 |       0.2 |       256 |       128 | 0.05 |\n",
            "+---------------------+----------+-----------------+--------------+--------------+-----------+-----------+-----------+------+\n",
            "\n",
            "\n",
            "== Status ==\n",
            "Current time: 2021-12-01 19:15:46 (running for 00:00:56.03)\n",
            "Memory usage on this node: 6.0/8.0 GiB\n",
            "Using AsyncHyperBand: num_stopped=0\n",
            "Bracket: Iter 2.000: None | Iter 1.000: None\n",
            "Resources requested: 1.0/4 CPUs, 0/0 GPUs, 0.0/2.33 GiB heap, 0.0/1.17 GiB objects\n",
            "Result logdir: /Users/sanduser/ray_results/DEFAULT_2021-12-01_19-14-50\n",
            "Number of trials: 1/1 (1 RUNNING)\n",
            "+---------------------+----------+-----------------+--------------+--------------+-----------+-----------+-----------+------+\n",
            "| Trial name          | status   | loc             | activation   |   batch_size |   dropout |   hidden1 |   hidden2 |   lr |\n",
            "|---------------------+----------+-----------------+--------------+--------------+-----------+-----------+-----------+------|\n",
            "| DEFAULT_cf4e8_00000 | RUNNING  | 127.0.0.1:42139 | ReLU         |          128 |       0.2 |       256 |       128 | 0.05 |\n",
            "+---------------------+----------+-----------------+--------------+--------------+-----------+-----------+-----------+------+\n",
            "\n",
            "\n",
            "== Status ==\n",
            "Current time: 2021-12-01 19:15:51 (running for 00:01:01.04)\n",
            "Memory usage on this node: 6.0/8.0 GiB\n",
            "Using AsyncHyperBand: num_stopped=0\n",
            "Bracket: Iter 2.000: None | Iter 1.000: None\n",
            "Resources requested: 1.0/4 CPUs, 0/0 GPUs, 0.0/2.33 GiB heap, 0.0/1.17 GiB objects\n",
            "Result logdir: /Users/sanduser/ray_results/DEFAULT_2021-12-01_19-14-50\n",
            "Number of trials: 1/1 (1 RUNNING)\n",
            "+---------------------+----------+-----------------+--------------+--------------+-----------+-----------+-----------+------+\n",
            "| Trial name          | status   | loc             | activation   |   batch_size |   dropout |   hidden1 |   hidden2 |   lr |\n",
            "|---------------------+----------+-----------------+--------------+--------------+-----------+-----------+-----------+------|\n",
            "| DEFAULT_cf4e8_00000 | RUNNING  | 127.0.0.1:42139 | ReLU         |          128 |       0.2 |       256 |       128 | 0.05 |\n",
            "+---------------------+----------+-----------------+--------------+--------------+-----------+-----------+-----------+------+\n",
            "\n",
            "\n",
            "== Status ==\n",
            "Current time: 2021-12-01 19:15:56 (running for 00:01:06.05)\n",
            "Memory usage on this node: 6.1/8.0 GiB\n",
            "Using AsyncHyperBand: num_stopped=0\n",
            "Bracket: Iter 2.000: None | Iter 1.000: None\n",
            "Resources requested: 1.0/4 CPUs, 0/0 GPUs, 0.0/2.33 GiB heap, 0.0/1.17 GiB objects\n",
            "Result logdir: /Users/sanduser/ray_results/DEFAULT_2021-12-01_19-14-50\n",
            "Number of trials: 1/1 (1 RUNNING)\n",
            "+---------------------+----------+-----------------+--------------+--------------+-----------+-----------+-----------+------+\n",
            "| Trial name          | status   | loc             | activation   |   batch_size |   dropout |   hidden1 |   hidden2 |   lr |\n",
            "|---------------------+----------+-----------------+--------------+--------------+-----------+-----------+-----------+------|\n",
            "| DEFAULT_cf4e8_00000 | RUNNING  | 127.0.0.1:42139 | ReLU         |          128 |       0.2 |       256 |       128 | 0.05 |\n",
            "+---------------------+----------+-----------------+--------------+--------------+-----------+-----------+-----------+------+\n",
            "\n",
            "\n",
            "== Status ==\n",
            "Current time: 2021-12-01 19:16:01 (running for 00:01:11.07)\n",
            "Memory usage on this node: 6.3/8.0 GiB\n",
            "Using AsyncHyperBand: num_stopped=0\n",
            "Bracket: Iter 2.000: None | Iter 1.000: None\n",
            "Resources requested: 1.0/4 CPUs, 0/0 GPUs, 0.0/2.33 GiB heap, 0.0/1.17 GiB objects\n",
            "Result logdir: /Users/sanduser/ray_results/DEFAULT_2021-12-01_19-14-50\n",
            "Number of trials: 1/1 (1 RUNNING)\n",
            "+---------------------+----------+-----------------+--------------+--------------+-----------+-----------+-----------+------+\n",
            "| Trial name          | status   | loc             | activation   |   batch_size |   dropout |   hidden1 |   hidden2 |   lr |\n",
            "|---------------------+----------+-----------------+--------------+--------------+-----------+-----------+-----------+------|\n",
            "| DEFAULT_cf4e8_00000 | RUNNING  | 127.0.0.1:42139 | ReLU         |          128 |       0.2 |       256 |       128 | 0.05 |\n",
            "+---------------------+----------+-----------------+--------------+--------------+-----------+-----------+-----------+------+\n",
            "\n",
            "\n",
            "== Status ==\n",
            "Current time: 2021-12-01 19:16:06 (running for 00:01:16.08)\n",
            "Memory usage on this node: 6.0/8.0 GiB\n",
            "Using AsyncHyperBand: num_stopped=0\n",
            "Bracket: Iter 2.000: None | Iter 1.000: None\n",
            "Resources requested: 1.0/4 CPUs, 0/0 GPUs, 0.0/2.33 GiB heap, 0.0/1.17 GiB objects\n",
            "Result logdir: /Users/sanduser/ray_results/DEFAULT_2021-12-01_19-14-50\n",
            "Number of trials: 1/1 (1 RUNNING)\n",
            "+---------------------+----------+-----------------+--------------+--------------+-----------+-----------+-----------+------+\n",
            "| Trial name          | status   | loc             | activation   |   batch_size |   dropout |   hidden1 |   hidden2 |   lr |\n",
            "|---------------------+----------+-----------------+--------------+--------------+-----------+-----------+-----------+------|\n",
            "| DEFAULT_cf4e8_00000 | RUNNING  | 127.0.0.1:42139 | ReLU         |          128 |       0.2 |       256 |       128 | 0.05 |\n",
            "+---------------------+----------+-----------------+--------------+--------------+-----------+-----------+-----------+------+\n",
            "\n",
            "\n",
            "== Status ==\n",
            "Current time: 2021-12-01 19:16:11 (running for 00:01:21.10)\n",
            "Memory usage on this node: 6.0/8.0 GiB\n",
            "Using AsyncHyperBand: num_stopped=0\n",
            "Bracket: Iter 2.000: None | Iter 1.000: None\n",
            "Resources requested: 1.0/4 CPUs, 0/0 GPUs, 0.0/2.33 GiB heap, 0.0/1.17 GiB objects\n",
            "Result logdir: /Users/sanduser/ray_results/DEFAULT_2021-12-01_19-14-50\n",
            "Number of trials: 1/1 (1 RUNNING)\n",
            "+---------------------+----------+-----------------+--------------+--------------+-----------+-----------+-----------+------+\n",
            "| Trial name          | status   | loc             | activation   |   batch_size |   dropout |   hidden1 |   hidden2 |   lr |\n",
            "|---------------------+----------+-----------------+--------------+--------------+-----------+-----------+-----------+------|\n",
            "| DEFAULT_cf4e8_00000 | RUNNING  | 127.0.0.1:42139 | ReLU         |          128 |       0.2 |       256 |       128 | 0.05 |\n",
            "+---------------------+----------+-----------------+--------------+--------------+-----------+-----------+-----------+------+\n",
            "\n",
            "\n",
            "== Status ==\n",
            "Current time: 2021-12-01 19:16:16 (running for 00:01:26.12)\n",
            "Memory usage on this node: 6.0/8.0 GiB\n",
            "Using AsyncHyperBand: num_stopped=0\n",
            "Bracket: Iter 2.000: None | Iter 1.000: None\n",
            "Resources requested: 1.0/4 CPUs, 0/0 GPUs, 0.0/2.33 GiB heap, 0.0/1.17 GiB objects\n",
            "Result logdir: /Users/sanduser/ray_results/DEFAULT_2021-12-01_19-14-50\n",
            "Number of trials: 1/1 (1 RUNNING)\n",
            "+---------------------+----------+-----------------+--------------+--------------+-----------+-----------+-----------+------+\n",
            "| Trial name          | status   | loc             | activation   |   batch_size |   dropout |   hidden1 |   hidden2 |   lr |\n",
            "|---------------------+----------+-----------------+--------------+--------------+-----------+-----------+-----------+------|\n",
            "| DEFAULT_cf4e8_00000 | RUNNING  | 127.0.0.1:42139 | ReLU         |          128 |       0.2 |       256 |       128 | 0.05 |\n",
            "+---------------------+----------+-----------------+--------------+--------------+-----------+-----------+-----------+------+\n",
            "\n",
            "\n",
            "Result for DEFAULT_cf4e8_00000:\n",
            "  date: 2021-12-01_19-16-20\n",
            "  done: false\n",
            "  experiment_id: b561202be2194899ae9f8178245074c7\n",
            "  hostname: MacBook-Air-Sapoznikov.local\n",
            "  iterations_since_restore: 1\n",
            "  loss: 3.258077301231085\n",
            "  metric: 0.046384615384615385\n",
            "  node_ip: 127.0.0.1\n",
            "  pid: 42139\n",
            "  should_checkpoint: true\n",
            "  time_since_restore: 84.8491039276123\n",
            "  time_this_iter_s: 84.8491039276123\n",
            "  time_total_s: 84.8491039276123\n",
            "  timestamp: 1638375380\n",
            "  timesteps_since_restore: 0\n",
            "  training_iteration: 1\n",
            "  trial_id: cf4e8_00000\n",
            "  \n",
            "\u001b[2m\u001b[36m(ImplicitFunc pid=42139)\u001b[0m [Epoch: 2 | Iteration     1] loss: 3.258\n",
            "== Status ==\n",
            "Current time: 2021-12-01 19:16:21 (running for 00:01:31.74)\n",
            "Memory usage on this node: 6.0/8.0 GiB\n",
            "Using AsyncHyperBand: num_stopped=0\n",
            "Bracket: Iter 2.000: None | Iter 1.000: -3.258077301231085\n",
            "Resources requested: 1.0/4 CPUs, 0/0 GPUs, 0.0/2.33 GiB heap, 0.0/1.17 GiB objects\n",
            "Result logdir: /Users/sanduser/ray_results/DEFAULT_2021-12-01_19-14-50\n",
            "Number of trials: 1/1 (1 RUNNING)\n",
            "+---------------------+----------+-----------------+--------------+--------------+-----------+-----------+-----------+------+---------+-----------+----------------------+\n",
            "| Trial name          | status   | loc             | activation   |   batch_size |   dropout |   hidden1 |   hidden2 |   lr |    loss |    metric |   training_iteration |\n",
            "|---------------------+----------+-----------------+--------------+--------------+-----------+-----------+-----------+------+---------+-----------+----------------------|\n",
            "| DEFAULT_cf4e8_00000 | RUNNING  | 127.0.0.1:42139 | ReLU         |          128 |       0.2 |       256 |       128 | 0.05 | 3.25808 | 0.0463846 |                    1 |\n",
            "+---------------------+----------+-----------------+--------------+--------------+-----------+-----------+-----------+------+---------+-----------+----------------------+\n",
            "\n",
            "\n",
            "== Status ==\n",
            "Current time: 2021-12-01 19:16:26 (running for 00:01:36.76)\n",
            "Memory usage on this node: 6.0/8.0 GiB\n",
            "Using AsyncHyperBand: num_stopped=0\n",
            "Bracket: Iter 2.000: None | Iter 1.000: -3.258077301231085\n",
            "Resources requested: 1.0/4 CPUs, 0/0 GPUs, 0.0/2.33 GiB heap, 0.0/1.17 GiB objects\n",
            "Result logdir: /Users/sanduser/ray_results/DEFAULT_2021-12-01_19-14-50\n",
            "Number of trials: 1/1 (1 RUNNING)\n",
            "+---------------------+----------+-----------------+--------------+--------------+-----------+-----------+-----------+------+---------+-----------+----------------------+\n",
            "| Trial name          | status   | loc             | activation   |   batch_size |   dropout |   hidden1 |   hidden2 |   lr |    loss |    metric |   training_iteration |\n",
            "|---------------------+----------+-----------------+--------------+--------------+-----------+-----------+-----------+------+---------+-----------+----------------------|\n",
            "| DEFAULT_cf4e8_00000 | RUNNING  | 127.0.0.1:42139 | ReLU         |          128 |       0.2 |       256 |       128 | 0.05 | 3.25808 | 0.0463846 |                    1 |\n",
            "+---------------------+----------+-----------------+--------------+--------------+-----------+-----------+-----------+------+---------+-----------+----------------------+\n",
            "\n",
            "\n",
            "== Status ==\n",
            "Current time: 2021-12-01 19:16:31 (running for 00:01:41.78)\n",
            "Memory usage on this node: 5.9/8.0 GiB\n",
            "Using AsyncHyperBand: num_stopped=0\n",
            "Bracket: Iter 2.000: None | Iter 1.000: -3.258077301231085\n",
            "Resources requested: 1.0/4 CPUs, 0/0 GPUs, 0.0/2.33 GiB heap, 0.0/1.17 GiB objects\n",
            "Result logdir: /Users/sanduser/ray_results/DEFAULT_2021-12-01_19-14-50\n",
            "Number of trials: 1/1 (1 RUNNING)\n",
            "+---------------------+----------+-----------------+--------------+--------------+-----------+-----------+-----------+------+---------+-----------+----------------------+\n",
            "| Trial name          | status   | loc             | activation   |   batch_size |   dropout |   hidden1 |   hidden2 |   lr |    loss |    metric |   training_iteration |\n",
            "|---------------------+----------+-----------------+--------------+--------------+-----------+-----------+-----------+------+---------+-----------+----------------------|\n",
            "| DEFAULT_cf4e8_00000 | RUNNING  | 127.0.0.1:42139 | ReLU         |          128 |       0.2 |       256 |       128 | 0.05 | 3.25808 | 0.0463846 |                    1 |\n",
            "+---------------------+----------+-----------------+--------------+--------------+-----------+-----------+-----------+------+---------+-----------+----------------------+\n",
            "\n",
            "\n",
            "== Status ==\n",
            "Current time: 2021-12-01 19:16:37 (running for 00:01:46.81)\n",
            "Memory usage on this node: 6.0/8.0 GiB\n",
            "Using AsyncHyperBand: num_stopped=0\n",
            "Bracket: Iter 2.000: None | Iter 1.000: -3.258077301231085\n",
            "Resources requested: 1.0/4 CPUs, 0/0 GPUs, 0.0/2.33 GiB heap, 0.0/1.17 GiB objects\n",
            "Result logdir: /Users/sanduser/ray_results/DEFAULT_2021-12-01_19-14-50\n",
            "Number of trials: 1/1 (1 RUNNING)\n",
            "+---------------------+----------+-----------------+--------------+--------------+-----------+-----------+-----------+------+---------+-----------+----------------------+\n",
            "| Trial name          | status   | loc             | activation   |   batch_size |   dropout |   hidden1 |   hidden2 |   lr |    loss |    metric |   training_iteration |\n",
            "|---------------------+----------+-----------------+--------------+--------------+-----------+-----------+-----------+------+---------+-----------+----------------------|\n",
            "| DEFAULT_cf4e8_00000 | RUNNING  | 127.0.0.1:42139 | ReLU         |          128 |       0.2 |       256 |       128 | 0.05 | 3.25808 | 0.0463846 |                    1 |\n",
            "+---------------------+----------+-----------------+--------------+--------------+-----------+-----------+-----------+------+---------+-----------+----------------------+\n",
            "\n",
            "\n",
            "== Status ==\n",
            "Current time: 2021-12-01 19:16:42 (running for 00:01:51.82)\n",
            "Memory usage on this node: 5.9/8.0 GiB\n",
            "Using AsyncHyperBand: num_stopped=0\n",
            "Bracket: Iter 2.000: None | Iter 1.000: -3.258077301231085\n",
            "Resources requested: 1.0/4 CPUs, 0/0 GPUs, 0.0/2.33 GiB heap, 0.0/1.17 GiB objects\n",
            "Result logdir: /Users/sanduser/ray_results/DEFAULT_2021-12-01_19-14-50\n",
            "Number of trials: 1/1 (1 RUNNING)\n",
            "+---------------------+----------+-----------------+--------------+--------------+-----------+-----------+-----------+------+---------+-----------+----------------------+\n",
            "| Trial name          | status   | loc             | activation   |   batch_size |   dropout |   hidden1 |   hidden2 |   lr |    loss |    metric |   training_iteration |\n",
            "|---------------------+----------+-----------------+--------------+--------------+-----------+-----------+-----------+------+---------+-----------+----------------------|\n",
            "| DEFAULT_cf4e8_00000 | RUNNING  | 127.0.0.1:42139 | ReLU         |          128 |       0.2 |       256 |       128 | 0.05 | 3.25808 | 0.0463846 |                    1 |\n",
            "+---------------------+----------+-----------------+--------------+--------------+-----------+-----------+-----------+------+---------+-----------+----------------------+\n",
            "\n",
            "\n",
            "== Status ==\n",
            "Current time: 2021-12-01 19:16:47 (running for 00:01:56.84)\n",
            "Memory usage on this node: 5.9/8.0 GiB\n",
            "Using AsyncHyperBand: num_stopped=0\n",
            "Bracket: Iter 2.000: None | Iter 1.000: -3.258077301231085\n",
            "Resources requested: 1.0/4 CPUs, 0/0 GPUs, 0.0/2.33 GiB heap, 0.0/1.17 GiB objects\n",
            "Result logdir: /Users/sanduser/ray_results/DEFAULT_2021-12-01_19-14-50\n",
            "Number of trials: 1/1 (1 RUNNING)\n",
            "+---------------------+----------+-----------------+--------------+--------------+-----------+-----------+-----------+------+---------+-----------+----------------------+\n",
            "| Trial name          | status   | loc             | activation   |   batch_size |   dropout |   hidden1 |   hidden2 |   lr |    loss |    metric |   training_iteration |\n",
            "|---------------------+----------+-----------------+--------------+--------------+-----------+-----------+-----------+------+---------+-----------+----------------------|\n",
            "| DEFAULT_cf4e8_00000 | RUNNING  | 127.0.0.1:42139 | ReLU         |          128 |       0.2 |       256 |       128 | 0.05 | 3.25808 | 0.0463846 |                    1 |\n",
            "+---------------------+----------+-----------------+--------------+--------------+-----------+-----------+-----------+------+---------+-----------+----------------------+\n",
            "\n",
            "\n",
            "== Status ==\n",
            "Current time: 2021-12-01 19:16:52 (running for 00:02:01.86)\n",
            "Memory usage on this node: 5.9/8.0 GiB\n",
            "Using AsyncHyperBand: num_stopped=0\n",
            "Bracket: Iter 2.000: None | Iter 1.000: -3.258077301231085\n",
            "Resources requested: 1.0/4 CPUs, 0/0 GPUs, 0.0/2.33 GiB heap, 0.0/1.17 GiB objects\n",
            "Result logdir: /Users/sanduser/ray_results/DEFAULT_2021-12-01_19-14-50\n",
            "Number of trials: 1/1 (1 RUNNING)\n",
            "+---------------------+----------+-----------------+--------------+--------------+-----------+-----------+-----------+------+---------+-----------+----------------------+\n",
            "| Trial name          | status   | loc             | activation   |   batch_size |   dropout |   hidden1 |   hidden2 |   lr |    loss |    metric |   training_iteration |\n",
            "|---------------------+----------+-----------------+--------------+--------------+-----------+-----------+-----------+------+---------+-----------+----------------------|\n",
            "| DEFAULT_cf4e8_00000 | RUNNING  | 127.0.0.1:42139 | ReLU         |          128 |       0.2 |       256 |       128 | 0.05 | 3.25808 | 0.0463846 |                    1 |\n",
            "+---------------------+----------+-----------------+--------------+--------------+-----------+-----------+-----------+------+---------+-----------+----------------------+\n",
            "\n",
            "\n",
            "== Status ==\n",
            "Current time: 2021-12-01 19:16:57 (running for 00:02:06.88)\n",
            "Memory usage on this node: 6.0/8.0 GiB\n",
            "Using AsyncHyperBand: num_stopped=0\n",
            "Bracket: Iter 2.000: None | Iter 1.000: -3.258077301231085\n",
            "Resources requested: 1.0/4 CPUs, 0/0 GPUs, 0.0/2.33 GiB heap, 0.0/1.17 GiB objects\n",
            "Result logdir: /Users/sanduser/ray_results/DEFAULT_2021-12-01_19-14-50\n",
            "Number of trials: 1/1 (1 RUNNING)\n",
            "+---------------------+----------+-----------------+--------------+--------------+-----------+-----------+-----------+------+---------+-----------+----------------------+\n",
            "| Trial name          | status   | loc             | activation   |   batch_size |   dropout |   hidden1 |   hidden2 |   lr |    loss |    metric |   training_iteration |\n",
            "|---------------------+----------+-----------------+--------------+--------------+-----------+-----------+-----------+------+---------+-----------+----------------------|\n",
            "| DEFAULT_cf4e8_00000 | RUNNING  | 127.0.0.1:42139 | ReLU         |          128 |       0.2 |       256 |       128 | 0.05 | 3.25808 | 0.0463846 |                    1 |\n",
            "+---------------------+----------+-----------------+--------------+--------------+-----------+-----------+-----------+------+---------+-----------+----------------------+\n",
            "\n",
            "\n"
          ]
        },
        {
          "output_type": "stream",
          "name": "stderr",
          "text": [
            "2021-12-01 19:16:58,136\tWARNING tune.py:586 -- SIGINT received (e.g. via Ctrl+C), ending Ray Tune run. This will try to checkpoint the experiment state one last time. Press CTRL+C one more time (or send SIGINT/SIGKILL/SIGTERM) to skip. \n",
            "\u001b[2m\u001b[36m(pid=42139)\u001b[0m 2021-12-01 19:16:58,167\tERROR worker.py:425 -- SystemExit was raised from the worker\n",
            "\u001b[2m\u001b[36m(pid=42139)\u001b[0m Traceback (most recent call last):\n",
            "\u001b[2m\u001b[36m(pid=42139)\u001b[0m   File \"python/ray/_raylet.pyx\", line 692, in ray._raylet.task_execution_handler\n",
            "\u001b[2m\u001b[36m(pid=42139)\u001b[0m   File \"python/ray/_raylet.pyx\", line 521, in ray._raylet.execute_task\n",
            "\u001b[2m\u001b[36m(pid=42139)\u001b[0m   File \"python/ray/_raylet.pyx\", line 558, in ray._raylet.execute_task\n",
            "\u001b[2m\u001b[36m(pid=42139)\u001b[0m   File \"python/ray/_raylet.pyx\", line 565, in ray._raylet.execute_task\n",
            "\u001b[2m\u001b[36m(pid=42139)\u001b[0m   File \"python/ray/_raylet.pyx\", line 569, in ray._raylet.execute_task\n",
            "\u001b[2m\u001b[36m(pid=42139)\u001b[0m   File \"python/ray/_raylet.pyx\", line 519, in ray._raylet.execute_task.function_executor\n",
            "\u001b[2m\u001b[36m(pid=42139)\u001b[0m   File \"/Library/Frameworks/Python.framework/Versions/3.8/lib/python3.8/site-packages/ray/_private/function_manager.py\", line 576, in actor_method_executor\n",
            "\u001b[2m\u001b[36m(pid=42139)\u001b[0m     return method(__ray_actor, *args, **kwargs)\n",
            "\u001b[2m\u001b[36m(pid=42139)\u001b[0m   File \"/Library/Frameworks/Python.framework/Versions/3.8/lib/python3.8/site-packages/ray/util/tracing/tracing_helper.py\", line 451, in _resume_span\n",
            "\u001b[2m\u001b[36m(pid=42139)\u001b[0m     return method(self, *_args, **_kwargs)\n",
            "\u001b[2m\u001b[36m(pid=42139)\u001b[0m   File \"/Library/Frameworks/Python.framework/Versions/3.8/lib/python3.8/site-packages/ray/tune/trainable.py\", line 224, in train_buffered\n",
            "\u001b[2m\u001b[36m(pid=42139)\u001b[0m     result = self.train()\n",
            "\u001b[2m\u001b[36m(pid=42139)\u001b[0m   File \"/Library/Frameworks/Python.framework/Versions/3.8/lib/python3.8/site-packages/ray/util/tracing/tracing_helper.py\", line 451, in _resume_span\n",
            "\u001b[2m\u001b[36m(pid=42139)\u001b[0m     return method(self, *_args, **_kwargs)\n",
            "\u001b[2m\u001b[36m(pid=42139)\u001b[0m   File \"/Library/Frameworks/Python.framework/Versions/3.8/lib/python3.8/site-packages/ray/tune/trainable.py\", line 283, in train\n",
            "\u001b[2m\u001b[36m(pid=42139)\u001b[0m     result = self.step()\n",
            "\u001b[2m\u001b[36m(pid=42139)\u001b[0m   File \"/Library/Frameworks/Python.framework/Versions/3.8/lib/python3.8/site-packages/ray/util/tracing/tracing_helper.py\", line 451, in _resume_span\n",
            "\u001b[2m\u001b[36m(pid=42139)\u001b[0m     return method(self, *_args, **_kwargs)\n",
            "\u001b[2m\u001b[36m(pid=42139)\u001b[0m   File \"/Library/Frameworks/Python.framework/Versions/3.8/lib/python3.8/site-packages/ray/tune/function_runner.py\", line 363, in step\n",
            "\u001b[2m\u001b[36m(pid=42139)\u001b[0m     result = self._results_queue.get(\n",
            "\u001b[2m\u001b[36m(pid=42139)\u001b[0m   File \"/Library/Frameworks/Python.framework/Versions/3.8/lib/python3.8/queue.py\", line 179, in get\n",
            "\u001b[2m\u001b[36m(pid=42139)\u001b[0m     self.not_empty.wait(remaining)\n",
            "\u001b[2m\u001b[36m(pid=42139)\u001b[0m   File \"/Library/Frameworks/Python.framework/Versions/3.8/lib/python3.8/threading.py\", line 306, in wait\n",
            "\u001b[2m\u001b[36m(pid=42139)\u001b[0m     gotit = waiter.acquire(True, timeout)\n",
            "\u001b[2m\u001b[36m(pid=42139)\u001b[0m   File \"/Library/Frameworks/Python.framework/Versions/3.8/lib/python3.8/site-packages/ray/worker.py\", line 422, in sigterm_handler\n",
            "\u001b[2m\u001b[36m(pid=42139)\u001b[0m     sys.exit(1)\n",
            "\u001b[2m\u001b[36m(pid=42139)\u001b[0m SystemExit: 1\n",
            "\u001b[2m\u001b[36m(pid=42139)\u001b[0m [2021-12-01 19:16:58,181 C 42139 2827998] core_worker.cc:796:  Check failed: _s.ok() Bad status: IOError: Broken pipe\n",
            "\u001b[2m\u001b[36m(pid=42139)\u001b[0m *** StackTrace Information ***\n",
            "\u001b[2m\u001b[36m(pid=42139)\u001b[0m     ray::GetCallTrace()\n",
            "\u001b[2m\u001b[36m(pid=42139)\u001b[0m     ray::SpdLogMessage::Flush()\n",
            "\u001b[2m\u001b[36m(pid=42139)\u001b[0m     ray::SpdLogMessage::~SpdLogMessage()\n",
            "\u001b[2m\u001b[36m(pid=42139)\u001b[0m     ray::RayLog::~RayLog()\n",
            "\u001b[2m\u001b[36m(pid=42139)\u001b[0m     ray::core::CoreWorker::Exit()\n",
            "\u001b[2m\u001b[36m(pid=42139)\u001b[0m     ray::core::CoreWorker::ExecuteTask()\n",
            "\u001b[2m\u001b[36m(pid=42139)\u001b[0m     std::__1::__function::__func<>::operator()()\n",
            "\u001b[2m\u001b[36m(pid=42139)\u001b[0m     std::__1::__function::__func<>::operator()()\n",
            "\u001b[2m\u001b[36m(pid=42139)\u001b[0m     ray::core::InboundRequest::Accept()\n",
            "\u001b[2m\u001b[36m(pid=42139)\u001b[0m     ray::core::ActorSchedulingQueue::ScheduleRequests()\n",
            "\u001b[2m\u001b[36m(pid=42139)\u001b[0m     ray::core::ActorSchedulingQueue::Add()\n",
            "\u001b[2m\u001b[36m(pid=42139)\u001b[0m     ray::core::CoreWorkerDirectTaskReceiver::HandleTask()\n",
            "\u001b[2m\u001b[36m(pid=42139)\u001b[0m     std::__1::__function::__func<>::operator()()\n",
            "\u001b[2m\u001b[36m(pid=42139)\u001b[0m     boost::asio::detail::completion_handler<>::do_complete()\n",
            "\u001b[2m\u001b[36m(pid=42139)\u001b[0m     boost::asio::detail::scheduler::do_run_one()\n",
            "\u001b[2m\u001b[36m(pid=42139)\u001b[0m     boost::asio::detail::scheduler::run()\n",
            "\u001b[2m\u001b[36m(pid=42139)\u001b[0m     boost::asio::io_context::run()\n",
            "\u001b[2m\u001b[36m(pid=42139)\u001b[0m     ray::core::CoreWorkerProcess::RunTaskExecutionLoop()\n",
            "\u001b[2m\u001b[36m(pid=42139)\u001b[0m     __pyx_pw_3ray_7_raylet_10CoreWorker_9run_task_loop()\n",
            "\u001b[2m\u001b[36m(pid=42139)\u001b[0m     method_vectorcall_NOARGS\n",
            "\u001b[2m\u001b[36m(pid=42139)\u001b[0m     call_function\n",
            "\u001b[2m\u001b[36m(pid=42139)\u001b[0m     _PyEval_EvalFrameDefault\n",
            "\u001b[2m\u001b[36m(pid=42139)\u001b[0m     function_code_fastcall\n",
            "\u001b[2m\u001b[36m(pid=42139)\u001b[0m     call_function\n",
            "\u001b[2m\u001b[36m(pid=42139)\u001b[0m     _PyEval_EvalFrameDefault\n",
            "\u001b[2m\u001b[36m(pid=42139)\u001b[0m     _PyEval_EvalCodeWithName\n",
            "\u001b[2m\u001b[36m(pid=42139)\u001b[0m     PyEval_EvalCode\n",
            "\u001b[2m\u001b[36m(pid=42139)\u001b[0m     PyRun_FileExFlags\n",
            "\u001b[2m\u001b[36m(pid=42139)\u001b[0m     PyRun_SimpleFileExFlags\n",
            "\u001b[2m\u001b[36m(pid=42139)\u001b[0m     Py_RunMain\n",
            "\u001b[2m\u001b[36m(pid=42139)\u001b[0m     pymain_main\n",
            "\u001b[2m\u001b[36m(pid=42139)\u001b[0m     Py_BytesMain\n",
            "\u001b[2m\u001b[36m(pid=42139)\u001b[0m     start\n",
            "\u001b[2m\u001b[36m(pid=42139)\u001b[0m \n"
          ]
        },
        {
          "output_type": "stream",
          "name": "stdout",
          "text": [
            "== Status ==\n",
            "Current time: 2021-12-01 19:16:58 (running for 00:02:07.95)\n",
            "Memory usage on this node: 6.0/8.0 GiB\n",
            "Using AsyncHyperBand: num_stopped=0\n",
            "Bracket: Iter 2.000: None | Iter 1.000: -3.258077301231085\n",
            "Resources requested: 1.0/4 CPUs, 0/0 GPUs, 0.0/2.33 GiB heap, 0.0/1.17 GiB objects\n",
            "Result logdir: /Users/sanduser/ray_results/DEFAULT_2021-12-01_19-14-50\n",
            "Number of trials: 1/1 (1 RUNNING)\n",
            "+---------------------+----------+-----------------+--------------+--------------+-----------+-----------+-----------+------+---------+-----------+----------------------+\n",
            "| Trial name          | status   | loc             | activation   |   batch_size |   dropout |   hidden1 |   hidden2 |   lr |    loss |    metric |   training_iteration |\n",
            "|---------------------+----------+-----------------+--------------+--------------+-----------+-----------+-----------+------+---------+-----------+----------------------|\n",
            "| DEFAULT_cf4e8_00000 | RUNNING  | 127.0.0.1:42139 | ReLU         |          128 |       0.2 |       256 |       128 | 0.05 | 3.25808 | 0.0463846 |                    1 |\n",
            "+---------------------+----------+-----------------+--------------+--------------+-----------+-----------+-----------+------+---------+-----------+----------------------+\n",
            "\n",
            "\n"
          ]
        },
        {
          "output_type": "stream",
          "name": "stderr",
          "text": [
            "2021-12-01 19:16:58,364\tERROR tune.py:626 -- Trials did not complete: [DEFAULT_cf4e8_00000]\n",
            "2021-12-01 19:16:58,366\tINFO tune.py:630 -- Total run time: 128.28 seconds (127.94 seconds for the tuning loop).\n",
            "2021-12-01 19:16:58,367\tWARNING tune.py:634 -- Experiment has been interrupted, but the most recent state was saved. You can continue running this experiment by passing `resume=True` to `tune.run()`\n"
          ]
        },
        {
          "output_type": "stream",
          "name": "stdout",
          "text": [
            "Best trial config: {'hidden1': 256, 'hidden2': 128, 'activation': 'ReLU', 'dropout': 0.2, 'lr': 0.05, 'batch_size': 128}\n",
            "Best trial final validation loss: 3.258077301231085\n",
            "Best trial final validation metric: 0.046384615384615385\n"
          ]
        }
      ]
    }
  ]
}