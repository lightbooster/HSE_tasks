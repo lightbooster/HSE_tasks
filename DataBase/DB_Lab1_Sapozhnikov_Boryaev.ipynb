{
  "nbformat": 4,
  "nbformat_minor": 0,
  "metadata": {
    "colab": {
      "name": "DB_Lab1_Sapozhnikov_Boryaev.ipynb",
      "provenance": [],
      "collapsed_sections": [],
      "toc_visible": true
    },
    "kernelspec": {
      "name": "python3",
      "display_name": "Python 3"
    },
    "language_info": {
      "name": "python"
    }
  },
  "cells": [
    {
      "cell_type": "markdown",
      "metadata": {
        "id": "jkFfpLzDSnwd"
      },
      "source": [
        "# LAB-1\n",
        "**Sapozhnikov, Boryaev**"
      ]
    },
    {
      "cell_type": "markdown",
      "metadata": {
        "id": "iqQLWInaWfTz"
      },
      "source": [
        "## ReadMe\n",
        "* All tasks are made using SQLite3 and Python\n",
        "* Such decision has been made for convenient representation of work in one scrolled page with table of contents\n",
        "* Python is used only for sending SQL requests and making iterated insert utility \n",
        "* All SQL requests are in multi-line strings\n",
        "\n"
      ]
    },
    {
      "cell_type": "markdown",
      "metadata": {
        "id": "zRBRAdIfYFaS"
      },
      "source": [
        "# Python settings"
      ]
    },
    {
      "cell_type": "code",
      "metadata": {
        "id": "Xy3yAjvXT0wc"
      },
      "source": [
        "import sqlite3\n",
        "from tabulate import tabulate as tb"
      ],
      "execution_count": null,
      "outputs": []
    },
    {
      "cell_type": "code",
      "metadata": {
        "id": "hDaSuzGdZbLx"
      },
      "source": [
        "SQL_connection = sqlite3.connect('medical_info', check_same_thread=False)\n",
        "SQL_coursor = SQL_connection.cursor()"
      ],
      "execution_count": null,
      "outputs": []
    },
    {
      "cell_type": "code",
      "metadata": {
        "id": "1xBvfPuid3rs"
      },
      "source": [
        "def get_table_columns(table_name=''):\n",
        "  if table_name != '':\n",
        "    SQL_connection.cursor().execute(f\"SELECT * FROM {table_name}\")\n",
        "  return [description[0] for description in SQL_coursor.description]"
      ],
      "execution_count": null,
      "outputs": []
    },
    {
      "cell_type": "markdown",
      "metadata": {
        "id": "VMoJ3wq6mDTT"
      },
      "source": [
        "# Level 1"
      ]
    },
    {
      "cell_type": "markdown",
      "metadata": {
        "id": "CILN-Yqj2R0e"
      },
      "source": [
        "## Tasks 1-3"
      ]
    },
    {
      "cell_type": "code",
      "metadata": {
        "colab": {
          "base_uri": "https://localhost:8080/"
        },
        "id": "JL1oDwv2aOxi",
        "outputId": "4ec1ec38-967e-477d-a900-7a8b10cb1d2a"
      },
      "source": [
        "SQL_coursor.execute(\n",
        "      '''\n",
        "      CREATE TABLE IF NOT EXISTS MedPersons(\n",
        "      id INTEGER PRIMARY KEY,\n",
        "      last_name TEXT NOT NULL,\n",
        "      adress TEXT NOT NULL,\n",
        "      taxes REAL NOT NULL)\n",
        "      ''')"
      ],
      "execution_count": null,
      "outputs": [
        {
          "output_type": "execute_result",
          "data": {
            "text/plain": [
              "<sqlite3.Cursor at 0x7f07809d3570>"
            ]
          },
          "metadata": {
            "tags": []
          },
          "execution_count": 6
        }
      ]
    },
    {
      "cell_type": "code",
      "metadata": {
        "colab": {
          "base_uri": "https://localhost:8080/"
        },
        "id": "ga5Hp6sTa7PR",
        "outputId": "6d5d200b-51d8-49ea-f59f-71bd93515a50"
      },
      "source": [
        "result = SQL_coursor.execute(\n",
        "    '''\n",
        "    SELECT * FROM MedPersons\n",
        "    ''').fetchall()\n",
        "print(tb(result))"
      ],
      "execution_count": null,
      "outputs": [
        {
          "output_type": "stream",
          "text": [
            "\n"
          ],
          "name": "stdout"
        }
      ]
    },
    {
      "cell_type": "code",
      "metadata": {
        "colab": {
          "base_uri": "https://localhost:8080/"
        },
        "id": "TWjjAEFPcYn4",
        "outputId": "1ef549fc-ff6b-4b11-80e5-01d5f83c9a40"
      },
      "source": [
        "get_table_columns('MedPersons')"
      ],
      "execution_count": null,
      "outputs": [
        {
          "output_type": "execute_result",
          "data": {
            "text/plain": [
              "['id', 'last_name', 'adress', 'taxes']"
            ]
          },
          "metadata": {
            "tags": []
          },
          "execution_count": 8
        }
      ]
    },
    {
      "cell_type": "code",
      "metadata": {
        "id": "W6LL6MwukcYg"
      },
      "source": [
        "def insert_values(table_name: str, values: tuple):\n",
        "  if (len(values) <= 0):\n",
        "    print(\"ERROR: few values\")\n",
        "    return\n",
        "  values_str = \"\"\n",
        "  for value in values:\n",
        "    values_str += str(value) + ','\n",
        "  sql_string = f\"INSERT INTO {table_name} VALUES ({values_str[:-1]})\"\n",
        "  print(sql_string)\n",
        "  SQL_coursor.execute(sql_string)\n",
        "\n",
        "def insert_multiple_values(table_name: str, values_list: list):\n",
        "  for values in values_list:\n",
        "    insert_values(table_name, values)"
      ],
      "execution_count": null,
      "outputs": []
    },
    {
      "cell_type": "code",
      "metadata": {
        "colab": {
          "base_uri": "https://localhost:8080/"
        },
        "id": "UJgu5xuwlbZO",
        "outputId": "f7d5ae0a-60ec-4e51-ffeb-77ef369e1ea6"
      },
      "source": [
        "data = [(1, \"'Медина'\", \"'Вознесенское'\", 14),\n",
        "        (2, \"'Севастьянов'\", \"'Навашино'\", 14),\n",
        "        (3, \"'Бессонов'\", \"'Выкса'\", 10),\n",
        "        (4, \"'Губанов'\", \"'Выкса'\", 10),\n",
        "        (5, \"'Боева'\", \"'Починки'\", 5)]\n",
        "insert_multiple_values('MedPersons', data)"
      ],
      "execution_count": null,
      "outputs": [
        {
          "output_type": "stream",
          "text": [
            "INSERT INTO MedPersons VALUES (1,'Медина','Вознесенское',14)\n",
            "INSERT INTO MedPersons VALUES (2,'Севастьянов','Навашино',14)\n",
            "INSERT INTO MedPersons VALUES (3,'Бессонов','Выкса',10)\n",
            "INSERT INTO MedPersons VALUES (4,'Губанов','Выкса',10)\n",
            "INSERT INTO MedPersons VALUES (5,'Боева','Починки',5)\n"
          ],
          "name": "stdout"
        }
      ]
    },
    {
      "cell_type": "code",
      "metadata": {
        "colab": {
          "base_uri": "https://localhost:8080/"
        },
        "id": "JonSpIwfipk_",
        "outputId": "c0663e99-02b8-437e-bed3-f1884c4ae0b8"
      },
      "source": [
        "result = SQL_coursor.execute(\n",
        "    '''\n",
        "    SELECT * FROM MedPersons\n",
        "    ''').fetchall()\n",
        "print(tb(result, headers=get_table_columns()))"
      ],
      "execution_count": null,
      "outputs": [
        {
          "output_type": "stream",
          "text": [
            "  id  last_name    adress          taxes\n",
            "----  -----------  ------------  -------\n",
            "   1  Медина       Вознесенское       14\n",
            "   2  Севастьянов  Навашино           14\n",
            "   3  Бессонов     Выкса              10\n",
            "   4  Губанов      Выкса              10\n",
            "   5  Боева        Починки             5\n"
          ],
          "name": "stdout"
        }
      ]
    },
    {
      "cell_type": "code",
      "metadata": {
        "colab": {
          "base_uri": "https://localhost:8080/"
        },
        "id": "k45nTd2ColvW",
        "outputId": "74558284-3ade-4afd-f16b-92ba860617d1"
      },
      "source": [
        "SQL_coursor.execute(\n",
        "      '''\n",
        "      CREATE TABLE IF NOT EXISTS WorkPlace(\n",
        "      id INTEGER PRIMARY KEY,\n",
        "      institution TEXT NOT NULL,\n",
        "      adress TEXT NOT NULL,\n",
        "      budget_deduction REAL NOT NULL)\n",
        "      ''')"
      ],
      "execution_count": null,
      "outputs": [
        {
          "output_type": "execute_result",
          "data": {
            "text/plain": [
              "<sqlite3.Cursor at 0x7f07809d3570>"
            ]
          },
          "metadata": {
            "tags": []
          },
          "execution_count": 12
        }
      ]
    },
    {
      "cell_type": "code",
      "metadata": {
        "colab": {
          "base_uri": "https://localhost:8080/"
        },
        "id": "CsqqmU7ypEG-",
        "outputId": "f91bd917-87a4-44d9-f6e0-d2ee156b3f8e"
      },
      "source": [
        "data = [(1, \"'Районная больница'\", \"'Вознесенское'\", 10),\n",
        "        (2, \"'Травм. пункт'\", \"'Выкса'\", 3),\n",
        "        (3, \"'Больница'\", \"'Навашино'\", 4),\n",
        "        (4, \"'Род. дом'\", \"'Вознесенское'\", 12),\n",
        "        (5, \"'Больница'\", \"'Починки'\", 4),\n",
        "        (6, \"'Травм.пункт'\", \"'Лукояново'\", 3)]\n",
        "insert_multiple_values('WorkPlace', data)"
      ],
      "execution_count": null,
      "outputs": [
        {
          "output_type": "stream",
          "text": [
            "INSERT INTO WorkPlace VALUES (1,'Районная больница','Вознесенское',10)\n",
            "INSERT INTO WorkPlace VALUES (2,'Травм. пункт','Выкса',3)\n",
            "INSERT INTO WorkPlace VALUES (3,'Больница','Навашино',4)\n",
            "INSERT INTO WorkPlace VALUES (4,'Род. дом','Вознесенское',12)\n",
            "INSERT INTO WorkPlace VALUES (5,'Больница','Починки',4)\n",
            "INSERT INTO WorkPlace VALUES (6,'Травм.пункт','Лукояново',3)\n"
          ],
          "name": "stdout"
        }
      ]
    },
    {
      "cell_type": "code",
      "metadata": {
        "colab": {
          "base_uri": "https://localhost:8080/"
        },
        "id": "aNTvZD6Vpo7m",
        "outputId": "0613eeb6-08e0-437d-958b-3bb1f56ab50c"
      },
      "source": [
        "result = SQL_coursor.execute(\n",
        "    '''\n",
        "    SELECT * FROM WorkPlace\n",
        "    ''').fetchall()\n",
        "print(tb(result, headers=get_table_columns()))"
      ],
      "execution_count": null,
      "outputs": [
        {
          "output_type": "stream",
          "text": [
            "  id  institution        adress          budget_deduction\n",
            "----  -----------------  ------------  ------------------\n",
            "   1  Районная больница  Вознесенское                  10\n",
            "   2  Травм. пункт       Выкса                          3\n",
            "   3  Больница           Навашино                       4\n",
            "   4  Род. дом           Вознесенское                  12\n",
            "   5  Больница           Починки                        4\n",
            "   6  Травм.пункт        Лукояново                      3\n"
          ],
          "name": "stdout"
        }
      ]
    },
    {
      "cell_type": "code",
      "metadata": {
        "id": "R6vhL_OWp9jR",
        "colab": {
          "base_uri": "https://localhost:8080/"
        },
        "outputId": "120140b1-fd17-4c2e-face-86042e880fd9"
      },
      "source": [
        "SQL_coursor.execute(\n",
        "      '''\n",
        "      CREATE TABLE IF NOT EXISTS OperationTypes(\n",
        "      id INTEGER PRIMARY KEY,\n",
        "      name TEXT NOT NULL,\n",
        "      town TEXT NOT NULL,\n",
        "      amount INT NOT NULL,\n",
        "      price REAL NOT NULL)\n",
        "      ''')"
      ],
      "execution_count": null,
      "outputs": [
        {
          "output_type": "execute_result",
          "data": {
            "text/plain": [
              "<sqlite3.Cursor at 0x7f07809d3570>"
            ]
          },
          "metadata": {
            "tags": []
          },
          "execution_count": 15
        }
      ]
    },
    {
      "cell_type": "code",
      "metadata": {
        "colab": {
          "base_uri": "https://localhost:8080/"
        },
        "id": "a6xIHdw-t8Jf",
        "outputId": "5e6c93a7-93fb-47db-fdca-edb6753d79e0"
      },
      "source": [
        "data = [(1, \"'Наложение гипса'\", \"'Выкса'\", 2000, 18000),\n",
        "        (2, \"'Блокада'\", \"'Навашино'\", 10000, 14000),\n",
        "        (3, \"'Инъекция поливитаминов'\", \"'Навашино'\", 20000, 11000),\n",
        "        (4, \"'Инъекция алоэ'\", \"'Навашино'\", 12000,\t11000),\n",
        "        (5, \"'ЭКГ'\", \"'Вознесенское'\", 115,\t10000),\n",
        "        (6, \"'УЗИ'\", \"'Вознесенское'\", 20, 30000),\n",
        "        (7, \"'Флюорография'\", \"'Выкса'\", 1000,\t5000)]\n",
        "\n",
        "insert_multiple_values('OperationTypes', data)"
      ],
      "execution_count": null,
      "outputs": [
        {
          "output_type": "stream",
          "text": [
            "INSERT INTO OperationTypes VALUES (1,'Наложение гипса','Выкса',2000,18000)\n",
            "INSERT INTO OperationTypes VALUES (2,'Блокада','Навашино',10000,14000)\n",
            "INSERT INTO OperationTypes VALUES (3,'Инъекция поливитаминов','Навашино',20000,11000)\n",
            "INSERT INTO OperationTypes VALUES (4,'Инъекция алоэ','Навашино',12000,11000)\n",
            "INSERT INTO OperationTypes VALUES (5,'ЭКГ','Вознесенское',115,10000)\n",
            "INSERT INTO OperationTypes VALUES (6,'УЗИ','Вознесенское',20,30000)\n",
            "INSERT INTO OperationTypes VALUES (7,'Флюорография','Выкса',1000,5000)\n"
          ],
          "name": "stdout"
        }
      ]
    },
    {
      "cell_type": "code",
      "metadata": {
        "colab": {
          "base_uri": "https://localhost:8080/"
        },
        "id": "aCUnQsMpvcZ-",
        "outputId": "e8a1e531-7cab-41f9-ce7b-f132bb655ae7"
      },
      "source": [
        "result = SQL_coursor.execute(\n",
        "    '''\n",
        "    SELECT * FROM OperationTypes\n",
        "    ''').fetchall()\n",
        "print(tb(result, headers=get_table_columns()))"
      ],
      "execution_count": null,
      "outputs": [
        {
          "output_type": "stream",
          "text": [
            "  id  name                    town            amount    price\n",
            "----  ----------------------  ------------  --------  -------\n",
            "   1  Наложение гипса         Выкса             2000    18000\n",
            "   2  Блокада                 Навашино         10000    14000\n",
            "   3  Инъекция поливитаминов  Навашино         20000    11000\n",
            "   4  Инъекция алоэ           Навашино         12000    11000\n",
            "   5  ЭКГ                     Вознесенское       115    10000\n",
            "   6  УЗИ                     Вознесенское        20    30000\n",
            "   7  Флюорография            Выкса             1000     5000\n"
          ],
          "name": "stdout"
        }
      ]
    },
    {
      "cell_type": "code",
      "metadata": {
        "colab": {
          "base_uri": "https://localhost:8080/"
        },
        "id": "7DlRUAjXyPdc",
        "outputId": "d752ac66-ba15-4262-d3bd-7ca840e6ce2b"
      },
      "source": [
        "SQL_coursor.execute(\n",
        "      '''\n",
        "      CREATE TABLE IF NOT EXISTS LaborActivity(\n",
        "      id INTEGER PRIMARY KEY,\n",
        "      date TEXT NOT NULL,\n",
        "      med_person INT NOT NULL,\n",
        "      work_place INT NOT NULL,\n",
        "      operation_type INT NOT NULL,\n",
        "      amount INT NOT NULL,\n",
        "      salary REAL NOT NULL,\n",
        "      FOREIGN KEY (med_person) REFERENCES MedPersons(id),\n",
        "      FOREIGN KEY (work_place) REFERENCES WorkPlace(id),\n",
        "      FOREIGN KEY (operation_type) REFERENCES OperationTypes(id))\n",
        "      ''')"
      ],
      "execution_count": null,
      "outputs": [
        {
          "output_type": "execute_result",
          "data": {
            "text/plain": [
              "<sqlite3.Cursor at 0x7f07809d3570>"
            ]
          },
          "metadata": {
            "tags": []
          },
          "execution_count": 18
        }
      ]
    },
    {
      "cell_type": "code",
      "metadata": {
        "colab": {
          "base_uri": "https://localhost:8080/"
        },
        "id": "zIMKCT7_z0t6",
        "outputId": "22d27337-c126-433b-f85a-7453035fef52"
      },
      "source": [
        "data = [(51040, \"'Понедельник'\", 1, 1, 7,\t4, 20000),\n",
        "        (51041, \"'Понедельник'\", 3, 3, 6,\t1, 30000),\n",
        "        (51042, \"'Понедельник'\", 4, 3, 4,\t3, 33000),\n",
        "        (51043, \"'Понедельник'\", 4, 5, 1,\t2, 36000),\n",
        "        (51044, \"'Понедельник'\", 4, 4, 6,\t1, 30000),\n",
        "        (51045, \"'Среда'\", 2, 2, 5,\t3, 30000),\n",
        "        (51046, \"'Четверг'\", 3, 6, 4,\t4, 44000),\n",
        "        (51047, \"'Четверг'\", 4, 6, 2,\t1, 28000),\n",
        "        (51048, \"'Четверг'\", 5, 3, 3,\t4, 44000),\n",
        "        (51049, \"'Пятница'\", 2, 4, 5, 1, 10000),\n",
        "        (51050, \"'Пятница'\", 3, 6, 4, 2, 22000),\n",
        "        (51051, \"'Пятница'\", 3, 3, 1, 2, 36000),\n",
        "        (51052, \"'Пятница'\", 5, 3, 2, 1, 14000),\n",
        "        (51053, \"'Суббота'\", 3, 2, 7, 2, 10000),\n",
        "        (51054, \"'Суббота'\", 4, 6, 4, 1, 11000),\n",
        "        (51055, \"'Суббота'\", 5, 5, 4, 2, 22000),\n",
        "        (51056, \"'Суббота'\", 3, 6, 3, 2, 22000)]\n",
        "\n",
        "insert_multiple_values('LaborActivity', data)"
      ],
      "execution_count": null,
      "outputs": [
        {
          "output_type": "stream",
          "text": [
            "INSERT INTO LaborActivity VALUES (51040,'Понедельник',1,1,7,4,20000)\n",
            "INSERT INTO LaborActivity VALUES (51041,'Понедельник',3,3,6,1,30000)\n",
            "INSERT INTO LaborActivity VALUES (51042,'Понедельник',4,3,4,3,33000)\n",
            "INSERT INTO LaborActivity VALUES (51043,'Понедельник',4,5,1,2,36000)\n",
            "INSERT INTO LaborActivity VALUES (51044,'Понедельник',4,4,6,1,30000)\n",
            "INSERT INTO LaborActivity VALUES (51045,'Среда',2,2,5,3,30000)\n",
            "INSERT INTO LaborActivity VALUES (51046,'Четверг',3,6,4,4,44000)\n",
            "INSERT INTO LaborActivity VALUES (51047,'Четверг',4,6,2,1,28000)\n",
            "INSERT INTO LaborActivity VALUES (51048,'Четверг',5,3,3,4,44000)\n",
            "INSERT INTO LaborActivity VALUES (51049,'Пятница',2,4,5,1,10000)\n",
            "INSERT INTO LaborActivity VALUES (51050,'Пятница',3,6,4,2,22000)\n",
            "INSERT INTO LaborActivity VALUES (51051,'Пятница',3,3,1,2,36000)\n",
            "INSERT INTO LaborActivity VALUES (51052,'Пятница',5,3,2,1,14000)\n",
            "INSERT INTO LaborActivity VALUES (51053,'Суббота',3,2,7,2,10000)\n",
            "INSERT INTO LaborActivity VALUES (51054,'Суббота',4,6,4,1,11000)\n",
            "INSERT INTO LaborActivity VALUES (51055,'Суббота',5,5,4,2,22000)\n",
            "INSERT INTO LaborActivity VALUES (51056,'Суббота',3,6,3,2,22000)\n"
          ],
          "name": "stdout"
        }
      ]
    },
    {
      "cell_type": "code",
      "metadata": {
        "colab": {
          "base_uri": "https://localhost:8080/"
        },
        "id": "SiCFKrBU2BrJ",
        "outputId": "30a7199a-cba6-4207-e836-503b5ae1dee5"
      },
      "source": [
        "result = SQL_coursor.execute(\n",
        "    '''\n",
        "    SELECT * FROM LaborActivity\n",
        "    ''').fetchall()\n",
        "print(tb(result, headers=get_table_columns()))"
      ],
      "execution_count": null,
      "outputs": [
        {
          "output_type": "stream",
          "text": [
            "   id  date           med_person    work_place    operation_type    amount    salary\n",
            "-----  -----------  ------------  ------------  ----------------  --------  --------\n",
            "51040  Понедельник             1             1                 7         4     20000\n",
            "51041  Понедельник             3             3                 6         1     30000\n",
            "51042  Понедельник             4             3                 4         3     33000\n",
            "51043  Понедельник             4             5                 1         2     36000\n",
            "51044  Понедельник             4             4                 6         1     30000\n",
            "51045  Среда                   2             2                 5         3     30000\n",
            "51046  Четверг                 3             6                 4         4     44000\n",
            "51047  Четверг                 4             6                 2         1     28000\n",
            "51048  Четверг                 5             3                 3         4     44000\n",
            "51049  Пятница                 2             4                 5         1     10000\n",
            "51050  Пятница                 3             6                 4         2     22000\n",
            "51051  Пятница                 3             3                 1         2     36000\n",
            "51052  Пятница                 5             3                 2         1     14000\n",
            "51053  Суббота                 3             2                 7         2     10000\n",
            "51054  Суббота                 4             6                 4         1     11000\n",
            "51055  Суббота                 5             5                 4         2     22000\n",
            "51056  Суббота                 3             6                 3         2     22000\n"
          ],
          "name": "stdout"
        }
      ]
    },
    {
      "cell_type": "markdown",
      "metadata": {
        "id": "vzGownzA2gNU"
      },
      "source": [
        "## Task 4"
      ]
    },
    {
      "cell_type": "markdown",
      "metadata": {
        "id": "hamsFGTm23kz"
      },
      "source": [
        "a)"
      ]
    },
    {
      "cell_type": "code",
      "metadata": {
        "colab": {
          "base_uri": "https://localhost:8080/"
        },
        "id": "q3RVK_DJ2ZUj",
        "outputId": "e56d6fdf-8e30-4964-bf58-b7cff7f7c41c"
      },
      "source": [
        "result = SQL_coursor.execute(\n",
        "    '''\n",
        "    SELECT DISTINCT adress FROM MedPersons\n",
        "    ''').fetchall()\n",
        "print(tb(result, headers=get_table_columns()))"
      ],
      "execution_count": null,
      "outputs": [
        {
          "output_type": "stream",
          "text": [
            "adress\n",
            "------------\n",
            "Вознесенское\n",
            "Навашино\n",
            "Выкса\n",
            "Починки\n"
          ],
          "name": "stdout"
        }
      ]
    },
    {
      "cell_type": "markdown",
      "metadata": {
        "id": "8zFsJ9tZ25_n"
      },
      "source": [
        "b)"
      ]
    },
    {
      "cell_type": "code",
      "metadata": {
        "colab": {
          "base_uri": "https://localhost:8080/"
        },
        "id": "PbL9UYAo27Mb",
        "outputId": "c16c6e86-1564-49bf-dbcc-cae212ee7520"
      },
      "source": [
        "result = SQL_coursor.execute(\n",
        "    '''\n",
        "    SELECT DISTINCT institution FROM WorkPlace\n",
        "    ''').fetchall()\n",
        "print(tb(result, headers=get_table_columns()))"
      ],
      "execution_count": null,
      "outputs": [
        {
          "output_type": "stream",
          "text": [
            "institution\n",
            "-----------------\n",
            "Районная больница\n",
            "Травм. пункт\n",
            "Больница\n",
            "Род. дом\n",
            "Травм.пункт\n"
          ],
          "name": "stdout"
        }
      ]
    },
    {
      "cell_type": "markdown",
      "metadata": {
        "id": "zPBZYKEU3L1t"
      },
      "source": [
        "c)"
      ]
    },
    {
      "cell_type": "code",
      "metadata": {
        "colab": {
          "base_uri": "https://localhost:8080/"
        },
        "id": "NJpwjZFp3MpY",
        "outputId": "834b50a2-1c4e-4892-8204-02175b82e8d0"
      },
      "source": [
        "result = SQL_coursor.execute(\n",
        "    '''\n",
        "    SELECT DISTINCT date FROM LaborActivity\n",
        "    ''').fetchall()\n",
        "print(tb(result, headers=get_table_columns()))"
      ],
      "execution_count": null,
      "outputs": [
        {
          "output_type": "stream",
          "text": [
            "date\n",
            "-----------\n",
            "Понедельник\n",
            "Среда\n",
            "Четверг\n",
            "Пятница\n",
            "Суббота\n"
          ],
          "name": "stdout"
        }
      ]
    },
    {
      "cell_type": "markdown",
      "metadata": {
        "id": "ZSWWWxT23VuT"
      },
      "source": [
        "## Taks 5"
      ]
    },
    {
      "cell_type": "markdown",
      "metadata": {
        "id": "_j8NDc7T3a8A"
      },
      "source": [
        "a)"
      ]
    },
    {
      "cell_type": "code",
      "metadata": {
        "colab": {
          "base_uri": "https://localhost:8080/"
        },
        "id": "FS5-YkZP3XCH",
        "outputId": "7a6c5e64-beb4-4084-dcee-a53b3f5a0b66"
      },
      "source": [
        "result = SQL_coursor.execute(\n",
        "    '''\n",
        "    SELECT date, id FROM LaborActivity\n",
        "    WHERE salary >= 14000\n",
        "    ''').fetchall()\n",
        "print(tb(result, headers=get_table_columns()))"
      ],
      "execution_count": null,
      "outputs": [
        {
          "output_type": "stream",
          "text": [
            "date            id\n",
            "-----------  -----\n",
            "Понедельник  51040\n",
            "Понедельник  51041\n",
            "Понедельник  51042\n",
            "Понедельник  51043\n",
            "Понедельник  51044\n",
            "Среда        51045\n",
            "Четверг      51046\n",
            "Четверг      51047\n",
            "Четверг      51048\n",
            "Пятница      51050\n",
            "Пятница      51051\n",
            "Пятница      51052\n",
            "Суббота      51055\n",
            "Суббота      51056\n"
          ],
          "name": "stdout"
        }
      ]
    },
    {
      "cell_type": "markdown",
      "metadata": {
        "id": "-P3j4s6N4AB_"
      },
      "source": [
        "b)"
      ]
    },
    {
      "cell_type": "code",
      "metadata": {
        "colab": {
          "base_uri": "https://localhost:8080/"
        },
        "id": "CpU86-DN4A8_",
        "outputId": "4b0d956e-fe75-46b4-dedd-7d7c46871ab5"
      },
      "source": [
        "result = SQL_coursor.execute(\n",
        "    '''\n",
        "    SELECT DISTINCT taxes, adress FROM MedPersons\n",
        "    WHERE adress IN ('Выкса', 'Навашино');\n",
        "    ''').fetchall()\n",
        "print(tb(result, headers=get_table_columns()))"
      ],
      "execution_count": null,
      "outputs": [
        {
          "output_type": "stream",
          "text": [
            "  taxes  adress\n",
            "-------  --------\n",
            "     14  Навашино\n",
            "     10  Выкса\n"
          ],
          "name": "stdout"
        }
      ]
    },
    {
      "cell_type": "markdown",
      "metadata": {
        "id": "FYLaIPaB4rg4"
      },
      "source": [
        "c)"
      ]
    },
    {
      "cell_type": "code",
      "metadata": {
        "colab": {
          "base_uri": "https://localhost:8080/"
        },
        "id": "M54DAkdr4sNY",
        "outputId": "174c35a6-53e5-4071-ca5b-3323de1659bc"
      },
      "source": [
        "result = SQL_coursor.execute(\n",
        "    '''\n",
        "    SELECT DISTINCT name, price, town FROM OperationTypes\n",
        "    WHERE price > 10000 AND name LIKE '%Инъекция%'\n",
        "    ORDER BY town, price\n",
        "    ''').fetchall()\n",
        "print(tb(result, headers=get_table_columns()))"
      ],
      "execution_count": null,
      "outputs": [
        {
          "output_type": "stream",
          "text": [
            "name                      price  town\n",
            "----------------------  -------  --------\n",
            "Инъекция поливитаминов    11000  Навашино\n",
            "Инъекция алоэ             11000  Навашино\n"
          ],
          "name": "stdout"
        }
      ]
    },
    {
      "cell_type": "markdown",
      "metadata": {
        "id": "Tjsq2OTtVFHZ"
      },
      "source": [
        "## Task 6"
      ]
    },
    {
      "cell_type": "markdown",
      "metadata": {
        "id": "3t8-Lc6YbIFz"
      },
      "source": [
        "a)"
      ]
    },
    {
      "cell_type": "code",
      "metadata": {
        "colab": {
          "base_uri": "https://localhost:8080/"
        },
        "id": "P3cpNmKRVGwT",
        "outputId": "e2f028ab-55e3-4322-979a-73f0b41c4b95"
      },
      "source": [
        "result = SQL_coursor.execute(\n",
        "    '''\n",
        "    SELECT date, MedPersons.last_name, WorkPlace.institution, OperationTypes.name\n",
        "    FROM LaborActivity\n",
        "    JOIN MedPersons ON med_person == MedPersons.id\n",
        "    JOIN WorkPlace ON work_place == WorkPlace.id\n",
        "    JOIN OperationTypes ON operation_type == OperationTypes.id\n",
        "    ''').fetchall()\n",
        "print(tb(result, headers=get_table_columns()))"
      ],
      "execution_count": null,
      "outputs": [
        {
          "output_type": "stream",
          "text": [
            "date         last_name    institution        name\n",
            "-----------  -----------  -----------------  ----------------------\n",
            "Понедельник  Медина       Районная больница  Флюорография\n",
            "Понедельник  Бессонов     Больница           УЗИ\n",
            "Понедельник  Губанов      Больница           Инъекция алоэ\n",
            "Понедельник  Губанов      Больница           Наложение гипса\n",
            "Понедельник  Губанов      Род. дом           УЗИ\n",
            "Среда        Севастьянов  Травм. пункт       ЭКГ\n",
            "Четверг      Бессонов     Травм.пункт        Инъекция алоэ\n",
            "Четверг      Губанов      Травм.пункт        Блокада\n",
            "Четверг      Боева        Больница           Инъекция поливитаминов\n",
            "Пятница      Севастьянов  Род. дом           ЭКГ\n",
            "Пятница      Бессонов     Травм.пункт        Инъекция алоэ\n",
            "Пятница      Бессонов     Больница           Наложение гипса\n",
            "Пятница      Боева        Больница           Блокада\n",
            "Суббота      Бессонов     Травм. пункт       Флюорография\n",
            "Суббота      Губанов      Травм.пункт        Инъекция алоэ\n",
            "Суббота      Боева        Больница           Инъекция алоэ\n",
            "Суббота      Бессонов     Травм.пункт        Инъекция поливитаминов\n"
          ],
          "name": "stdout"
        }
      ]
    },
    {
      "cell_type": "markdown",
      "metadata": {
        "id": "PbtjC1PubJVk"
      },
      "source": [
        "b)"
      ]
    },
    {
      "cell_type": "code",
      "metadata": {
        "colab": {
          "base_uri": "https://localhost:8080/"
        },
        "id": "vWjuPk38bKN9",
        "outputId": "a064a8bd-8737-4d5c-b19e-fca536ac62b7"
      },
      "source": [
        "result = SQL_coursor.execute(\n",
        "    '''\n",
        "    SELECT LaborActivity.id, WorkPlace.institution, amount, salary\n",
        "    FROM LaborActivity\n",
        "    JOIN WorkPlace ON work_place == WorkPlace.id\n",
        "    ORDER BY salary\n",
        "    ''').fetchall()\n",
        "print(tb(result, headers=get_table_columns()))"
      ],
      "execution_count": null,
      "outputs": [
        {
          "output_type": "stream",
          "text": [
            "   id  institution          amount    salary\n",
            "-----  -----------------  --------  --------\n",
            "51049  Род. дом                  1     10000\n",
            "51053  Травм. пункт              2     10000\n",
            "51054  Травм.пункт               1     11000\n",
            "51052  Больница                  1     14000\n",
            "51040  Районная больница         4     20000\n",
            "51050  Травм.пункт               2     22000\n",
            "51055  Больница                  2     22000\n",
            "51056  Травм.пункт               2     22000\n",
            "51047  Травм.пункт               1     28000\n",
            "51041  Больница                  1     30000\n",
            "51044  Род. дом                  1     30000\n",
            "51045  Травм. пункт              3     30000\n",
            "51042  Больница                  3     33000\n",
            "51043  Больница                  2     36000\n",
            "51051  Больница                  2     36000\n",
            "51046  Травм.пункт               4     44000\n",
            "51048  Больница                  4     44000\n"
          ],
          "name": "stdout"
        }
      ]
    },
    {
      "cell_type": "markdown",
      "metadata": {
        "id": "WH3wC4ISbw9y"
      },
      "source": [
        "## Task 7"
      ]
    },
    {
      "cell_type": "markdown",
      "metadata": {
        "id": "317LWaqGcVSp"
      },
      "source": [
        "a)"
      ]
    },
    {
      "cell_type": "code",
      "metadata": {
        "colab": {
          "base_uri": "https://localhost:8080/"
        },
        "id": "trH65fX-by17",
        "outputId": "13745ddf-2389-41ea-982f-740c3ae4a5bd"
      },
      "source": [
        "result = SQL_coursor.execute(\n",
        "    '''\n",
        "    SELECT DISTINCT MedPersons.last_name, MedPersons.adress\n",
        "    FROM LaborActivity\n",
        "    JOIN MedPersons ON med_person == MedPersons.id\n",
        "    JOIN WorkPlace ON work_place == WorkPlace.id\n",
        "    WHERE operation_type == 1 AND amount > 1\n",
        "    ''').fetchall()\n",
        "print(tb(result, headers=get_table_columns()))"
      ],
      "execution_count": null,
      "outputs": [
        {
          "output_type": "stream",
          "text": [
            "last_name    adress\n",
            "-----------  --------\n",
            "Губанов      Выкса\n",
            "Бессонов     Выкса\n"
          ],
          "name": "stdout"
        }
      ]
    },
    {
      "cell_type": "markdown",
      "metadata": {
        "id": "sz36cNlPcWVZ"
      },
      "source": [
        "b)"
      ]
    },
    {
      "cell_type": "code",
      "metadata": {
        "colab": {
          "base_uri": "https://localhost:8080/"
        },
        "id": "sg7EG5U4cXp7",
        "outputId": "66e23375-ff81-4631-c8f7-328a0f1c5309"
      },
      "source": [
        "result = SQL_coursor.execute(\n",
        "    '''\n",
        "    SELECT DISTINCT OperationTypes.name\n",
        "    FROM LaborActivity\n",
        "    JOIN MedPersons ON med_person == MedPersons.id\n",
        "    JOIN WorkPlace ON work_place == WorkPlace.id\n",
        "    JOIN OperationTypes ON operation_type == OperationTypes.id\n",
        "    WHERE MedPersons.adress IN ('Вознесенское', 'Выкса')\n",
        "          AND (WorkPlace.institution LIKE '%Больница%' \n",
        "            OR WorkPlace.institution LIKE '%больница%')\n",
        "    ''').fetchall()\n",
        "print(tb(result, headers=get_table_columns()))"
      ],
      "execution_count": null,
      "outputs": [
        {
          "output_type": "stream",
          "text": [
            "name\n",
            "---------------\n",
            "Флюорография\n",
            "УЗИ\n",
            "Инъекция алоэ\n",
            "Наложение гипса\n"
          ],
          "name": "stdout"
        }
      ]
    },
    {
      "cell_type": "markdown",
      "metadata": {
        "id": "f4a6z1gCdw7j"
      },
      "source": [
        "с)"
      ]
    },
    {
      "cell_type": "code",
      "metadata": {
        "colab": {
          "base_uri": "https://localhost:8080/"
        },
        "id": "Pl2wP-GodyCK",
        "outputId": "cca1327b-347b-4c63-9cd7-b0fcd87454bf"
      },
      "source": [
        "result = SQL_coursor.execute(\n",
        "    '''\n",
        "    SELECT DISTINCT WorkPlace.institution, WorkPlace.budget_deduction, \n",
        "                    MedPersons.last_name\n",
        "    FROM LaborActivity\n",
        "    JOIN MedPersons ON med_person == MedPersons.id\n",
        "    JOIN WorkPlace ON work_place == WorkPlace.id\n",
        "    WHERE MedPersons.taxes BETWEEN 7 AND 16\n",
        "    ORDER BY WorkPlace.budget_deduction, MedPersons.taxes\n",
        "    ''').fetchall()\n",
        "print(tb(result, headers=get_table_columns()))"
      ],
      "execution_count": null,
      "outputs": [
        {
          "output_type": "stream",
          "text": [
            "institution          budget_deduction  last_name\n",
            "-----------------  ------------------  -----------\n",
            "Травм.пункт                         3  Бессонов\n",
            "Травм.пункт                         3  Губанов\n",
            "Травм. пункт                        3  Бессонов\n",
            "Травм. пункт                        3  Севастьянов\n",
            "Больница                            4  Бессонов\n",
            "Больница                            4  Губанов\n",
            "Районная больница                  10  Медина\n",
            "Род. дом                           12  Губанов\n",
            "Род. дом                           12  Севастьянов\n"
          ],
          "name": "stdout"
        }
      ]
    },
    {
      "cell_type": "markdown",
      "metadata": {
        "id": "jHdSVWpJfSI2"
      },
      "source": [
        "d)"
      ]
    },
    {
      "cell_type": "code",
      "metadata": {
        "colab": {
          "base_uri": "https://localhost:8080/"
        },
        "id": "7qEF2ConfTQO",
        "outputId": "4284c7cc-5018-4aaa-f3f0-f43518956465"
      },
      "source": [
        "result = SQL_coursor.execute(\n",
        "    '''\n",
        "    SELECT date, operation_type, MedPersons.last_name\n",
        "    FROM LaborActivity\n",
        "    JOIN MedPersons ON med_person == MedPersons.id\n",
        "    JOIN OperationTypes ON operation_type == OperationTypes.id\n",
        "    WHERE price >= 7000 AND LaborActivity.amount > 1\n",
        "    ''').fetchall()\n",
        "print(tb(result, headers=get_table_columns()))"
      ],
      "execution_count": 133,
      "outputs": [
        {
          "output_type": "stream",
          "text": [
            "date           operation_type  last_name\n",
            "-----------  ----------------  -----------\n",
            "Понедельник                 4  Губанов\n",
            "Понедельник                 1  Губанов\n",
            "Среда                       5  Севастьянов\n",
            "Четверг                     4  Бессонов\n",
            "Четверг                     3  Боева\n",
            "Пятница                     4  Бессонов\n",
            "Пятница                     1  Бессонов\n",
            "Суббота                     4  Боева\n",
            "Суббота                     3  Бессонов\n"
          ],
          "name": "stdout"
        }
      ]
    },
    {
      "cell_type": "markdown",
      "metadata": {
        "id": "cVNh5HdVgNd1"
      },
      "source": [
        "## Task 8"
      ]
    },
    {
      "cell_type": "code",
      "metadata": {
        "colab": {
          "base_uri": "https://localhost:8080/"
        },
        "id": "1kOtkGIWgQRt",
        "outputId": "f1c4dcf7-b0fe-4919-8ac2-bbdffae561f7"
      },
      "source": [
        "result = SQL_coursor.execute(\n",
        "    '''\n",
        "    UPDATE LaborActivity\n",
        "    SET salary = (SELECT salary * (1 - taxes / 100)\n",
        "                  FROM MedPersons\n",
        "                  WHERE med_person = MedPersons.id) \n",
        "    ''').fetchall()\n",
        "result = SQL_coursor.execute(\"SELECT * FROM LaborActivity\")\n",
        "print(tb(result, headers=get_table_columns()))"
      ],
      "execution_count": null,
      "outputs": [
        {
          "output_type": "stream",
          "text": [
            "   id  date           med_person    work_place    operation_type    amount    salary\n",
            "-----  -----------  ------------  ------------  ----------------  --------  --------\n",
            "51040  Понедельник             1             1                 7         4     17200\n",
            "51041  Понедельник             3             3                 6         1     27000\n",
            "51042  Понедельник             4             3                 4         3     29700\n",
            "51043  Понедельник             4             5                 1         2     32400\n",
            "51044  Понедельник             4             4                 6         1     27000\n",
            "51045  Среда                   2             2                 5         3     25800\n",
            "51046  Четверг                 3             6                 4         4     39600\n",
            "51047  Четверг                 4             6                 2         1     25200\n",
            "51048  Четверг                 5             3                 3         4     41800\n",
            "51049  Пятница                 2             4                 5         1      8600\n",
            "51050  Пятница                 3             6                 4         2     19800\n",
            "51051  Пятница                 3             3                 1         2     32400\n",
            "51052  Пятница                 5             3                 2         1     13300\n",
            "51053  Суббота                 3             2                 7         2      9000\n",
            "51054  Суббота                 4             6                 4         1      9900\n",
            "51055  Суббота                 5             5                 4         2     20900\n",
            "51056  Суббота                 3             6                 3         2     19800\n"
          ],
          "name": "stdout"
        }
      ]
    },
    {
      "cell_type": "markdown",
      "metadata": {
        "id": "zgVTBjzJjnCz"
      },
      "source": [
        "## Task 9"
      ]
    },
    {
      "cell_type": "code",
      "metadata": {
        "colab": {
          "base_uri": "https://localhost:8080/"
        },
        "id": "OswkjJHWjwp9",
        "outputId": "af29484b-90c3-4842-d8f8-dfb68037712b"
      },
      "source": [
        "SQL_coursor.execute(\"ALTER TABLE LaborActivity ADD COLUMN budget_deduction\")\n",
        "SQL_coursor.execute(\n",
        "    '''\n",
        "    UPDATE LaborActivity\n",
        "    SET budget_deduction = (SELECT WorkPlace.budget_deduction\n",
        "                            FROM WorkPlace\n",
        "                            WHERE work_place = WorkPlace.id) \n",
        "    ''')\n",
        "result = SQL_coursor.execute(\"SELECT * FROM LaborActivity\")\n",
        "print(tb(result, headers=get_table_columns()))"
      ],
      "execution_count": null,
      "outputs": [
        {
          "output_type": "stream",
          "text": [
            "   id  date           med_person    work_place    operation_type    amount    salary    budget_deduction\n",
            "-----  -----------  ------------  ------------  ----------------  --------  --------  ------------------\n",
            "51040  Понедельник             1             1                 7         4     17200                  10\n",
            "51041  Понедельник             3             3                 6         1     27000                   4\n",
            "51042  Понедельник             4             3                 4         3     29700                   4\n",
            "51043  Понедельник             4             5                 1         2     32400                   4\n",
            "51044  Понедельник             4             4                 6         1     27000                  12\n",
            "51045  Среда                   2             2                 5         3     25800                   3\n",
            "51046  Четверг                 3             6                 4         4     39600                   3\n",
            "51047  Четверг                 4             6                 2         1     25200                   3\n",
            "51048  Четверг                 5             3                 3         4     41800                   4\n",
            "51049  Пятница                 2             4                 5         1      8600                  12\n",
            "51050  Пятница                 3             6                 4         2     19800                   3\n",
            "51051  Пятница                 3             3                 1         2     32400                   4\n",
            "51052  Пятница                 5             3                 2         1     13300                   4\n",
            "51053  Суббота                 3             2                 7         2      9000                   3\n",
            "51054  Суббота                 4             6                 4         1      9900                   3\n",
            "51055  Суббота                 5             5                 4         2     20900                   4\n",
            "51056  Суббота                 3             6                 3         2     19800                   3\n"
          ],
          "name": "stdout"
        }
      ]
    },
    {
      "cell_type": "markdown",
      "metadata": {
        "id": "xsuqFNkVjrPU"
      },
      "source": [
        "# Level 2"
      ]
    },
    {
      "cell_type": "markdown",
      "metadata": {
        "id": "GyRRDQ_Ll8Qa"
      },
      "source": [
        "## Task 10"
      ]
    },
    {
      "cell_type": "markdown",
      "metadata": {
        "id": "ibpLLyyGmqX1"
      },
      "source": [
        "a)"
      ]
    },
    {
      "cell_type": "code",
      "metadata": {
        "colab": {
          "base_uri": "https://localhost:8080/"
        },
        "id": "DvZTtaAnjmeW",
        "outputId": "cbd78b7a-75ae-44ac-9ac7-c869ff6353e9"
      },
      "source": [
        "result = SQL_coursor.execute(\n",
        "    '''\n",
        "    SELECT last_name FROM MedPersons\n",
        "    WHERE adress == 'Навашино' \n",
        "    AND \n",
        "    id IN (SELECT med_person FROM LaborActivity\n",
        "           JOIN OperationTypes ON operation_type == OperationTypes.id\n",
        "           JOIN WorkPlace ON work_place == WorkPlace.id\n",
        "           WHERE (OperationTypes.name LIKE '%инъекция%'\n",
        "                  OR OperationTypes.name LIKE '%Инъекция%')\n",
        "           AND WorkPlace.adress == 'Выкса')\n",
        "    ''').fetchall()\n",
        "print(tb(result, headers=get_table_columns()))"
      ],
      "execution_count": null,
      "outputs": [
        {
          "output_type": "stream",
          "text": [
            "last_name\n",
            "-----------\n"
          ],
          "name": "stdout"
        }
      ]
    },
    {
      "cell_type": "markdown",
      "metadata": {
        "id": "8XImcpAz5VJi"
      },
      "source": [
        "b)"
      ]
    },
    {
      "cell_type": "code",
      "metadata": {
        "colab": {
          "base_uri": "https://localhost:8080/"
        },
        "id": "jGMV8QBJs23o",
        "outputId": "4ddc81dc-1d9b-459c-e92d-a0f738f8bc24"
      },
      "source": [
        "result = SQL_coursor.execute(\n",
        "    '''\n",
        "    SELECT DISTINCT operation_type FROM LaborActivity\n",
        "    WHERE date IN ('Понедельник','Вторник')\n",
        "    ''').fetchall()\n",
        "print(tb(result, headers=get_table_columns()))"
      ],
      "execution_count": null,
      "outputs": [
        {
          "output_type": "stream",
          "text": [
            "  operation_type\n",
            "----------------\n",
            "               7\n",
            "               6\n",
            "               4\n",
            "               1\n"
          ],
          "name": "stdout"
        }
      ]
    },
    {
      "cell_type": "code",
      "metadata": {
        "colab": {
          "base_uri": "https://localhost:8080/"
        },
        "id": "CuFjA1q0qGQ9",
        "outputId": "1a28ab07-fa7b-4f29-9358-80f148e61730"
      },
      "source": [
        "result = SQL_coursor.execute(\n",
        "    '''\n",
        "    SELECT DISTINCT OperationTypes.name FROM OperationTypes\n",
        "    JOIN LaborActivity ON OperationTypes.id == LaborActivity.operation_type\n",
        "    WHERE OperationTypes.id NOT IN (SELECT DISTINCT operation_type FROM LaborActivity\n",
        "                                    WHERE date IN ('Понедельник','Вторник'))\n",
        "    ''').fetchall()\n",
        "print(tb(result, headers=get_table_columns()))"
      ],
      "execution_count": null,
      "outputs": [
        {
          "output_type": "stream",
          "text": [
            "name\n",
            "----------------------\n",
            "ЭКГ\n",
            "Блокада\n",
            "Инъекция поливитаминов\n"
          ],
          "name": "stdout"
        }
      ]
    },
    {
      "cell_type": "markdown",
      "metadata": {
        "id": "UFg43wextYTQ"
      },
      "source": [
        "c)"
      ]
    },
    {
      "cell_type": "code",
      "metadata": {
        "id": "RgQEPy9itZSM",
        "colab": {
          "base_uri": "https://localhost:8080/"
        },
        "outputId": "5a5a524d-f830-4ad6-df95-aaf74828c283"
      },
      "source": [
        "result = SQL_coursor.execute(\n",
        "    '''\n",
        "    SELECT DISTINCT WorkPlace.institution, WorkPlace.budget_deduction, MedPersons.last_name\n",
        "    FROM LaborActivity\n",
        "    JOIN WorkPlace ON WorkPlace.id == LaborActivity.work_place\n",
        "    JOIN MedPersons ON MedPersons.id == LaborActivity.med_person\n",
        "    WHERE LaborActivity.med_person IN (SELECT id FROM MedPersons\n",
        "                                       WHERE taxes BETWEEN 7 AND 16)\n",
        "    ORDER BY WorkPlace.budget_deduction\n",
        "    ''').fetchall()\n",
        "print(\"7c\")\n",
        "print(tb(result, headers=get_table_columns()))"
      ],
      "execution_count": 128,
      "outputs": [
        {
          "output_type": "stream",
          "text": [
            "7c\n",
            "institution          budget_deduction  last_name\n",
            "-----------------  ------------------  -----------\n",
            "Травм. пункт                        3  Севастьянов\n",
            "Травм.пункт                         3  Бессонов\n",
            "Травм.пункт                         3  Губанов\n",
            "Травм. пункт                        3  Бессонов\n",
            "Больница                            4  Бессонов\n",
            "Больница                            4  Губанов\n",
            "Районная больница                  10  Медина\n",
            "Род. дом                           12  Губанов\n",
            "Род. дом                           12  Севастьянов\n"
          ],
          "name": "stdout"
        }
      ]
    },
    {
      "cell_type": "code",
      "metadata": {
        "colab": {
          "base_uri": "https://localhost:8080/"
        },
        "id": "PizZAAX3bHcG",
        "outputId": "26cdbb5e-50ad-43b7-c467-22e009ca1af1"
      },
      "source": [
        "result = SQL_coursor.execute(\n",
        "    '''\n",
        "    SELECT DISTINCT date, operation_type, MedPersons.last_name\n",
        "    FROM LaborActivity\n",
        "    JOIN MedPersons ON MedPersons.id == LaborActivity.med_person\n",
        "    WHERE amount > 1\n",
        "    AND operation_type IN (SELECT OperationTypes.id FROM OperationTypes\n",
        "                           WHERE price >= 7000)\n",
        "    ''').fetchall()\n",
        "print(\"7d\")\n",
        "print(tb(result, headers=get_table_columns()))"
      ],
      "execution_count": 130,
      "outputs": [
        {
          "output_type": "stream",
          "text": [
            "7d\n",
            "date           operation_type  last_name\n",
            "-----------  ----------------  -----------\n",
            "Понедельник                 4  Губанов\n",
            "Понедельник                 1  Губанов\n",
            "Среда                       5  Севастьянов\n",
            "Четверг                     4  Бессонов\n",
            "Четверг                     3  Боева\n",
            "Пятница                     4  Бессонов\n",
            "Пятница                     1  Бессонов\n",
            "Суббота                     4  Боева\n",
            "Суббота                     3  Бессонов\n"
          ],
          "name": "stdout"
        }
      ]
    },
    {
      "cell_type": "markdown",
      "metadata": {
        "id": "J6-ajwKCwolC"
      },
      "source": [
        "## Task 11"
      ]
    },
    {
      "cell_type": "markdown",
      "metadata": {
        "id": "WLciL_-Z4Fqv"
      },
      "source": [
        "**NOTE**: Cannot be executed because SQLite3 has no 'ANY', 'ALL' operators"
      ]
    },
    {
      "cell_type": "markdown",
      "metadata": {
        "id": "C2HVEG4o4Wi5"
      },
      "source": [
        "a)"
      ]
    },
    {
      "cell_type": "code",
      "metadata": {
        "id": "RjiPs9R5wqmO"
      },
      "source": [
        "# result = SQL_coursor.execute(\n",
        "#     '''\n",
        "#     SELECT institution FROM WorkPlace\n",
        "#     WHERE budget_deduction <= ALL (SELECT budget_deduction\n",
        "#                                    FROM WorkPlace)\n",
        "#     ''').fetchall()"
      ],
      "execution_count": null,
      "outputs": []
    },
    {
      "cell_type": "markdown",
      "metadata": {
        "id": "Xq6gfRM_4X_Z"
      },
      "source": [
        "b)"
      ]
    },
    {
      "cell_type": "code",
      "metadata": {
        "id": "Ms8tKYJd4VuT"
      },
      "source": [
        "# result = SQL_coursor.execute(\n",
        "#     '''\n",
        "#     SELECT last_name FROM MedPersons\n",
        "#     JOIN LaborActivity ON MedPersons.id = LaborActivity.med_personal\n",
        "#     WHERE LaborActivity.salary <= ALL (SELECT salary\n",
        "#                                        FROM LaborActivity)\n",
        "#     ''').fetchall()"
      ],
      "execution_count": null,
      "outputs": []
    },
    {
      "cell_type": "markdown",
      "metadata": {
        "id": "kDAJLMFJ5IBr"
      },
      "source": [
        "c)"
      ]
    },
    {
      "cell_type": "code",
      "metadata": {
        "id": "Hc3sIao35Jhw"
      },
      "source": [
        "# result = SQL_coursor.execute(\n",
        "#     '''\n",
        "#     SELECT name, price FROM OperationTypes\n",
        "#     WHERE OperationTypes.price >= ALL (SELECT price\n",
        "#                                        FROM OperationTypes\n",
        "#                                        JOIN LaborActivity ON \n",
        "#                                        OperationTypes.id = LaborActivity.operation_type\n",
        "#                                        WHERE LaborActivity.date IN ('Четверг', 'Пятница'))\n",
        "#     ''').fetchall()"
      ],
      "execution_count": null,
      "outputs": []
    },
    {
      "cell_type": "markdown",
      "metadata": {
        "id": "DHKlzRFl5iTn"
      },
      "source": [
        "d)"
      ]
    },
    {
      "cell_type": "code",
      "metadata": {
        "id": "LYa--ZeE5jgN"
      },
      "source": [
        "# result = SQL_coursor.execute(\n",
        "#     '''\n",
        "#     SELECT last_name, adress FROM MedPersons\n",
        "#     WHERE id = ANY (SELECT med_person FROM LaborActivity\n",
        "#                     WHERE operation_type = 1 AND amount > 1)\n",
        "#     ''').fetchall()"
      ],
      "execution_count": null,
      "outputs": []
    },
    {
      "cell_type": "markdown",
      "metadata": {
        "id": "oRFbXNkn7krW"
      },
      "source": [
        "## Task 12"
      ]
    },
    {
      "cell_type": "code",
      "metadata": {
        "colab": {
          "base_uri": "https://localhost:8080/"
        },
        "id": "iqQTdopI7nOx",
        "outputId": "367b4437-86fd-4b07-c47d-ffc2592257ce"
      },
      "source": [
        "result = SQL_coursor.execute(\n",
        "    '''\n",
        "    SELECT adress FROM MedPersons\n",
        "    UNION \n",
        "    SELECT town FROM OperationTypes\n",
        "    ''').fetchall()\n",
        "print(tb(result, headers=get_table_columns()))"
      ],
      "execution_count": null,
      "outputs": [
        {
          "output_type": "stream",
          "text": [
            "adress\n",
            "------------\n",
            "Вознесенское\n",
            "Выкса\n",
            "Навашино\n",
            "Починки\n"
          ],
          "name": "stdout"
        }
      ]
    },
    {
      "cell_type": "markdown",
      "metadata": {
        "id": "GkxGeLWU3Ko0"
      },
      "source": [
        "##Task 13\n"
      ]
    },
    {
      "cell_type": "markdown",
      "metadata": {
        "id": "frAAQ2Fk8zss"
      },
      "source": [
        "a)\n"
      ]
    },
    {
      "cell_type": "code",
      "metadata": {
        "colab": {
          "base_uri": "https://localhost:8080/"
        },
        "id": "JV7szRpH3OkZ",
        "outputId": "e7888afc-b3c6-48f6-b7e1-af3e21566026"
      },
      "source": [
        "result = SQL_coursor.execute(\n",
        "    '''\n",
        "    SELECT DISTINCT med_person AS mp_id\n",
        "    FROM LaborActivity\n",
        "    WHERE NOT EXISTS (SELECT med_person FROM LaborActivity\n",
        "                      WHERE date = 'Суббота' AND mp_id = med_person)\n",
        "    ''').fetchall()\n",
        "print(tb(result, headers=get_table_columns()))"
      ],
      "execution_count": null,
      "outputs": [
        {
          "output_type": "stream",
          "text": [
            "  mp_id\n",
            "-------\n",
            "      1\n",
            "      2\n"
          ],
          "name": "stdout"
        }
      ]
    },
    {
      "cell_type": "markdown",
      "metadata": {
        "id": "46WNp8x6BOVI"
      },
      "source": [
        "b)"
      ]
    },
    {
      "cell_type": "code",
      "metadata": {
        "colab": {
          "base_uri": "https://localhost:8080/"
        },
        "id": "dfKcvhu4BPVu",
        "outputId": "77993359-d966-4cdd-9156-f3d073cea306"
      },
      "source": [
        "result = SQL_coursor.execute(\n",
        "    '''\n",
        "    SELECT DISTINCT operation_type as opt_id\n",
        "    FROM LaborActivity\n",
        "    WHERE NOT EXISTS (SELECT DISTINCT med_person \n",
        "                      FROM LaborActivity\n",
        "                      JOIN WorkPlace ON work_place = WorkPlace.id\n",
        "                      WHERE WorkPlace.adress = 'Выкса'\n",
        "\n",
        "                      EXCEPT\n",
        "\n",
        "                      SELECT med_person FROM LaborActivity\n",
        "                      WHERE operation_type = opt_id)\n",
        "    ORDER BY opt_id\n",
        "    ''').fetchall()\n",
        "print(tb(result, headers=get_table_columns()))"
      ],
      "execution_count": null,
      "outputs": [
        {
          "output_type": "stream",
          "text": [
            "opt_id\n",
            "--------\n"
          ],
          "name": "stdout"
        }
      ]
    },
    {
      "cell_type": "code",
      "metadata": {
        "colab": {
          "base_uri": "https://localhost:8080/"
        },
        "id": "nBUu6NALHFpq",
        "outputId": "d2ffcf45-2cca-4782-a8d8-e42678bf41c8"
      },
      "source": [
        "result = SQL_coursor.execute(\n",
        "    '''\n",
        "    SELECT DISTINCT med_person \n",
        "    FROM LaborActivity\n",
        "    JOIN WorkPlace ON work_place = WorkPlace.id\n",
        "    WHERE WorkPlace.adress = 'Выкса'\n",
        "    ''').fetchall()\n",
        "print(\"Все врачи, которые работают в Выксе:\")\n",
        "print(tb(result, headers=get_table_columns()))"
      ],
      "execution_count": null,
      "outputs": [
        {
          "output_type": "stream",
          "text": [
            "Все врачи, которые работают в Выксе:\n",
            "  med_person\n",
            "------------\n",
            "           2\n",
            "           3\n"
          ],
          "name": "stdout"
        }
      ]
    },
    {
      "cell_type": "code",
      "metadata": {
        "colab": {
          "base_uri": "https://localhost:8080/"
        },
        "id": "nsZ4e4V0HTYz",
        "outputId": "4e55e10c-c93b-4a21-e473-59e6d29537db"
      },
      "source": [
        "result = SQL_coursor.execute(\n",
        "    '''\n",
        "    SELECT DISTINCT operation_type FROM LaborActivity\n",
        "    WHERE med_person = 2\n",
        "    ''').fetchall()\n",
        "print(\"Операции, которые делал 2й врач:\")\n",
        "print(tb(result, headers=get_table_columns()))\n",
        "#\n",
        "result = SQL_coursor.execute(\n",
        "    '''\n",
        "    SELECT DISTINCT operation_type FROM LaborActivity\n",
        "    WHERE med_person = 3\n",
        "    ''').fetchall()\n",
        "print(\"Операции, которые делал 3й врач:\")\n",
        "print(tb(result, headers=get_table_columns()))"
      ],
      "execution_count": null,
      "outputs": [
        {
          "output_type": "stream",
          "text": [
            "Операции, которые делал 2й врач:\n",
            "  operation_type\n",
            "----------------\n",
            "               5\n",
            "Операции, которые делал 3й врач:\n",
            "  operation_type\n",
            "----------------\n",
            "               6\n",
            "               4\n",
            "               1\n",
            "               7\n",
            "               3\n"
          ],
          "name": "stdout"
        }
      ]
    },
    {
      "cell_type": "markdown",
      "metadata": {
        "id": "ng9m_YwpIMTL"
      },
      "source": [
        "**Вывод**: так как нам надо найти операцию, которую делали оба врача из Выксы,  \n",
        "то необходимо, чтобы 2й врач сделал одну из операций в списке 3го или наоборот\n",
        "\n",
        "\n"
      ]
    },
    {
      "cell_type": "markdown",
      "metadata": {
        "id": "LbHipEQJ9Mnk"
      },
      "source": [
        "c)"
      ]
    },
    {
      "cell_type": "code",
      "metadata": {
        "colab": {
          "base_uri": "https://localhost:8080/"
        },
        "id": "uBg0alGA9N3H",
        "outputId": "79fd1d3e-12cd-43ed-faee-29af31b6bade"
      },
      "source": [
        "result = SQL_coursor.execute(\n",
        "    '''\n",
        "    SELECT DISTINCT work_place as wp_id\n",
        "    FROM LaborActivity\n",
        "    WHERE NOT EXISTS (SELECT work_place FROM LaborActivity\n",
        "                      WHERE operation_type = 6\n",
        "                      AND amount > 1\n",
        "                      AND work_place = wp_id)\n",
        "    ORDER BY wp_id\n",
        "    ''').fetchall()\n",
        "print(tb(result, headers=get_table_columns()))"
      ],
      "execution_count": null,
      "outputs": [
        {
          "output_type": "stream",
          "text": [
            "  wp_id\n",
            "-------\n",
            "      1\n",
            "      2\n",
            "      3\n",
            "      4\n",
            "      5\n",
            "      6\n"
          ],
          "name": "stdout"
        }
      ]
    },
    {
      "cell_type": "markdown",
      "metadata": {
        "id": "esdqeLEzBRLq"
      },
      "source": [
        "d)"
      ]
    },
    {
      "cell_type": "code",
      "metadata": {
        "colab": {
          "base_uri": "https://localhost:8080/"
        },
        "id": "5uHO-0akBSSs",
        "outputId": "abdf46f1-261d-4162-d3cc-77dcc7fa0f58"
      },
      "source": [
        "result = SQL_coursor.execute(\n",
        "    '''\n",
        "    SELECT DISTINCT work_place as wp_id\n",
        "    FROM LaborActivity\n",
        "    WHERE NOT EXISTS (SELECT DISTINCT med_person \n",
        "                      FROM LaborActivity\n",
        "                      WHERE work_place = wp_id\n",
        "\n",
        "                      EXCEPT\n",
        "\n",
        "                      SELECT med_person FROM LaborActivity\n",
        "                      JOIN MedPersons ON med_person = MedPersons.id\n",
        "                      JOIN WorkPlace ON work_place = WorkPlace.id\n",
        "                      WHERE WorkPlace.adress != MedPersons.adress\n",
        "                      AND work_place = wp_id)\n",
        "    ORDER BY wp_id\n",
        "    ''').fetchall()\n",
        "print(tb(result, headers=get_table_columns()))"
      ],
      "execution_count": null,
      "outputs": [
        {
          "output_type": "stream",
          "text": [
            "  wp_id\n",
            "-------\n",
            "      3\n",
            "      4\n",
            "      6\n"
          ],
          "name": "stdout"
        }
      ]
    },
    {
      "cell_type": "markdown",
      "metadata": {
        "id": "onYy-eXUJgrz"
      },
      "source": [
        "## Task 14"
      ]
    },
    {
      "cell_type": "markdown",
      "metadata": {
        "id": "eO5YcuU2K0rG"
      },
      "source": [
        "a)"
      ]
    },
    {
      "cell_type": "code",
      "metadata": {
        "colab": {
          "base_uri": "https://localhost:8080/"
        },
        "id": "39Gf5RqLKBjk",
        "outputId": "09cc5a01-d9b8-41a2-a3fd-f7c7428f95da"
      },
      "source": [
        "result = SQL_coursor.execute(\n",
        "    '''\n",
        "    SELECT COUNT(DISTINCT work_place) AS unique_work_places_num\n",
        "    FROM LaborActivity\n",
        "    WHERE med_person IN (SELECT DISTINCT med_person \n",
        "                         FROM LaborActivity\n",
        "                         JOIN WorkPlace ON work_place = WorkPlace.id\n",
        "                         WHERE WorkPlace.adress = 'Выкса')\n",
        "    ''').fetchall()\n",
        "print(tb(result, headers=get_table_columns()))"
      ],
      "execution_count": null,
      "outputs": [
        {
          "output_type": "stream",
          "text": [
            "  unique_work_places_num\n",
            "------------------------\n",
            "                       4\n"
          ],
          "name": "stdout"
        }
      ]
    },
    {
      "cell_type": "markdown",
      "metadata": {
        "id": "hQrRg_xfK1oK"
      },
      "source": [
        "b)"
      ]
    },
    {
      "cell_type": "code",
      "metadata": {
        "colab": {
          "base_uri": "https://localhost:8080/"
        },
        "id": "JbDBqmeCL9D5",
        "outputId": "866e93ba-ce8b-4317-d449-c79b42bb3941"
      },
      "source": [
        "result = SQL_coursor.execute(\n",
        "    '''\n",
        "    SELECT DISTINCT med_person, taxes\n",
        "    FROM LaborActivity\n",
        "    JOIN OperationTypes ON operation_type = OperationTypes.id\n",
        "    JOIN MedPersons ON med_person = MedPersons.id\n",
        "    WHERE (OperationTypes.name LIKE '%инъекция%'\n",
        "          OR OperationTypes.name LIKE '%Инъекция%')\n",
        "    ''').fetchall()\n",
        "print(\"Врачи, делающие инъекции, и их налоги:\")\n",
        "print(tb(result, headers=get_table_columns()))"
      ],
      "execution_count": null,
      "outputs": [
        {
          "output_type": "stream",
          "text": [
            "Врачи, делающие инъекции, и их налоги:\n",
            "  med_person    taxes\n",
            "------------  -------\n",
            "           4       10\n",
            "           3       10\n",
            "           5        5\n"
          ],
          "name": "stdout"
        }
      ]
    },
    {
      "cell_type": "code",
      "metadata": {
        "colab": {
          "base_uri": "https://localhost:8080/"
        },
        "id": "CLy-THVEK2OC",
        "outputId": "2f7bfda2-f68a-4426-c424-b8cdde31681c"
      },
      "source": [
        "result = SQL_coursor.execute(\n",
        "    '''\n",
        "    SELECT AVG(taxes)\n",
        "    FROM (SELECT DISTINCT med_person, taxes\n",
        "          FROM LaborActivity\n",
        "          JOIN OperationTypes ON operation_type = OperationTypes.id\n",
        "          JOIN MedPersons ON med_person = MedPersons.id\n",
        "          WHERE (OperationTypes.name LIKE '%инъекция%'\n",
        "                OR OperationTypes.name LIKE '%Инъекция%'))\n",
        "    ''').fetchall()\n",
        "print(\"Средний налог таких врачей:\")\n",
        "print(tb(result, headers=get_table_columns()))"
      ],
      "execution_count": null,
      "outputs": [
        {
          "output_type": "stream",
          "text": [
            "Средний налог таких врачей:\n",
            "  AVG(taxes)\n",
            "------------\n",
            "     8.33333\n"
          ],
          "name": "stdout"
        }
      ]
    },
    {
      "cell_type": "markdown",
      "metadata": {
        "id": "bUIRAE94MZIt"
      },
      "source": [
        "с)"
      ]
    },
    {
      "cell_type": "code",
      "metadata": {
        "colab": {
          "base_uri": "https://localhost:8080/"
        },
        "id": "JbH9fOFrMaER",
        "outputId": "7c364930-feef-4992-a06a-49f50de5aefc"
      },
      "source": [
        "result = SQL_coursor.execute(\n",
        "    '''\n",
        "    SELECT med_person\n",
        "    FROM (SELECT MIN(OperationTypes.price), LaborActivity.med_person\n",
        "          FROM LaborActivity\n",
        "          JOIN OperationTypes ON operation_type = OperationTypes.id)\n",
        "    ''').fetchall()\n",
        "print(\"Самый дешевый врач :D\")\n",
        "print(tb(result, headers=get_table_columns()))"
      ],
      "execution_count": null,
      "outputs": [
        {
          "output_type": "stream",
          "text": [
            "Самый дешевый врач :D\n",
            "  med_person\n",
            "------------\n",
            "           1\n"
          ],
          "name": "stdout"
        }
      ]
    },
    {
      "cell_type": "markdown",
      "metadata": {
        "id": "yDI95DnaNKeR"
      },
      "source": [
        "d)"
      ]
    },
    {
      "cell_type": "code",
      "metadata": {
        "colab": {
          "base_uri": "https://localhost:8080/"
        },
        "id": "zw4hrSceNlva",
        "outputId": "1c83d2bc-be03-4694-a974-60a83b75e5ef"
      },
      "source": [
        "result = SQL_coursor.execute(\n",
        "    '''\n",
        "    SELECT operation_type\n",
        "    FROM LaborActivity\n",
        "    JOIN OperationTypes ON operation_type = OperationTypes.id\n",
        "    JOIN MedPersons ON med_person = MedPersons.id\n",
        "    WHERE date = 'Понедельник' \n",
        "    AND MedPersons.last_name = 'Губанов'\n",
        "    AND OperationTypes.price <= 15000\n",
        "    ''').fetchall()\n",
        "print(\"Операции не дороже 15к, которые делал Губанов в Понедельник\")\n",
        "print(tb(result, headers=get_table_columns()))"
      ],
      "execution_count": null,
      "outputs": [
        {
          "output_type": "stream",
          "text": [
            "Операции не дороже 15к, которые делал Губанов в Понедельник\n",
            "  operation_type\n",
            "----------------\n",
            "               4\n"
          ],
          "name": "stdout"
        }
      ]
    },
    {
      "cell_type": "code",
      "metadata": {
        "colab": {
          "base_uri": "https://localhost:8080/"
        },
        "id": "1lcBtdgQNMh8",
        "outputId": "9ae780c4-02c7-4778-a925-7d28049e5a15"
      },
      "source": [
        "result = SQL_coursor.execute(\n",
        "    '''\n",
        "    SELECT SUM(amount) AS amount\n",
        "    FROM (SELECT LaborActivity.amount\n",
        "          FROM LaborActivity\n",
        "          JOIN OperationTypes ON operation_type = OperationTypes.id\n",
        "          JOIN MedPersons ON med_person = MedPersons.id\n",
        "          WHERE date = 'Понедельник' \n",
        "          AND MedPersons.last_name = 'Губанов'\n",
        "          AND OperationTypes.price <= 15000)\n",
        "    ''').fetchall()\n",
        "print(tb(result, headers=get_table_columns()))"
      ],
      "execution_count": null,
      "outputs": [
        {
          "output_type": "stream",
          "text": [
            "  amount\n",
            "--------\n",
            "       3\n"
          ],
          "name": "stdout"
        }
      ]
    },
    {
      "cell_type": "markdown",
      "metadata": {
        "id": "qvUhxku_O_Fk"
      },
      "source": [
        "## Task 15"
      ]
    },
    {
      "cell_type": "markdown",
      "metadata": {
        "id": "23iNdtA7Q9i9"
      },
      "source": [
        "a)"
      ]
    },
    {
      "cell_type": "code",
      "metadata": {
        "colab": {
          "base_uri": "https://localhost:8080/"
        },
        "id": "EkBk-vhwPBUR",
        "outputId": "c57ef379-2bf2-4d71-836f-d78dbe989bed"
      },
      "source": [
        "result = SQL_coursor.execute(\n",
        "    '''\n",
        "    SELECT date, operation_type, SUM(amount) AS amount\n",
        "    FROM LaborActivity\n",
        "    GROUP BY date, operation_type\n",
        "    ''').fetchall()\n",
        "print(tb(result, headers=get_table_columns()))"
      ],
      "execution_count": null,
      "outputs": [
        {
          "output_type": "stream",
          "text": [
            "date           operation_type    amount\n",
            "-----------  ----------------  --------\n",
            "Понедельник                 1         2\n",
            "Понедельник                 4         3\n",
            "Понедельник                 6         2\n",
            "Понедельник                 7         4\n",
            "Пятница                     1         2\n",
            "Пятница                     2         1\n",
            "Пятница                     4         2\n",
            "Пятница                     5         1\n",
            "Среда                       5         3\n",
            "Суббота                     3         2\n",
            "Суббота                     4         3\n",
            "Суббота                     7         2\n",
            "Четверг                     2         1\n",
            "Четверг                     3         4\n",
            "Четверг                     4         4\n"
          ],
          "name": "stdout"
        }
      ]
    },
    {
      "cell_type": "markdown",
      "metadata": {
        "id": "FclbLGfQQ-dQ"
      },
      "source": [
        "b)"
      ]
    },
    {
      "cell_type": "code",
      "metadata": {
        "colab": {
          "base_uri": "https://localhost:8080/"
        },
        "id": "TTq1c5JYRCnp",
        "outputId": "6310d414-ac61-4c1a-ee59-12c867c67c8c"
      },
      "source": [
        "result = SQL_coursor.execute(\n",
        "    '''\n",
        "    SELECT med_person, AVG(OperationTypes.price) AS average_price\n",
        "    FROM LaborActivity\n",
        "    JOIN OperationTypes ON operation_type = OperationTypes.id\n",
        "    GROUP BY med_person\n",
        "    ''').fetchall()\n",
        "print(\"Если считать средннюю стоимость операций, без учета их количества (по типу операций):\")\n",
        "print(tb(result, headers=get_table_columns()))"
      ],
      "execution_count": null,
      "outputs": [
        {
          "output_type": "stream",
          "text": [
            "Если считать средннюю стоимость операций, без учета их количества (по типу операций):\n",
            "  med_person    average_price\n",
            "------------  ---------------\n",
            "           1           5000\n",
            "           2          10000\n",
            "           3          14333.3\n",
            "           4          16800\n",
            "           5          12000\n"
          ],
          "name": "stdout"
        }
      ]
    },
    {
      "cell_type": "code",
      "metadata": {
        "colab": {
          "base_uri": "https://localhost:8080/"
        },
        "id": "-ykuR3YqTM_0",
        "outputId": "16c05674-2ddc-455a-c6d7-8df8f5695bbe"
      },
      "source": [
        "result = SQL_coursor.execute(\n",
        "    '''\n",
        "    SELECT med_person, \n",
        "    (SUM(OperationTypes.price * LaborActivity.amount) / SUM(LaborActivity.amount)) AS average_price\n",
        "    FROM LaborActivity\n",
        "    JOIN OperationTypes ON operation_type = OperationTypes.id\n",
        "    GROUP BY med_person\n",
        "    ''').fetchall()\n",
        "print(\"Если считать средннюю стоимость всех операций, проведенных врачом:\")\n",
        "print(tb(result, headers=get_table_columns()))"
      ],
      "execution_count": null,
      "outputs": [
        {
          "output_type": "stream",
          "text": [
            "Если считать средннюю стоимость всех операций, проведенных врачом:\n",
            "  med_person    average_price\n",
            "------------  ---------------\n",
            "           1           5000\n",
            "           2          10000\n",
            "           3          12615.4\n",
            "           4          15500\n",
            "           5          11428.6\n"
          ],
          "name": "stdout"
        }
      ]
    },
    {
      "cell_type": "markdown",
      "metadata": {
        "id": "XRnyl2RwUJb0"
      },
      "source": [
        "**NOTE**: мы не могли использовать поле 'LaborActivity.salary' , так как ранее вычли от туда налоги"
      ]
    },
    {
      "cell_type": "markdown",
      "metadata": {
        "id": "PdcKQharUXQr"
      },
      "source": [
        "c)"
      ]
    },
    {
      "cell_type": "code",
      "metadata": {
        "colab": {
          "base_uri": "https://localhost:8080/"
        },
        "id": "5tEmp-GmVQh5",
        "outputId": "b56d21e4-d534-4a62-8b4c-dfc24d77c780"
      },
      "source": [
        "result = SQL_coursor.execute(\n",
        "    '''\n",
        "    SELECT work_place, \n",
        "    SUM(OperationTypes.price * LaborActivity.amount) AS sum\n",
        "    FROM LaborActivity\n",
        "    JOIN OperationTypes ON operation_type = OperationTypes.id\n",
        "    GROUP BY work_place\n",
        "    ''').fetchall()\n",
        "print(tb(result, headers=get_table_columns()))"
      ],
      "execution_count": null,
      "outputs": [
        {
          "output_type": "stream",
          "text": [
            "  work_place     sum\n",
            "------------  ------\n",
            "           1   20000\n",
            "           2   40000\n",
            "           3  157000\n",
            "           4   40000\n",
            "           5   58000\n",
            "           6  113000\n"
          ],
          "name": "stdout"
        }
      ]
    },
    {
      "cell_type": "code",
      "metadata": {
        "colab": {
          "base_uri": "https://localhost:8080/"
        },
        "id": "TpwRMqOyUYea",
        "outputId": "83767c0c-3c22-47b9-eb0c-36bc79fa821a"
      },
      "source": [
        "result = SQL_coursor.execute(\n",
        "    '''\n",
        "    SELECT work_place\n",
        "    FROM (SELECT work_place, \n",
        "          SUM(OperationTypes.price * LaborActivity.amount) AS sum\n",
        "          FROM LaborActivity\n",
        "          JOIN OperationTypes ON operation_type = OperationTypes.id\n",
        "          GROUP BY work_place)\n",
        "    WHERE sum > 30000\n",
        "    ''').fetchall()\n",
        "print(tb(result, headers=get_table_columns()))"
      ],
      "execution_count": null,
      "outputs": [
        {
          "output_type": "stream",
          "text": [
            "  work_place\n",
            "------------\n",
            "           2\n",
            "           3\n",
            "           4\n",
            "           5\n",
            "           6\n"
          ],
          "name": "stdout"
        }
      ]
    },
    {
      "cell_type": "markdown",
      "metadata": {
        "id": "0CUUWXqJVYKL"
      },
      "source": [
        "d)"
      ]
    },
    {
      "cell_type": "code",
      "metadata": {
        "colab": {
          "base_uri": "https://localhost:8080/"
        },
        "id": "WJpPIfGKVY24",
        "outputId": "704d41c4-09d5-45e0-b4c5-2bda2b81e001"
      },
      "source": [
        "result = SQL_coursor.execute(\n",
        "    '''\n",
        "    SELECT date, SUM(amount) as common_amount\n",
        "    FROM LaborActivity\n",
        "    GROUP BY date\n",
        "    ORDER BY common_amount DESC\n",
        "    ''').fetchall()\n",
        "print(tb(result, headers=get_table_columns()))"
      ],
      "execution_count": null,
      "outputs": [
        {
          "output_type": "stream",
          "text": [
            "date           common_amount\n",
            "-----------  ---------------\n",
            "Понедельник               11\n",
            "Четверг                    9\n",
            "Суббота                    7\n",
            "Пятница                    6\n",
            "Среда                      3\n"
          ],
          "name": "stdout"
        }
      ]
    }
  ]
}